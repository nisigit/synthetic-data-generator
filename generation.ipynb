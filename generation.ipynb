{
 "cells": [
  {
   "cell_type": "code",
   "execution_count": 40,
   "metadata": {},
   "outputs": [],
   "source": [
    "import pandas as pd\n",
    "import numpy as np\n",
    "import matplotlib.pyplot as plt\n",
    "from matplotlib.lines import Line2D\n",
    "from sklearn.cluster import KMeans\n",
    "from scipy.stats import cauchy\n",
    "import powerlaw\n",
    "import networkx as nx\n",
    "import random\n",
    "from Person import Person\n",
    "from EnronEmail import EnronEmail\n",
    "from DegreeDistribution import DegreeDistribution"
   ]
  },
  {
   "cell_type": "code",
   "execution_count": 45,
   "metadata": {},
   "outputs": [],
   "source": [
    "emails = pd.read_csv('active_emails/active_emails.csv')"
   ]
  },
  {
   "cell_type": "code",
   "execution_count": 46,
   "metadata": {},
   "outputs": [
    {
     "data": {
      "text/html": [
       "<div>\n",
       "<style scoped>\n",
       "    .dataframe tbody tr th:only-of-type {\n",
       "        vertical-align: middle;\n",
       "    }\n",
       "\n",
       "    .dataframe tbody tr th {\n",
       "        vertical-align: top;\n",
       "    }\n",
       "\n",
       "    .dataframe thead th {\n",
       "        text-align: right;\n",
       "    }\n",
       "</style>\n",
       "<table border=\"1\" class=\"dataframe\">\n",
       "  <thead>\n",
       "    <tr style=\"text-align: right;\">\n",
       "      <th></th>\n",
       "      <th>sender</th>\n",
       "      <th>recipients</th>\n",
       "      <th>date</th>\n",
       "      <th>subject</th>\n",
       "      <th>message_id</th>\n",
       "      <th>day_of_week</th>\n",
       "      <th>hour_of_week</th>\n",
       "    </tr>\n",
       "  </thead>\n",
       "  <tbody>\n",
       "    <tr>\n",
       "      <th>0</th>\n",
       "      <td>chris.foster@enron.com</td>\n",
       "      <td>[kim.ward@enron.com]</td>\n",
       "      <td>2001-01-01 01:38:00+00:00</td>\n",
       "      <td>2001 natural gas forecast</td>\n",
       "      <td>&lt;29779853.1075851847407.JavaMail.evans@thyme&gt;</td>\n",
       "      <td>0</td>\n",
       "      <td>1</td>\n",
       "    </tr>\n",
       "    <tr>\n",
       "      <th>1</th>\n",
       "      <td>sue.nord@enron.com</td>\n",
       "      <td>[margo.reyna@enron.com]</td>\n",
       "      <td>2001-01-01 04:29:00+00:00</td>\n",
       "      <td>Re: CA Quarterly Fee Statement</td>\n",
       "      <td>&lt;28595177.1075843766562.JavaMail.evans@thyme&gt;</td>\n",
       "      <td>0</td>\n",
       "      <td>4</td>\n",
       "    </tr>\n",
       "    <tr>\n",
       "      <th>2</th>\n",
       "      <td>sue.nord@enron.com</td>\n",
       "      <td>[barbara.hueter@enron.com, jeff.dasovich@enron...</td>\n",
       "      <td>2001-01-01 04:59:00+00:00</td>\n",
       "      <td>Re: Ohio Telecommunications Legislation</td>\n",
       "      <td>&lt;17528586.1075843766536.JavaMail.evans@thyme&gt;</td>\n",
       "      <td>0</td>\n",
       "      <td>4</td>\n",
       "    </tr>\n",
       "    <tr>\n",
       "      <th>3</th>\n",
       "      <td>sheila.tweed@enron.com</td>\n",
       "      <td>[mark.haedicke@enron.com, elizabeth.sager@enro...</td>\n",
       "      <td>2001-01-01 05:11:00+00:00</td>\n",
       "      <td>Commission Hearings on Rate Stabilization Plan...</td>\n",
       "      <td>&lt;20708722.1075853232986.JavaMail.evans@thyme&gt;</td>\n",
       "      <td>0</td>\n",
       "      <td>5</td>\n",
       "    </tr>\n",
       "    <tr>\n",
       "      <th>4</th>\n",
       "      <td>john.arnold@enron.com</td>\n",
       "      <td>[john.lavorato@enron.com]</td>\n",
       "      <td>2001-01-01 08:36:00+00:00</td>\n",
       "      <td>Re:</td>\n",
       "      <td>&lt;27978344.1075857641184.JavaMail.evans@thyme&gt;</td>\n",
       "      <td>0</td>\n",
       "      <td>8</td>\n",
       "    </tr>\n",
       "    <tr>\n",
       "      <th>...</th>\n",
       "      <td>...</td>\n",
       "      <td>...</td>\n",
       "      <td>...</td>\n",
       "      <td>...</td>\n",
       "      <td>...</td>\n",
       "      <td>...</td>\n",
       "      <td>...</td>\n",
       "    </tr>\n",
       "    <tr>\n",
       "      <th>98236</th>\n",
       "      <td>system.administrator@enron.com</td>\n",
       "      <td>[elizabeth.sager@enron.com]</td>\n",
       "      <td>2001-12-31 23:00:06+00:00</td>\n",
       "      <td>Your mailbox is over its size limit</td>\n",
       "      <td>&lt;5967809.1075859126213.JavaMail.evans@thyme&gt;</td>\n",
       "      <td>0</td>\n",
       "      <td>23</td>\n",
       "    </tr>\n",
       "    <tr>\n",
       "      <th>98237</th>\n",
       "      <td>system.administrator@enron.com</td>\n",
       "      <td>[kay.mann@enron.com]</td>\n",
       "      <td>2001-12-31 23:00:11+00:00</td>\n",
       "      <td>Your mailbox is over its size limit</td>\n",
       "      <td>&lt;24436699.1075855246109.JavaMail.evans@thyme&gt;</td>\n",
       "      <td>0</td>\n",
       "      <td>23</td>\n",
       "    </tr>\n",
       "    <tr>\n",
       "      <th>98238</th>\n",
       "      <td>system.administrator@enron.com</td>\n",
       "      <td>[b..sanders@enron.com]</td>\n",
       "      <td>2001-12-31 23:00:14+00:00</td>\n",
       "      <td>Your mailbox is over its size limit</td>\n",
       "      <td>&lt;3308063.1075859457637.JavaMail.evans@thyme&gt;</td>\n",
       "      <td>0</td>\n",
       "      <td>23</td>\n",
       "    </tr>\n",
       "    <tr>\n",
       "      <th>98239</th>\n",
       "      <td>system.administrator@enron.com</td>\n",
       "      <td>[d..steffes@enron.com]</td>\n",
       "      <td>2001-12-31 23:00:34+00:00</td>\n",
       "      <td>Your mailbox is over its size limit</td>\n",
       "      <td>&lt;30237259.1075855209614.JavaMail.evans@thyme&gt;</td>\n",
       "      <td>0</td>\n",
       "      <td>23</td>\n",
       "    </tr>\n",
       "    <tr>\n",
       "      <th>98240</th>\n",
       "      <td>pete.davis@enron.com</td>\n",
       "      <td>[pete.davis@enron.com]</td>\n",
       "      <td>2001-12-31 23:56:37+00:00</td>\n",
       "      <td>Schedule Crawler: HourAhead Failure</td>\n",
       "      <td>&lt;31116492.1075839978010.JavaMail.evans@thyme&gt;</td>\n",
       "      <td>0</td>\n",
       "      <td>23</td>\n",
       "    </tr>\n",
       "  </tbody>\n",
       "</table>\n",
       "<p>98241 rows × 7 columns</p>\n",
       "</div>"
      ],
      "text/plain": [
       "                               sender  \\\n",
       "0              chris.foster@enron.com   \n",
       "1                  sue.nord@enron.com   \n",
       "2                  sue.nord@enron.com   \n",
       "3              sheila.tweed@enron.com   \n",
       "4               john.arnold@enron.com   \n",
       "...                               ...   \n",
       "98236  system.administrator@enron.com   \n",
       "98237  system.administrator@enron.com   \n",
       "98238  system.administrator@enron.com   \n",
       "98239  system.administrator@enron.com   \n",
       "98240            pete.davis@enron.com   \n",
       "\n",
       "                                              recipients  \\\n",
       "0                                   [kim.ward@enron.com]   \n",
       "1                                [margo.reyna@enron.com]   \n",
       "2      [barbara.hueter@enron.com, jeff.dasovich@enron...   \n",
       "3      [mark.haedicke@enron.com, elizabeth.sager@enro...   \n",
       "4                              [john.lavorato@enron.com]   \n",
       "...                                                  ...   \n",
       "98236                        [elizabeth.sager@enron.com]   \n",
       "98237                               [kay.mann@enron.com]   \n",
       "98238                             [b..sanders@enron.com]   \n",
       "98239                             [d..steffes@enron.com]   \n",
       "98240                             [pete.davis@enron.com]   \n",
       "\n",
       "                            date  \\\n",
       "0      2001-01-01 01:38:00+00:00   \n",
       "1      2001-01-01 04:29:00+00:00   \n",
       "2      2001-01-01 04:59:00+00:00   \n",
       "3      2001-01-01 05:11:00+00:00   \n",
       "4      2001-01-01 08:36:00+00:00   \n",
       "...                          ...   \n",
       "98236  2001-12-31 23:00:06+00:00   \n",
       "98237  2001-12-31 23:00:11+00:00   \n",
       "98238  2001-12-31 23:00:14+00:00   \n",
       "98239  2001-12-31 23:00:34+00:00   \n",
       "98240  2001-12-31 23:56:37+00:00   \n",
       "\n",
       "                                                 subject  \\\n",
       "0                              2001 natural gas forecast   \n",
       "1                         Re: CA Quarterly Fee Statement   \n",
       "2                Re: Ohio Telecommunications Legislation   \n",
       "3      Commission Hearings on Rate Stabilization Plan...   \n",
       "4                                                    Re:   \n",
       "...                                                  ...   \n",
       "98236                Your mailbox is over its size limit   \n",
       "98237                Your mailbox is over its size limit   \n",
       "98238                Your mailbox is over its size limit   \n",
       "98239                Your mailbox is over its size limit   \n",
       "98240                Schedule Crawler: HourAhead Failure   \n",
       "\n",
       "                                          message_id  day_of_week  \\\n",
       "0      <29779853.1075851847407.JavaMail.evans@thyme>            0   \n",
       "1      <28595177.1075843766562.JavaMail.evans@thyme>            0   \n",
       "2      <17528586.1075843766536.JavaMail.evans@thyme>            0   \n",
       "3      <20708722.1075853232986.JavaMail.evans@thyme>            0   \n",
       "4      <27978344.1075857641184.JavaMail.evans@thyme>            0   \n",
       "...                                              ...          ...   \n",
       "98236   <5967809.1075859126213.JavaMail.evans@thyme>            0   \n",
       "98237  <24436699.1075855246109.JavaMail.evans@thyme>            0   \n",
       "98238   <3308063.1075859457637.JavaMail.evans@thyme>            0   \n",
       "98239  <30237259.1075855209614.JavaMail.evans@thyme>            0   \n",
       "98240  <31116492.1075839978010.JavaMail.evans@thyme>            0   \n",
       "\n",
       "       hour_of_week  \n",
       "0                 1  \n",
       "1                 4  \n",
       "2                 4  \n",
       "3                 5  \n",
       "4                 8  \n",
       "...             ...  \n",
       "98236            23  \n",
       "98237            23  \n",
       "98238            23  \n",
       "98239            23  \n",
       "98240            23  \n",
       "\n",
       "[98241 rows x 7 columns]"
      ]
     },
     "execution_count": 46,
     "metadata": {},
     "output_type": "execute_result"
    }
   ],
   "source": [
    "emails['recipients'] = emails['recipients'].apply(lambda x: x.split(' '))\n",
    "emails"
   ]
  },
  {
   "cell_type": "code",
   "execution_count": 47,
   "metadata": {},
   "outputs": [
    {
     "name": "stdout",
     "output_type": "stream",
     "text": [
      "20565 14890 62786\n"
     ]
    }
   ],
   "source": [
    "num_replies = emails['subject'].str.startswith(\"RE:\").sum()\n",
    "num_forwards = emails['subject'].str.startswith((\"Fw:\", \"Fwd:\", \"FW:\")).sum()\n",
    "num_starters = len(emails) - num_replies - num_forwards\n",
    "\n",
    "print(num_replies, num_forwards, num_starters)"
   ]
  },
  {
   "cell_type": "code",
   "execution_count": 48,
   "metadata": {},
   "outputs": [
    {
     "name": "stdout",
     "output_type": "stream",
     "text": [
      "[0.32754117159876406, 0.23715477972796484]\n"
     ]
    }
   ],
   "source": [
    "probabilities = [num_replies, num_forwards]\n",
    "probabilities = [prob / num_starters for prob in probabilities]\n",
    "print(probabilities)"
   ]
  },
  {
   "cell_type": "code",
   "execution_count": 49,
   "metadata": {},
   "outputs": [
    {
     "name": "stderr",
     "output_type": "stream",
     "text": [
      "/var/folders/1w/ty9_z0y12r72xymhb930rg9h0000gn/T/ipykernel_78566/1484915781.py:1: UserWarning: The argument 'infer_datetime_format' is deprecated and will be removed in a future version. A strict version of it is now the default, see https://pandas.pydata.org/pdeps/0004-consistent-to-datetime-parsing.html. You can safely remove this argument.\n",
      "  emails['date'] = pd.to_datetime(emails['date'], utc=True, infer_datetime_format=True)\n"
     ]
    },
    {
     "data": {
      "text/html": [
       "<div>\n",
       "<style scoped>\n",
       "    .dataframe tbody tr th:only-of-type {\n",
       "        vertical-align: middle;\n",
       "    }\n",
       "\n",
       "    .dataframe tbody tr th {\n",
       "        vertical-align: top;\n",
       "    }\n",
       "\n",
       "    .dataframe thead th {\n",
       "        text-align: right;\n",
       "    }\n",
       "</style>\n",
       "<table border=\"1\" class=\"dataframe\">\n",
       "  <thead>\n",
       "    <tr style=\"text-align: right;\">\n",
       "      <th></th>\n",
       "      <th>sender</th>\n",
       "      <th>recipients</th>\n",
       "      <th>date</th>\n",
       "      <th>subject</th>\n",
       "      <th>message_id</th>\n",
       "      <th>day_of_week</th>\n",
       "      <th>hour_of_week</th>\n",
       "    </tr>\n",
       "  </thead>\n",
       "  <tbody>\n",
       "    <tr>\n",
       "      <th>0</th>\n",
       "      <td>chris.foster@enron.com</td>\n",
       "      <td>[kim.ward@enron.com]</td>\n",
       "      <td>2001-01-01 01:38:00+00:00</td>\n",
       "      <td>2001 natural gas forecast</td>\n",
       "      <td>&lt;29779853.1075851847407.JavaMail.evans@thyme&gt;</td>\n",
       "      <td>0</td>\n",
       "      <td>1</td>\n",
       "    </tr>\n",
       "    <tr>\n",
       "      <th>1</th>\n",
       "      <td>sue.nord@enron.com</td>\n",
       "      <td>[margo.reyna@enron.com]</td>\n",
       "      <td>2001-01-01 04:29:00+00:00</td>\n",
       "      <td>Re: CA Quarterly Fee Statement</td>\n",
       "      <td>&lt;28595177.1075843766562.JavaMail.evans@thyme&gt;</td>\n",
       "      <td>0</td>\n",
       "      <td>4</td>\n",
       "    </tr>\n",
       "    <tr>\n",
       "      <th>2</th>\n",
       "      <td>sue.nord@enron.com</td>\n",
       "      <td>[barbara.hueter@enron.com, jeff.dasovich@enron...</td>\n",
       "      <td>2001-01-01 04:59:00+00:00</td>\n",
       "      <td>Re: Ohio Telecommunications Legislation</td>\n",
       "      <td>&lt;17528586.1075843766536.JavaMail.evans@thyme&gt;</td>\n",
       "      <td>0</td>\n",
       "      <td>4</td>\n",
       "    </tr>\n",
       "    <tr>\n",
       "      <th>3</th>\n",
       "      <td>sheila.tweed@enron.com</td>\n",
       "      <td>[mark.haedicke@enron.com, elizabeth.sager@enro...</td>\n",
       "      <td>2001-01-01 05:11:00+00:00</td>\n",
       "      <td>Commission Hearings on Rate Stabilization Plan...</td>\n",
       "      <td>&lt;20708722.1075853232986.JavaMail.evans@thyme&gt;</td>\n",
       "      <td>0</td>\n",
       "      <td>5</td>\n",
       "    </tr>\n",
       "    <tr>\n",
       "      <th>4</th>\n",
       "      <td>john.arnold@enron.com</td>\n",
       "      <td>[john.lavorato@enron.com]</td>\n",
       "      <td>2001-01-01 08:36:00+00:00</td>\n",
       "      <td>Re:</td>\n",
       "      <td>&lt;27978344.1075857641184.JavaMail.evans@thyme&gt;</td>\n",
       "      <td>0</td>\n",
       "      <td>8</td>\n",
       "    </tr>\n",
       "  </tbody>\n",
       "</table>\n",
       "</div>"
      ],
      "text/plain": [
       "                   sender                                         recipients  \\\n",
       "0  chris.foster@enron.com                               [kim.ward@enron.com]   \n",
       "1      sue.nord@enron.com                            [margo.reyna@enron.com]   \n",
       "2      sue.nord@enron.com  [barbara.hueter@enron.com, jeff.dasovich@enron...   \n",
       "3  sheila.tweed@enron.com  [mark.haedicke@enron.com, elizabeth.sager@enro...   \n",
       "4   john.arnold@enron.com                          [john.lavorato@enron.com]   \n",
       "\n",
       "                       date  \\\n",
       "0 2001-01-01 01:38:00+00:00   \n",
       "1 2001-01-01 04:29:00+00:00   \n",
       "2 2001-01-01 04:59:00+00:00   \n",
       "3 2001-01-01 05:11:00+00:00   \n",
       "4 2001-01-01 08:36:00+00:00   \n",
       "\n",
       "                                             subject  \\\n",
       "0                          2001 natural gas forecast   \n",
       "1                     Re: CA Quarterly Fee Statement   \n",
       "2            Re: Ohio Telecommunications Legislation   \n",
       "3  Commission Hearings on Rate Stabilization Plan...   \n",
       "4                                                Re:   \n",
       "\n",
       "                                      message_id  day_of_week  hour_of_week  \n",
       "0  <29779853.1075851847407.JavaMail.evans@thyme>            0             1  \n",
       "1  <28595177.1075843766562.JavaMail.evans@thyme>            0             4  \n",
       "2  <17528586.1075843766536.JavaMail.evans@thyme>            0             4  \n",
       "3  <20708722.1075853232986.JavaMail.evans@thyme>            0             5  \n",
       "4  <27978344.1075857641184.JavaMail.evans@thyme>            0             8  "
      ]
     },
     "execution_count": 49,
     "metadata": {},
     "output_type": "execute_result"
    }
   ],
   "source": [
    "emails['date'] = pd.to_datetime(emails['date'], utc=True, infer_datetime_format=True)\n",
    "emails.head()"
   ]
  },
  {
   "cell_type": "code",
   "execution_count": 50,
   "metadata": {},
   "outputs": [
    {
     "data": {
      "text/html": [
       "<div>\n",
       "<style scoped>\n",
       "    .dataframe tbody tr th:only-of-type {\n",
       "        vertical-align: middle;\n",
       "    }\n",
       "\n",
       "    .dataframe tbody tr th {\n",
       "        vertical-align: top;\n",
       "    }\n",
       "\n",
       "    .dataframe thead th {\n",
       "        text-align: right;\n",
       "    }\n",
       "</style>\n",
       "<table border=\"1\" class=\"dataframe\">\n",
       "  <thead>\n",
       "    <tr style=\"text-align: right;\">\n",
       "      <th></th>\n",
       "      <th>sender</th>\n",
       "      <th>recipients</th>\n",
       "      <th>date</th>\n",
       "      <th>subject</th>\n",
       "      <th>message_id</th>\n",
       "      <th>day_of_week</th>\n",
       "      <th>hour_of_week</th>\n",
       "    </tr>\n",
       "  </thead>\n",
       "  <tbody>\n",
       "    <tr>\n",
       "      <th>0</th>\n",
       "      <td>chris.foster@enron.com</td>\n",
       "      <td>[kim.ward@enron.com]</td>\n",
       "      <td>2001-01-01 01:38:00+00:00</td>\n",
       "      <td>2001 natural gas forecast</td>\n",
       "      <td>&lt;29779853.1075851847407.JavaMail.evans@thyme&gt;</td>\n",
       "      <td>0</td>\n",
       "      <td>1</td>\n",
       "    </tr>\n",
       "    <tr>\n",
       "      <th>1</th>\n",
       "      <td>sue.nord@enron.com</td>\n",
       "      <td>[margo.reyna@enron.com]</td>\n",
       "      <td>2001-01-01 04:29:00+00:00</td>\n",
       "      <td>Re: CA Quarterly Fee Statement</td>\n",
       "      <td>&lt;28595177.1075843766562.JavaMail.evans@thyme&gt;</td>\n",
       "      <td>0</td>\n",
       "      <td>4</td>\n",
       "    </tr>\n",
       "    <tr>\n",
       "      <th>2</th>\n",
       "      <td>sue.nord@enron.com</td>\n",
       "      <td>[barbara.hueter@enron.com, jeff.dasovich@enron...</td>\n",
       "      <td>2001-01-01 04:59:00+00:00</td>\n",
       "      <td>Re: Ohio Telecommunications Legislation</td>\n",
       "      <td>&lt;17528586.1075843766536.JavaMail.evans@thyme&gt;</td>\n",
       "      <td>0</td>\n",
       "      <td>4</td>\n",
       "    </tr>\n",
       "    <tr>\n",
       "      <th>3</th>\n",
       "      <td>sheila.tweed@enron.com</td>\n",
       "      <td>[mark.haedicke@enron.com, elizabeth.sager@enro...</td>\n",
       "      <td>2001-01-01 05:11:00+00:00</td>\n",
       "      <td>Commission Hearings on Rate Stabilization Plan...</td>\n",
       "      <td>&lt;20708722.1075853232986.JavaMail.evans@thyme&gt;</td>\n",
       "      <td>0</td>\n",
       "      <td>5</td>\n",
       "    </tr>\n",
       "    <tr>\n",
       "      <th>4</th>\n",
       "      <td>john.arnold@enron.com</td>\n",
       "      <td>[john.lavorato@enron.com]</td>\n",
       "      <td>2001-01-01 08:36:00+00:00</td>\n",
       "      <td>Re:</td>\n",
       "      <td>&lt;27978344.1075857641184.JavaMail.evans@thyme&gt;</td>\n",
       "      <td>0</td>\n",
       "      <td>8</td>\n",
       "    </tr>\n",
       "  </tbody>\n",
       "</table>\n",
       "</div>"
      ],
      "text/plain": [
       "                   sender                                         recipients  \\\n",
       "0  chris.foster@enron.com                               [kim.ward@enron.com]   \n",
       "1      sue.nord@enron.com                            [margo.reyna@enron.com]   \n",
       "2      sue.nord@enron.com  [barbara.hueter@enron.com, jeff.dasovich@enron...   \n",
       "3  sheila.tweed@enron.com  [mark.haedicke@enron.com, elizabeth.sager@enro...   \n",
       "4   john.arnold@enron.com                          [john.lavorato@enron.com]   \n",
       "\n",
       "                       date  \\\n",
       "0 2001-01-01 01:38:00+00:00   \n",
       "1 2001-01-01 04:29:00+00:00   \n",
       "2 2001-01-01 04:59:00+00:00   \n",
       "3 2001-01-01 05:11:00+00:00   \n",
       "4 2001-01-01 08:36:00+00:00   \n",
       "\n",
       "                                             subject  \\\n",
       "0                          2001 natural gas forecast   \n",
       "1                     Re: CA Quarterly Fee Statement   \n",
       "2            Re: Ohio Telecommunications Legislation   \n",
       "3  Commission Hearings on Rate Stabilization Plan...   \n",
       "4                                                Re:   \n",
       "\n",
       "                                      message_id  day_of_week  hour_of_week  \n",
       "0  <29779853.1075851847407.JavaMail.evans@thyme>            0             1  \n",
       "1  <28595177.1075843766562.JavaMail.evans@thyme>            0             4  \n",
       "2  <17528586.1075843766536.JavaMail.evans@thyme>            0             4  \n",
       "3  <20708722.1075853232986.JavaMail.evans@thyme>            0             5  \n",
       "4  <27978344.1075857641184.JavaMail.evans@thyme>            0             8  "
      ]
     },
     "execution_count": 50,
     "metadata": {},
     "output_type": "execute_result"
    }
   ],
   "source": [
    "# extract day of week as integer\n",
    "emails['day_of_week'] = emails['date'].dt.dayofweek\n",
    "emails['hour_of_week'] = emails['date'].dt.hour + emails['day_of_week'] * 24\n",
    "emails.head()"
   ]
  },
  {
   "cell_type": "code",
   "execution_count": 51,
   "metadata": {},
   "outputs": [
    {
     "data": {
      "text/html": [
       "<div>\n",
       "<style scoped>\n",
       "    .dataframe tbody tr th:only-of-type {\n",
       "        vertical-align: middle;\n",
       "    }\n",
       "\n",
       "    .dataframe tbody tr th {\n",
       "        vertical-align: top;\n",
       "    }\n",
       "\n",
       "    .dataframe thead th {\n",
       "        text-align: right;\n",
       "    }\n",
       "</style>\n",
       "<table border=\"1\" class=\"dataframe\">\n",
       "  <thead>\n",
       "    <tr style=\"text-align: right;\">\n",
       "      <th></th>\n",
       "      <th>sender</th>\n",
       "      <th>recipients</th>\n",
       "      <th>date</th>\n",
       "      <th>subject</th>\n",
       "      <th>message_id</th>\n",
       "      <th>day_of_week</th>\n",
       "      <th>hour_of_week</th>\n",
       "    </tr>\n",
       "  </thead>\n",
       "  <tbody>\n",
       "    <tr>\n",
       "      <th>0</th>\n",
       "      <td>chris.foster@enron.com</td>\n",
       "      <td>[kim.ward@enron.com]</td>\n",
       "      <td>2001-01-01 01:38:00+00:00</td>\n",
       "      <td>2001 natural gas forecast</td>\n",
       "      <td>&lt;29779853.1075851847407.JavaMail.evans@thyme&gt;</td>\n",
       "      <td>0</td>\n",
       "      <td>1</td>\n",
       "    </tr>\n",
       "    <tr>\n",
       "      <th>1</th>\n",
       "      <td>sue.nord@enron.com</td>\n",
       "      <td>[margo.reyna@enron.com]</td>\n",
       "      <td>2001-01-01 04:29:00+00:00</td>\n",
       "      <td>Re: CA Quarterly Fee Statement</td>\n",
       "      <td>&lt;28595177.1075843766562.JavaMail.evans@thyme&gt;</td>\n",
       "      <td>0</td>\n",
       "      <td>4</td>\n",
       "    </tr>\n",
       "    <tr>\n",
       "      <th>2</th>\n",
       "      <td>sue.nord@enron.com</td>\n",
       "      <td>[barbara.hueter@enron.com, jeff.dasovich@enron...</td>\n",
       "      <td>2001-01-01 04:59:00+00:00</td>\n",
       "      <td>Re: Ohio Telecommunications Legislation</td>\n",
       "      <td>&lt;17528586.1075843766536.JavaMail.evans@thyme&gt;</td>\n",
       "      <td>0</td>\n",
       "      <td>4</td>\n",
       "    </tr>\n",
       "    <tr>\n",
       "      <th>3</th>\n",
       "      <td>sheila.tweed@enron.com</td>\n",
       "      <td>[mark.haedicke@enron.com, elizabeth.sager@enro...</td>\n",
       "      <td>2001-01-01 05:11:00+00:00</td>\n",
       "      <td>Commission Hearings on Rate Stabilization Plan...</td>\n",
       "      <td>&lt;20708722.1075853232986.JavaMail.evans@thyme&gt;</td>\n",
       "      <td>0</td>\n",
       "      <td>5</td>\n",
       "    </tr>\n",
       "    <tr>\n",
       "      <th>4</th>\n",
       "      <td>john.arnold@enron.com</td>\n",
       "      <td>[john.lavorato@enron.com]</td>\n",
       "      <td>2001-01-01 08:36:00+00:00</td>\n",
       "      <td>Re:</td>\n",
       "      <td>&lt;27978344.1075857641184.JavaMail.evans@thyme&gt;</td>\n",
       "      <td>0</td>\n",
       "      <td>8</td>\n",
       "    </tr>\n",
       "  </tbody>\n",
       "</table>\n",
       "</div>"
      ],
      "text/plain": [
       "                   sender                                         recipients  \\\n",
       "0  chris.foster@enron.com                               [kim.ward@enron.com]   \n",
       "1      sue.nord@enron.com                            [margo.reyna@enron.com]   \n",
       "2      sue.nord@enron.com  [barbara.hueter@enron.com, jeff.dasovich@enron...   \n",
       "3  sheila.tweed@enron.com  [mark.haedicke@enron.com, elizabeth.sager@enro...   \n",
       "4   john.arnold@enron.com                          [john.lavorato@enron.com]   \n",
       "\n",
       "                       date  \\\n",
       "0 2001-01-01 01:38:00+00:00   \n",
       "1 2001-01-01 04:29:00+00:00   \n",
       "2 2001-01-01 04:59:00+00:00   \n",
       "3 2001-01-01 05:11:00+00:00   \n",
       "4 2001-01-01 08:36:00+00:00   \n",
       "\n",
       "                                             subject  \\\n",
       "0                          2001 natural gas forecast   \n",
       "1                     Re: CA Quarterly Fee Statement   \n",
       "2            Re: Ohio Telecommunications Legislation   \n",
       "3  Commission Hearings on Rate Stabilization Plan...   \n",
       "4                                                Re:   \n",
       "\n",
       "                                      message_id  day_of_week  hour_of_week  \n",
       "0  <29779853.1075851847407.JavaMail.evans@thyme>            0             1  \n",
       "1  <28595177.1075843766562.JavaMail.evans@thyme>            0             4  \n",
       "2  <17528586.1075843766536.JavaMail.evans@thyme>            0             4  \n",
       "3  <20708722.1075853232986.JavaMail.evans@thyme>            0             5  \n",
       "4  <27978344.1075857641184.JavaMail.evans@thyme>            0             8  "
      ]
     },
     "execution_count": 51,
     "metadata": {},
     "output_type": "execute_result"
    }
   ],
   "source": [
    "# show emails sorted by date\n",
    "emails.sort_values('date', inplace=True)\n",
    "emails.head()"
   ]
  },
  {
   "cell_type": "code",
   "execution_count": 52,
   "metadata": {},
   "outputs": [
    {
     "data": {
      "image/png": "[encoded data removed]",
      "text/plain": [
       "<Figure size 1000x600 with 1 Axes>"
      ]
     },
     "metadata": {},
     "output_type": "display_data"
    }
   ],
   "source": [
    "# Group the emails by hour of the week and calculate the size of each group\n",
    "grouped_emails = emails.groupby('hour_of_week').size()\n",
    "\n",
    "# Calculate the average number of emails per hour\n",
    "average_emails = grouped_emails / (365 / 7)\n",
    "\n",
    "colors = ['blue' if (hour // 24) % 2 == 0 else 'orange' for hour in range(168)]\n",
    "\n",
    "# Plot the number of emails by hour of the week\n",
    "average_emails.plot(kind='bar', color=colors, figsize=(10, 6))\n",
    "\n",
    "# Set the x and y-axis labels\n",
    "plt.xlabel('Hour of the Week')\n",
    "plt.ylabel('Number of Emails')\n",
    "\n",
    "plt.xticks(range(12, 24 * 7, 24), ['Mon', 'Tue', 'Wed', 'Thu', 'Fri', 'Sat', 'Sun'], rotation=0)\n",
    "\n",
    "# Set the title of the plot\n",
    "plt.title('Number of Emails by Hour of the Week')\n",
    "\n",
    "# Show the plot\n",
    "plt.show()"
   ]
  },
  {
   "cell_type": "code",
   "execution_count": 53,
   "metadata": {},
   "outputs": [
    {
     "data": {
      "text/plain": [
       "(hour_of_week\n",
       " 0     6.808219\n",
       " 1     8.476712\n",
       " 2    11.564384\n",
       " 3    11.564384\n",
       " 4    13.271233\n",
       " dtype: float64,\n",
       " 168)"
      ]
     },
     "execution_count": 53,
     "metadata": {},
     "output_type": "execute_result"
    }
   ],
   "source": [
    "# calculate average number of emails per hour\n",
    "average_emails = grouped_emails / (365 / 7)\n",
    "average_emails.head(), len(average_emails)"
   ]
  },
  {
   "cell_type": "code",
   "execution_count": 54,
   "metadata": {},
   "outputs": [],
   "source": [
    "all_people = dict()\n",
    "all_emails = dict()\n",
    "\n",
    "for index, row in emails.iterrows():\n",
    "    email = EnronEmail(row['message_id'], row['sender'],\n",
    "                       row['recipients'], row['date'])\n",
    "    all_emails[email.id] = email\n",
    "    if email.sender not in all_people:\n",
    "        all_people[email.sender] = Person(email.sender)\n",
    "\n",
    "    for recipient in email.recipients:\n",
    "        if recipient not in all_people:\n",
    "            all_people[recipient] = Person(recipient)\n",
    "        all_people[recipient].received[email.id] = email\n",
    "        all_people[email.sender].sent[email.id] = email\n",
    "        all_people[email.sender].recipients.add(recipient)"
   ]
  },
  {
   "cell_type": "code",
   "execution_count": 55,
   "metadata": {},
   "outputs": [
    {
     "data": {
      "text/html": [
       "<div>\n",
       "<style scoped>\n",
       "    .dataframe tbody tr th:only-of-type {\n",
       "        vertical-align: middle;\n",
       "    }\n",
       "\n",
       "    .dataframe tbody tr th {\n",
       "        vertical-align: top;\n",
       "    }\n",
       "\n",
       "    .dataframe thead th {\n",
       "        text-align: right;\n",
       "    }\n",
       "</style>\n",
       "<table border=\"1\" class=\"dataframe\">\n",
       "  <thead>\n",
       "    <tr style=\"text-align: right;\">\n",
       "      <th></th>\n",
       "      <th>Email</th>\n",
       "      <th>Received</th>\n",
       "      <th>Sent</th>\n",
       "      <th>Recipients</th>\n",
       "    </tr>\n",
       "  </thead>\n",
       "  <tbody>\n",
       "    <tr>\n",
       "      <th>0</th>\n",
       "      <td>chris.foster@enron.com</td>\n",
       "      <td>77</td>\n",
       "      <td>82</td>\n",
       "      <td>32</td>\n",
       "    </tr>\n",
       "    <tr>\n",
       "      <th>1</th>\n",
       "      <td>kim.ward@enron.com</td>\n",
       "      <td>230</td>\n",
       "      <td>64</td>\n",
       "      <td>28</td>\n",
       "    </tr>\n",
       "    <tr>\n",
       "      <th>2</th>\n",
       "      <td>sue.nord@enron.com</td>\n",
       "      <td>167</td>\n",
       "      <td>56</td>\n",
       "      <td>25</td>\n",
       "    </tr>\n",
       "    <tr>\n",
       "      <th>3</th>\n",
       "      <td>margo.reyna@enron.com</td>\n",
       "      <td>43</td>\n",
       "      <td>8</td>\n",
       "      <td>3</td>\n",
       "    </tr>\n",
       "    <tr>\n",
       "      <th>4</th>\n",
       "      <td>barbara.hueter@enron.com</td>\n",
       "      <td>32</td>\n",
       "      <td>6</td>\n",
       "      <td>14</td>\n",
       "    </tr>\n",
       "    <tr>\n",
       "      <th>...</th>\n",
       "      <td>...</td>\n",
       "      <td>...</td>\n",
       "      <td>...</td>\n",
       "      <td>...</td>\n",
       "    </tr>\n",
       "    <tr>\n",
       "      <th>5550</th>\n",
       "      <td>schlecht.schlecht@enron.com</td>\n",
       "      <td>0</td>\n",
       "      <td>1</td>\n",
       "      <td>1</td>\n",
       "    </tr>\n",
       "    <tr>\n",
       "      <th>5551</th>\n",
       "      <td>maintenance.dl-exchange@enron.com</td>\n",
       "      <td>52</td>\n",
       "      <td>0</td>\n",
       "      <td>0</td>\n",
       "    </tr>\n",
       "    <tr>\n",
       "      <th>5552</th>\n",
       "      <td>michael.green@enron.com</td>\n",
       "      <td>1</td>\n",
       "      <td>1</td>\n",
       "      <td>10</td>\n",
       "    </tr>\n",
       "    <tr>\n",
       "      <th>5553</th>\n",
       "      <td>ron.spain@enron.com</td>\n",
       "      <td>0</td>\n",
       "      <td>1</td>\n",
       "      <td>1</td>\n",
       "    </tr>\n",
       "    <tr>\n",
       "      <th>5554</th>\n",
       "      <td>michael.castillo@enron.com</td>\n",
       "      <td>0</td>\n",
       "      <td>2</td>\n",
       "      <td>1</td>\n",
       "    </tr>\n",
       "  </tbody>\n",
       "</table>\n",
       "<p>5555 rows × 4 columns</p>\n",
       "</div>"
      ],
      "text/plain": [
       "                                  Email  Received  Sent  Recipients\n",
       "0                chris.foster@enron.com        77    82          32\n",
       "1                    kim.ward@enron.com       230    64          28\n",
       "2                    sue.nord@enron.com       167    56          25\n",
       "3                 margo.reyna@enron.com        43     8           3\n",
       "4              barbara.hueter@enron.com        32     6          14\n",
       "...                                 ...       ...   ...         ...\n",
       "5550        schlecht.schlecht@enron.com         0     1           1\n",
       "5551  maintenance.dl-exchange@enron.com        52     0           0\n",
       "5552            michael.green@enron.com         1     1          10\n",
       "5553                ron.spain@enron.com         0     1           1\n",
       "5554         michael.castillo@enron.com         0     2           1\n",
       "\n",
       "[5555 rows x 4 columns]"
      ]
     },
     "execution_count": 55,
     "metadata": {},
     "output_type": "execute_result"
    }
   ],
   "source": [
    "data = {'Email': [], 'Received': [], 'Sent': [], 'Recipients': []}\n",
    "\n",
    "for person in all_people.values():\n",
    "    data['Email'].append(person.email)\n",
    "    data['Received'].append(len(person.received))\n",
    "    data['Sent'].append(len(person.sent))\n",
    "    data['Recipients'].append(len(person.recipients))\n",
    "\n",
    "activity = pd.DataFrame(data)\n",
    "activity"
   ]
  },
  {
   "cell_type": "code",
   "execution_count": 56,
   "metadata": {},
   "outputs": [
    {
     "name": "stdout",
     "output_type": "stream",
     "text": [
      "5555 47728\n"
     ]
    }
   ],
   "source": [
    "graph = nx.DiGraph()\n",
    "\n",
    "for person in all_people.values():\n",
    "    for email in person.sent.values():\n",
    "        for recipient in email.recipients:\n",
    "            graph.add_edge(person.email, recipient)\n",
    "            \n",
    "print(len(graph.nodes), len(graph.edges))"
   ]
  },
  {
   "cell_type": "code",
   "execution_count": 57,
   "metadata": {},
   "outputs": [],
   "source": [
    "# create dictionaries for the number of people who received/sent a certain number of emails\n",
    "sent = dict()\n",
    "received = dict()\n",
    "recipients = dict() # number different people someone emailed\n",
    "\n",
    "for person in all_people.values():\n",
    "    num_sent = len(person.sent)\n",
    "    sent[len(person.sent)] = sent.get(num_sent, 0) + 1\n",
    "    \n",
    "    num_received = len(person.received)\n",
    "    received[num_received] = received.get(num_received, 0) + 1\n",
    "    \n",
    "    num_recipients = len(person.recipients)\n",
    "    recipients[num_recipients] = recipients.get(num_recipients, 0) + 1"
   ]
  },
  {
   "cell_type": "code",
   "execution_count": 58,
   "metadata": {},
   "outputs": [
    {
     "name": "stdout",
     "output_type": "stream",
     "text": [
      "Calculating best minimal value for power law fit\n",
      "Calculating best minimal value for power law fit\n",
      "Calculating best minimal value for power law fit\n",
      "Received fit: 2.5385204169300635\n",
      "Sent fit: 2.0807028929278344\n",
      "Recipients fit: 2.979529872531982\n"
     ]
    },
    {
     "name": "stderr",
     "output_type": "stream",
     "text": [
      "Values less than or equal to 0 in data. Throwing out 0 or negative values\n",
      "Values less than or equal to 0 in data. Throwing out 0 or negative values\n",
      "Values less than or equal to 0 in data. Throwing out 0 or negative values\n"
     ]
    }
   ],
   "source": [
    "#create an array of the number of emails received by each person\n",
    "num_received = []\n",
    "num_sent = []\n",
    "num_recipients = []\n",
    "for person in all_people.values():\n",
    "    num_received.append(len(person.received))\n",
    "    num_sent.append(len(person.sent))\n",
    "    num_recipients.append(len(person.recipients))\n",
    "\n",
    "# fit the powerlaw model\n",
    "fit_received = powerlaw.Fit(num_received)\n",
    "fit_sent = powerlaw.Fit(num_sent)\n",
    "fit_recipients = powerlaw.Fit(num_recipients)\n",
    "\n",
    "print(f'Received fit: {fit_received.alpha}')\n",
    "print(f'Sent fit: {fit_sent.alpha}')\n",
    "print(f'Recipients fit: {fit_recipients.alpha}')"
   ]
  },
  {
   "cell_type": "code",
   "execution_count": 59,
   "metadata": {},
   "outputs": [
    {
     "name": "stdout",
     "output_type": "stream",
     "text": [
      "[288, 270, 240, 223, 214, 199, 198, 194, 181, 173]\n"
     ]
    }
   ],
   "source": [
    "print(sorted(recipients, reverse=True)[:10])"
   ]
  },
  {
   "cell_type": "code",
   "execution_count": 60,
   "metadata": {},
   "outputs": [
    {
     "data": {
      "image/png": "[encoded data removed]",
      "text/plain": [
       "<Figure size 640x480 with 1 Axes>"
      ]
     },
     "metadata": {},
     "output_type": "display_data"
    }
   ],
   "source": [
    "# Create a list for the number of emails received by each person\n",
    "num_activity = [len(person.sent) for person in all_people.values()]\n",
    "# num_activity = [len(person.recipients) for person in all_people.values()]\n",
    "# Create a list of bin edges from the minimum to the maximum number of emails received, with a step size of 100\n",
    "bin_size = 5\n",
    "bins = range(min(num_activity), max(num_activity) + bin_size, bin_size)\n",
    "\n",
    "# Plot the histogram\n",
    "plt.xlim(-50, 800)\n",
    "plt.ylim(0, 5000)\n",
    "plt.hist(num_activity, bins=bins, width=bin_size, alpha=0.7)\n",
    "plt.xlabel('Number of Emails Received')\n",
    "plt.ylabel('Number of People')\n",
    "plt.title('Number of People vs Number of Emails Received')\n",
    "plt.show()"
   ]
  },
  {
   "cell_type": "code",
   "execution_count": 61,
   "metadata": {},
   "outputs": [],
   "source": [
    "def get_log_log(activity_dict: dict):\n",
    "    x = list(activity_dict.keys())\n",
    "    y = list(activity_dict.values())\n",
    "    y = [val / sum(y) for val in y]\n",
    "    # Plot the log-log graph\n",
    "    plt.loglog(x, y, marker='o', linestyle='')\n",
    "    plt.xlabel('log(out_degree)')\n",
    "    plt.ylabel('log(number of people)')\n",
    "    plt.title('Number of Emails Sent vs Number of People')\n",
    "    return plt"
   ]
  },
  {
   "cell_type": "code",
   "execution_count": 62,
   "metadata": {},
   "outputs": [
    {
     "data": {
      "image/png": "[encoded data removed]",
      "text/plain": [
       "<Figure size 640x480 with 1 Axes>"
      ]
     },
     "metadata": {},
     "output_type": "display_data"
    }
   ],
   "source": [
    "plt_sent = get_log_log(sent)\n",
    "plt_sent.show()"
   ]
  },
  {
   "cell_type": "code",
   "execution_count": 63,
   "metadata": {},
   "outputs": [
    {
     "data": {
      "image/png": "[encoded data removed]",
      "text/plain": [
       "<Figure size 640x480 with 1 Axes>"
      ]
     },
     "metadata": {},
     "output_type": "display_data"
    }
   ],
   "source": [
    "plt_recipients = get_log_log(recipients)\n",
    "plt_recipients.show()"
   ]
  },
  {
   "cell_type": "code",
   "execution_count": 64,
   "metadata": {},
   "outputs": [],
   "source": [
    "# Define the empirical distribution of degrees (number of emails sent)\n",
    "sent_dist = DegreeDistribution(sent)\n",
    "recipients_dist = DegreeDistribution(recipients)"
   ]
  },
  {
   "cell_type": "code",
   "execution_count": 69,
   "metadata": {},
   "outputs": [
    {
     "name": "stdout",
     "output_type": "stream",
     "text": [
      "3000 2999\n"
     ]
    }
   ],
   "source": [
    "# the index is the degree and the value is the probability of that degree\n",
    "sent_freq_dist = np.zeros(max(sent_dist.degrees) + 1)\n",
    "for sent_degree, probability in zip(sent_dist.degrees, sent_dist.probabilities):\n",
    "    sent_freq_dist[sent_degree] = probability\n",
    "\n",
    "print(len(sent_freq_dist), max(sent_dist.degrees))"
   ]
  },
  {
   "cell_type": "code",
   "execution_count": 71,
   "metadata": {},
   "outputs": [
    {
     "name": "stdout",
     "output_type": "stream",
     "text": [
      "289 288\n"
     ]
    }
   ],
   "source": [
    "recipients_freq_dist = np.zeros(max(recipients_dist.degrees) + 1)\n",
    "for recipients_degree, probability in zip(recipients_dist.degrees, recipients_dist.probabilities):\n",
    "    recipients_freq_dist[recipients_degree] = probability\n",
    "\n",
    "print(len(recipients_freq_dist), max(recipients.keys()))"
   ]
  },
  {
   "cell_type": "code",
   "execution_count": 72,
   "metadata": {},
   "outputs": [],
   "source": [
    "def node_dp_degree_approximation(epsilon: float, theta: int, degree_dict: dict, deg_dist: np.ndarray):\n",
    "    beta = epsilon / (np.sqrt(2) * (theta + 1))\n",
    "    St_naive = 0  # smooth upper bound on local sensitivity of Naive Truncation\n",
    "    for k in range(1, theta + 1):\n",
    "        n = len([d for d in degree_dict.keys() if theta - k <= d <= theta + k])\n",
    "        curr_s = (np.exp(-beta * k)) * (1 + k + n)\n",
    "        St_naive = max(St_naive, curr_s)\n",
    "        \n",
    "    cauchy_scale = np.sqrt(2) * theta * St_naive / epsilon\n",
    "    print('cauchy scale', cauchy_scale)\n",
    "    cauchy_noise = cauchy.rvs(loc=0, scale=cauchy_scale, size=theta + 1)\n",
    "    noisy_degs = deg_dist[:theta + 1] + cauchy_noise\n",
    "    noisy_degs = np.maximum(noisy_degs, 0)\n",
    "    noisy_degs = noisy_degs / sum(noisy_degs)\n",
    "    \n",
    "    return noisy_degs"
   ]
  },
  {
   "cell_type": "code",
   "execution_count": 73,
   "metadata": {},
   "outputs": [
    {
     "name": "stdout",
     "output_type": "stream",
     "text": [
      "cauchy scale 2762.365969635189\n"
     ]
    },
    {
     "data": {
      "text/plain": [
       "array([0.008491  , 0.        , 0.        , 0.08942919, 0.06645444,\n",
       "       0.71229956, 0.07882719, 0.0429064 , 0.00159222])"
      ]
     },
     "execution_count": 73,
     "metadata": {},
     "output_type": "execute_result"
    }
   ],
   "source": [
    "approx_degrees = node_dp_degree_approximation(epsilon=0.1, theta=8, degree_dict=sent, deg_dist=sent_freq_dist)\n",
    "approx_degrees"
   ]
  },
  {
   "cell_type": "code",
   "execution_count": 74,
   "metadata": {},
   "outputs": [],
   "source": [
    "# generate N independent random draws from the distribution. If sum is odd, add 1 to the smallest degree\n",
    "def get_sorted_random_degree_sequence(deg_dist: DegreeDistribution, seq_size: int) -> np.ndarray:\n",
    "    random_degrees = np.random.choice(\n",
    "        deg_dist.degrees, size=seq_size, replace=True, p=deg_dist.probabilities)\n",
    "    if sum(random_degrees) % 2 != 0:\n",
    "        random_degrees[np.argmin(random_degrees)] += 1\n",
    "\n",
    "    return np.sort(random_degrees)[::-1]\n",
    "\n",
    "\n",
    "def get_capped_degree_seq(seq_size: int, deg_dist: DegreeDistribution) -> DegreeDistribution:\n",
    "    degrees, probs = deg_dist.degrees, deg_dist.probabilities\n",
    "    for i, degree in enumerate(degrees):\n",
    "        if degree > seq_size:\n",
    "            max_allowed_deg_idx = i - 1\n",
    "            break\n",
    "    else:\n",
    "        max_allowed_deg_idx = len(degrees) - 1\n",
    "\n",
    "    ds = degrees[:max_allowed_deg_idx]\n",
    "    ps = probs[:max_allowed_deg_idx]\n",
    "    # normalise the probabilities\n",
    "    ps = [prob / sum(ps) for prob in ps]\n",
    "\n",
    "    return DegreeDistribution(dict(zip(ds, ps)))"
   ]
  },
  {
   "cell_type": "code",
   "execution_count": 75,
   "metadata": {},
   "outputs": [],
   "source": [
    "SEQ_SIZE = 2000\n",
    "capped_sent_dist = get_capped_degree_seq(seq_size=SEQ_SIZE, deg_dist=sent_dist)\n",
    "sorted_random_sents = get_sorted_random_degree_sequence(deg_dist=capped_sent_dist, seq_size=SEQ_SIZE)\n",
    "\n",
    "capped_recipients_dist = get_capped_degree_seq(seq_size=SEQ_SIZE, deg_dist=recipients_dist)\n",
    "sorted_random_recipients = get_sorted_random_degree_sequence(deg_dist=capped_recipients_dist, seq_size=SEQ_SIZE)"
   ]
  },
  {
   "cell_type": "code",
   "execution_count": 76,
   "metadata": {},
   "outputs": [
    {
     "name": "stdout",
     "output_type": "stream",
     "text": [
      "[240 199 138 ...   0   0   0] 2000\n"
     ]
    }
   ],
   "source": [
    "print(sorted_random_recipients, len(sorted_random_recipients))"
   ]
  },
  {
   "cell_type": "code",
   "execution_count": 77,
   "metadata": {},
   "outputs": [],
   "source": [
    "def get_candidate_nodes(sorted_degrees) -> list[int]: # residual_degs\n",
    "    candidate_nodes = []\n",
    "    for i, deg in enumerate(sorted_degrees):\n",
    "        candidate_nodes += [i] * deg\n",
    "    return candidate_nodes\n",
    "\n",
    "\n",
    "def get_random_graph_from_degree(deg_seq: np.ndarray) -> np.ndarray:\n",
    "    N = len(deg_seq)\n",
    "    if sum(deg_seq) % 2 != 0:\n",
    "        deg_seq[-1] += 1\n",
    "    \n",
    "    def fill_adj_matrix(res_degs, c, m, x):\n",
    "        matrix = np.zeros((N, N))\n",
    "        while res_degs:\n",
    "            i = res_degs[0]\n",
    "            valid_j = False\n",
    "            while not valid_j:\n",
    "                # pick a random index from the residual degrees (recipient of person i)\n",
    "                idx = random.randint(1, len(res_degs) - 1)\n",
    "                j = res_degs[idx]\n",
    "                if i == j or matrix[i, j] > 0:\n",
    "                    c += 1\n",
    "                    if c >= m:\n",
    "                        return None\n",
    "                else:\n",
    "                    valid_j = True\n",
    "            matrix[i, j], matrix[j, i] = 1, 1\n",
    "            if x > 0 and x % 100 == 0:\n",
    "                print('here', x, i)\n",
    "            res_degs.pop(idx)\n",
    "            res_degs.pop(0)\n",
    "                \n",
    "        return matrix \n",
    "    \n",
    "    residual_degs = get_candidate_nodes(deg_seq)\n",
    "    adj_matrix = None\n",
    "    x = 0\n",
    "    while adj_matrix is None:\n",
    "        adj_matrix = fill_adj_matrix(res_degs=residual_degs.copy(), c=0, m=2000, x=x)\n",
    "        x += 1\n",
    "    return adj_matrix"
   ]
  },
  {
   "cell_type": "code",
   "execution_count": 78,
   "metadata": {},
   "outputs": [
    {
     "data": {
      "text/plain": [
       "array([[0., 1., 1., ..., 0., 0., 0.],\n",
       "       [1., 0., 1., ..., 0., 0., 0.],\n",
       "       [1., 1., 0., ..., 0., 0., 0.],\n",
       "       ...,\n",
       "       [0., 0., 0., ..., 0., 0., 0.],\n",
       "       [0., 0., 0., ..., 0., 0., 0.],\n",
       "       [0., 0., 0., ..., 0., 0., 0.]])"
      ]
     },
     "execution_count": 78,
     "metadata": {},
     "output_type": "execute_result"
    }
   ],
   "source": [
    "random_graph = get_random_graph_from_degree(sorted_random_recipients)\n",
    "random_graph"
   ]
  },
  {
   "cell_type": "markdown",
   "metadata": {},
   "source": [
    "## K means clustering"
   ]
  },
  {
   "cell_type": "code",
   "execution_count": 79,
   "metadata": {},
   "outputs": [
    {
     "data": {
      "image/png": "[encoded data removed]",
      "text/plain": [
       "<Figure size 640x480 with 1 Axes>"
      ]
     },
     "metadata": {},
     "output_type": "display_data"
    }
   ],
   "source": [
    "# Features for clustering\n",
    "# X = activity[['Sent']]\n",
    "X = activity[['Sent', 'Recipients']]\n",
    "\n",
    "inertia = []\n",
    "for k in range(1, 11):\n",
    "    # Create a KMeans object with k clusters\n",
    "    kmeans = KMeans(n_clusters=k, random_state=42)\n",
    "    # Fit the model to the data\n",
    "    kmeans.fit(X)\n",
    "    # Append the inertia value to the list\n",
    "    inertia.append(kmeans.inertia_)\n",
    "\n",
    "# Plot the elbow curve\n",
    "plt.plot(range(1, 11), inertia, marker='o')\n",
    "plt.xlabel('Number of Clusters')\n",
    "plt.ylabel('Inertia')\n",
    "plt.title('Elbow Method')\n",
    "plt.show()"
   ]
  },
  {
   "cell_type": "code",
   "execution_count": 80,
   "metadata": {},
   "outputs": [
    {
     "data": {
      "text/html": [
       "<div>\n",
       "<style scoped>\n",
       "    .dataframe tbody tr th:only-of-type {\n",
       "        vertical-align: middle;\n",
       "    }\n",
       "\n",
       "    .dataframe tbody tr th {\n",
       "        vertical-align: top;\n",
       "    }\n",
       "\n",
       "    .dataframe thead th {\n",
       "        text-align: right;\n",
       "    }\n",
       "</style>\n",
       "<table border=\"1\" class=\"dataframe\">\n",
       "  <thead>\n",
       "    <tr style=\"text-align: right;\">\n",
       "      <th></th>\n",
       "      <th>Email</th>\n",
       "      <th>Received</th>\n",
       "      <th>Sent</th>\n",
       "      <th>Recipients</th>\n",
       "      <th>cluster</th>\n",
       "    </tr>\n",
       "  </thead>\n",
       "  <tbody>\n",
       "    <tr>\n",
       "      <th>0</th>\n",
       "      <td>chris.foster@enron.com</td>\n",
       "      <td>77</td>\n",
       "      <td>82</td>\n",
       "      <td>32</td>\n",
       "      <td>4</td>\n",
       "    </tr>\n",
       "    <tr>\n",
       "      <th>1</th>\n",
       "      <td>kim.ward@enron.com</td>\n",
       "      <td>230</td>\n",
       "      <td>64</td>\n",
       "      <td>28</td>\n",
       "      <td>4</td>\n",
       "    </tr>\n",
       "    <tr>\n",
       "      <th>2</th>\n",
       "      <td>sue.nord@enron.com</td>\n",
       "      <td>167</td>\n",
       "      <td>56</td>\n",
       "      <td>25</td>\n",
       "      <td>0</td>\n",
       "    </tr>\n",
       "    <tr>\n",
       "      <th>3</th>\n",
       "      <td>margo.reyna@enron.com</td>\n",
       "      <td>43</td>\n",
       "      <td>8</td>\n",
       "      <td>3</td>\n",
       "      <td>0</td>\n",
       "    </tr>\n",
       "    <tr>\n",
       "      <th>4</th>\n",
       "      <td>barbara.hueter@enron.com</td>\n",
       "      <td>32</td>\n",
       "      <td>6</td>\n",
       "      <td>14</td>\n",
       "      <td>0</td>\n",
       "    </tr>\n",
       "    <tr>\n",
       "      <th>...</th>\n",
       "      <td>...</td>\n",
       "      <td>...</td>\n",
       "      <td>...</td>\n",
       "      <td>...</td>\n",
       "      <td>...</td>\n",
       "    </tr>\n",
       "    <tr>\n",
       "      <th>5550</th>\n",
       "      <td>schlecht.schlecht@enron.com</td>\n",
       "      <td>0</td>\n",
       "      <td>1</td>\n",
       "      <td>1</td>\n",
       "      <td>0</td>\n",
       "    </tr>\n",
       "    <tr>\n",
       "      <th>5551</th>\n",
       "      <td>maintenance.dl-exchange@enron.com</td>\n",
       "      <td>52</td>\n",
       "      <td>0</td>\n",
       "      <td>0</td>\n",
       "      <td>0</td>\n",
       "    </tr>\n",
       "    <tr>\n",
       "      <th>5552</th>\n",
       "      <td>michael.green@enron.com</td>\n",
       "      <td>1</td>\n",
       "      <td>1</td>\n",
       "      <td>10</td>\n",
       "      <td>0</td>\n",
       "    </tr>\n",
       "    <tr>\n",
       "      <th>5553</th>\n",
       "      <td>ron.spain@enron.com</td>\n",
       "      <td>0</td>\n",
       "      <td>1</td>\n",
       "      <td>1</td>\n",
       "      <td>0</td>\n",
       "    </tr>\n",
       "    <tr>\n",
       "      <th>5554</th>\n",
       "      <td>michael.castillo@enron.com</td>\n",
       "      <td>0</td>\n",
       "      <td>2</td>\n",
       "      <td>1</td>\n",
       "      <td>0</td>\n",
       "    </tr>\n",
       "  </tbody>\n",
       "</table>\n",
       "<p>5555 rows × 5 columns</p>\n",
       "</div>"
      ],
      "text/plain": [
       "                                  Email  Received  Sent  Recipients  cluster\n",
       "0                chris.foster@enron.com        77    82          32        4\n",
       "1                    kim.ward@enron.com       230    64          28        4\n",
       "2                    sue.nord@enron.com       167    56          25        0\n",
       "3                 margo.reyna@enron.com        43     8           3        0\n",
       "4              barbara.hueter@enron.com        32     6          14        0\n",
       "...                                 ...       ...   ...         ...      ...\n",
       "5550        schlecht.schlecht@enron.com         0     1           1        0\n",
       "5551  maintenance.dl-exchange@enron.com        52     0           0        0\n",
       "5552            michael.green@enron.com         1     1          10        0\n",
       "5553                ron.spain@enron.com         0     1           1        0\n",
       "5554         michael.castillo@enron.com         0     2           1        0\n",
       "\n",
       "[5555 rows x 5 columns]"
      ]
     },
     "execution_count": 80,
     "metadata": {},
     "output_type": "execute_result"
    }
   ],
   "source": [
    "n_clusters = 5\n",
    "X = activity[['Sent', 'Recipients']]\n",
    "kmeans = KMeans(n_clusters=n_clusters, random_state=42)\n",
    "y_means = kmeans.fit_predict(X)\n",
    "activity['cluster'] = y_means\n",
    "activity"
   ]
  },
  {
   "cell_type": "code",
   "execution_count": 81,
   "metadata": {},
   "outputs": [
    {
     "name": "stdout",
     "output_type": "stream",
     "text": [
      "Silhouette score: 0.8626484941380362\n"
     ]
    }
   ],
   "source": [
    "from sklearn.metrics import silhouette_score\n",
    "\n",
    "# Calculate the silhouette score\n",
    "silhouette = silhouette_score(X, y_means)\n",
    "\n",
    "print(f'Silhouette score: {silhouette}')"
   ]
  },
  {
   "cell_type": "code",
   "execution_count": 82,
   "metadata": {},
   "outputs": [
    {
     "data": {
      "image/png": "[encoded data removed]",
      "text/plain": [
       "<Figure size 700x500 with 1 Axes>"
      ]
     },
     "metadata": {},
     "output_type": "display_data"
    }
   ],
   "source": [
    "# Define the color map for the clusters\n",
    "colour_map = {0: '#8338ec', 1: '#f77f00', 2: '#4f772d', 3: 'grey', 4: 'purple', 5: 'pink'}\n",
    "plt.figure(figsize=(7, 5))\n",
    "\n",
    "# Create the scatter plot with the specified colors\n",
    "# plt.scatter(activity['Received'], activity['Sent'], c=activity['cluster'].map(color_map))\n",
    "# plt.scatter(activity['Sent'], np.zeros(len(X)), c=activity['cluster'].map(colour_map), s=3)\n",
    "plt.scatter(activity['Sent'], activity['Recipients'],\n",
    "            c=activity['cluster'].map(colour_map).tolist(), s=10)\n",
    "plt.ylabel('Number of unique recipients')\n",
    "plt.xlabel('Number of Emails Sent')\n",
    "plt.title('Clustering of Emailers based on Number of Emails Sent and Number of Unique Recipients')\n",
    "\n",
    "# Create the legend\n",
    "plt.legend(handles=[Line2D([0], [0], marker='.', color='w', label=f'Cluster {cluster_num}', markerfacecolor=colour_map[cluster_num], markersize=15)\n",
    "                    for cluster_num in range(n_clusters)])\n",
    "\n",
    "plt.show()"
   ]
  },
  {
   "cell_type": "code",
   "execution_count": 83,
   "metadata": {},
   "outputs": [
    {
     "data": {
      "text/plain": [
       "{32: array([0.66666667, 0.        , 0.        , 0.        , 0.33333333]),\n",
       " 28: array([0.78571429, 0.        , 0.        , 0.        , 0.21428571]),\n",
       " 25: array([1., 0., 0., 0., 0.]),\n",
       " 3: array([0.99717514, 0.        , 0.        , 0.        , 0.00282486]),\n",
       " 14: array([0.97183099, 0.        , 0.        , 0.        , 0.02816901]),\n",
       " 270: array([0., 0., 1., 0., 0.]),\n",
       " 47: array([0.33333333, 0.        , 0.        , 0.        , 0.66666667]),\n",
       " 42: array([0.2, 0. , 0. , 0. , 0.8]),\n",
       " 15: array([0.98305085, 0.        , 0.        , 0.        , 0.01694915]),\n",
       " 8: array([0.99259259, 0.        , 0.        , 0.        , 0.00740741]),\n",
       " 5: array([1., 0., 0., 0., 0.]),\n",
       " 98: array([0., 1., 0., 0., 0.]),\n",
       " 24: array([0.82142857, 0.        , 0.        , 0.        , 0.17857143]),\n",
       " 6: array([0.99453552, 0.00546448, 0.        , 0.        , 0.        ]),\n",
       " 30: array([0.73333333, 0.        , 0.        , 0.        , 0.26666667]),\n",
       " 1: array([0.99790503, 0.        , 0.        , 0.        , 0.00209497]),\n",
       " 94: array([0., 0., 0., 0., 1.]),\n",
       " 131: array([0., 1., 0., 0., 0.]),\n",
       " 55: array([0., 0., 0., 0., 1.]),\n",
       " 113: array([0., 1., 0., 0., 0.]),\n",
       " 119: array([0., 1., 0., 0., 0.]),\n",
       " 97: array([0., 1., 0., 0., 0.]),\n",
       " 12: array([1., 0., 0., 0., 0.]),\n",
       " 11: array([0.98979592, 0.01020408, 0.        , 0.        , 0.        ]),\n",
       " 56: array([0.33333333, 0.        , 0.        , 0.        , 0.66666667]),\n",
       " 0: array([1., 0., 0., 0., 0.]),\n",
       " 7: array([0.98611111, 0.00694444, 0.00694444, 0.        , 0.        ]),\n",
       " 50: array([0.125, 0.   , 0.   , 0.   , 0.875]),\n",
       " 91: array([0., 0., 0., 0., 1.]),\n",
       " 9: array([1., 0., 0., 0., 0.]),\n",
       " 19: array([0.91666667, 0.        , 0.        , 0.        , 0.08333333]),\n",
       " 46: array([0.33333333, 0.        , 0.        , 0.        , 0.66666667]),\n",
       " 20: array([0.95238095, 0.        , 0.        , 0.        , 0.04761905]),\n",
       " 116: array([0. , 0.5, 0. , 0. , 0.5]),\n",
       " 22: array([0.9, 0. , 0. , 0. , 0.1]),\n",
       " 115: array([0., 1., 0., 0., 0.]),\n",
       " 194: array([0., 0., 0., 1., 0.]),\n",
       " 51: array([0., 0., 0., 0., 1.]),\n",
       " 44: array([0.4, 0. , 0. , 0. , 0.6]),\n",
       " 4: array([0.99534884, 0.        , 0.        , 0.        , 0.00465116]),\n",
       " 2: array([0.9980315, 0.       , 0.       , 0.       , 0.0019685]),\n",
       " 17: array([0.98387097, 0.        , 0.        , 0.        , 0.01612903]),\n",
       " 52: array([0.2, 0.1, 0. , 0. , 0.7]),\n",
       " 181: array([0., 0., 0., 1., 0.]),\n",
       " 107: array([0., 1., 0., 0., 0.]),\n",
       " 142: array([0., 1., 0., 0., 0.]),\n",
       " 29: array([0.96, 0.  , 0.  , 0.  , 0.04]),\n",
       " 26: array([0.95454545, 0.        , 0.        , 0.        , 0.04545455]),\n",
       " 18: array([0.97777778, 0.        , 0.        , 0.        , 0.02222222]),\n",
       " 13: array([0.98666667, 0.        , 0.        , 0.        , 0.01333333]),\n",
       " 54: array([0., 0., 0., 0., 1.]),\n",
       " 120: array([0., 1., 0., 0., 0.]),\n",
       " 198: array([0., 0., 0., 1., 0.]),\n",
       " 33: array([0.58823529, 0.        , 0.        , 0.        , 0.41176471]),\n",
       " 16: array([0.95454545, 0.        , 0.        , 0.        , 0.04545455]),\n",
       " 199: array([0., 1., 0., 0., 0.]),\n",
       " 69: array([0. , 0.4, 0. , 0. , 0.6]),\n",
       " 172: array([0. , 0.5, 0. , 0.5, 0. ]),\n",
       " 10: array([1., 0., 0., 0., 0.]),\n",
       " 288: array([0., 0., 0., 1., 0.]),\n",
       " 31: array([0.84210526, 0.        , 0.        , 0.        , 0.15789474]),\n",
       " 60: array([0.2, 0. , 0. , 0. , 0.8]),\n",
       " 223: array([0., 0., 0., 1., 0.]),\n",
       " 85: array([0. , 0.5, 0. , 0. , 0.5]),\n",
       " 37: array([0.4, 0. , 0. , 0. , 0.6]),\n",
       " 214: array([0., 1., 0., 0., 0.]),\n",
       " 84: array([0., 0., 0., 0., 1.]),\n",
       " 170: array([0., 1., 0., 0., 0.]),\n",
       " 63: array([0., 0., 0., 0., 1.]),\n",
       " 41: array([0.44444444, 0.        , 0.        , 0.        , 0.55555556]),\n",
       " 71: array([0., 0., 0., 0., 1.]),\n",
       " 59: array([0., 0., 0., 0., 1.]),\n",
       " 27: array([0.81818182, 0.        , 0.        , 0.        , 0.18181818]),\n",
       " 34: array([0.5, 0. , 0. , 0. , 0.5]),\n",
       " 21: array([0.88888889, 0.        , 0.        , 0.        , 0.11111111]),\n",
       " 127: array([0., 0., 0., 1., 0.]),\n",
       " 35: array([0.8, 0. , 0. , 0. , 0.2]),\n",
       " 36: array([0.66666667, 0.        , 0.        , 0.        , 0.33333333]),\n",
       " 86: array([0., 1., 0., 0., 0.]),\n",
       " 64: array([0., 0., 0., 0., 1.]),\n",
       " 105: array([0. , 0.5, 0. , 0. , 0.5]),\n",
       " 75: array([0., 0., 0., 0., 1.]),\n",
       " 82: array([0.        , 0.66666667, 0.        , 0.        , 0.33333333]),\n",
       " 111: array([0. , 0.5, 0. , 0. , 0.5]),\n",
       " 23: array([0.875, 0.   , 0.   , 0.   , 0.125]),\n",
       " 117: array([0., 0., 0., 0., 1.]),\n",
       " 129: array([0., 1., 0., 0., 0.]),\n",
       " 76: array([0., 0., 0., 0., 1.]),\n",
       " 39: array([0.5, 0. , 0. , 0. , 0.5]),\n",
       " 78: array([0., 0., 0., 0., 1.]),\n",
       " 53: array([0.33333333, 0.        , 0.        , 0.        , 0.66666667]),\n",
       " 137: array([0., 0., 0., 1., 0.]),\n",
       " 95: array([0., 1., 0., 0., 0.]),\n",
       " 49: array([0.57142857, 0.        , 0.        , 0.        , 0.42857143]),\n",
       " 99: array([0. , 0.5, 0. , 0. , 0.5]),\n",
       " 133: array([0., 1., 0., 0., 0.]),\n",
       " 45: array([0.25, 0.  , 0.  , 0.  , 0.75]),\n",
       " 43: array([0.22222222, 0.        , 0.        , 0.        , 0.77777778]),\n",
       " 121: array([0., 1., 0., 0., 0.]),\n",
       " 138: array([0., 1., 0., 0., 0.]),\n",
       " 65: array([0.        , 0.33333333, 0.        , 0.        , 0.66666667]),\n",
       " 88: array([0., 0., 0., 0., 1.]),\n",
       " 40: array([0.4, 0. , 0. , 0. , 0.6]),\n",
       " 58: array([0., 0., 0., 0., 1.]),\n",
       " 118: array([0., 1., 0., 0., 0.]),\n",
       " 66: array([0. , 0.5, 0. , 0. , 0.5]),\n",
       " 48: array([0.33333333, 0.        , 0.        , 0.        , 0.66666667]),\n",
       " 79: array([0. , 0.5, 0. , 0. , 0.5]),\n",
       " 38: array([0.57142857, 0.        , 0.        , 0.        , 0.42857143]),\n",
       " 103: array([0.        , 0.66666667, 0.        , 0.        , 0.33333333]),\n",
       " 61: array([0.5, 0.5, 0. , 0. , 0. ]),\n",
       " 70: array([0., 0., 0., 0., 1.]),\n",
       " 74: array([0., 0., 0., 0., 1.]),\n",
       " 72: array([0., 0., 0., 0., 1.]),\n",
       " 101: array([0.        , 0.33333333, 0.        , 0.        , 0.66666667]),\n",
       " 77: array([0., 0., 0., 0., 1.]),\n",
       " 81: array([0., 0., 0., 0., 1.]),\n",
       " 67: array([0., 0., 0., 0., 1.]),\n",
       " 114: array([0., 1., 0., 0., 0.]),\n",
       " 112: array([0. , 0.5, 0. , 0. , 0.5]),\n",
       " 158: array([0., 1., 0., 0., 0.]),\n",
       " 106: array([0., 1., 0., 0., 0.]),\n",
       " 80: array([0., 0., 0., 0., 1.]),\n",
       " 62: array([0., 0., 0., 0., 1.]),\n",
       " 132: array([0., 1., 0., 0., 0.]),\n",
       " 173: array([0., 1., 0., 0., 0.]),\n",
       " 90: array([0., 1., 0., 0., 0.]),\n",
       " 151: array([0., 1., 0., 0., 0.]),\n",
       " 240: array([0., 0., 0., 1., 0.])}"
      ]
     },
     "execution_count": 83,
     "metadata": {},
     "output_type": "execute_result"
    }
   ],
   "source": [
    "# for each unique value in the recipients column, add to a dictionary a list of probabilities of the value in the recipients column being in each cluster\n",
    "recipients_cluster_probs = dict()\n",
    "for num_recipients in recipients.keys():\n",
    "    recipients_cluster_probs[num_recipients] = np.array([0] * n_clusters)\n",
    "    \n",
    "for index, row in activity.iterrows():\n",
    "    num_recipients = row['Recipients']\n",
    "    cluster = row['cluster']\n",
    "    recipients_cluster_probs[num_recipients][cluster] += 1\n",
    "    \n",
    "for num_recipients, cluster_probs in recipients_cluster_probs.items():\n",
    "    recipients_cluster_probs[num_recipients] = cluster_probs / sum(cluster_probs)\n",
    "        \n",
    "recipients_cluster_probs"
   ]
  },
  {
   "cell_type": "code",
   "execution_count": 84,
   "metadata": {},
   "outputs": [
    {
     "data": {
      "text/plain": [
       "{0: DegreeDistribution(activity_dict={56: 9, 8: 112, 6: 142, 47: 16, 16: 40, 31: 19, 12: 49, 7: 125, 1: 1376, 33: 7, 0: 934, 5: 187, 10: 80, 38: 9, 45: 6, 43: 7, 17: 34, 4: 285, 2: 675, 20: 23, 9: 93, 11: 71, 39: 11, 48: 6, 23: 22, 21: 26, 28: 20, 24: 23, 32: 16, 36: 14, 40: 8, 15: 43, 27: 17, 3: 398, 58: 6, 18: 43, 22: 23, 57: 2, 53: 5, 34: 11, 14: 56, 13: 48, 55: 2, 37: 8, 26: 20, 51: 3, 25: 20, 29: 7, 59: 2, 41: 6, 35: 7, 52: 9, 19: 31, 50: 4, 30: 13, 42: 6, 49: 6, 44: 3, 64: 1, 46: 3, 54: 3, 61: 2, 66: 1, 65: 1}),\n",
       " 1: DegreeDistribution(activity_dict={491: 1, 583: 1, 416: 1, 781: 1, 324: 1, 468: 1, 531: 1, 311: 1, 292: 1, 322: 1, 836: 1, 306: 1, 697: 1, 371: 1, 590: 1, 586: 1, 769: 1, 547: 1, 287: 1, 415: 2, 339: 1, 479: 1, 362: 1, 649: 1, 319: 1, 413: 1, 393: 1, 357: 1, 694: 1, 323: 1, 310: 1, 308: 1, 344: 1, 317: 1, 410: 1, 465: 1, 397: 1, 282: 1, 426: 2, 492: 1, 334: 1, 497: 1, 724: 1, 403: 1, 383: 1, 589: 1, 365: 1, 398: 1, 330: 1}),\n",
       " 2: DegreeDistribution(activity_dict={2999: 1, 2912: 1}),\n",
       " 3: DegreeDistribution(activity_dict={952: 1, 1903: 1, 1901: 1, 894: 1, 1346: 1, 1330: 1, 1162: 1, 1072: 1, 1467: 1}),\n",
       " 4: DegreeDistribution(activity_dict={82: 2, 64: 5, 191: 2, 243: 2, 58: 6, 111: 4, 114: 1, 169: 2, 151: 1, 222: 1, 69: 5, 164: 1, 67: 3, 57: 3, 102: 2, 73: 5, 80: 4, 93: 2, 63: 5, 193: 1, 99: 3, 84: 3, 140: 1, 267: 1, 248: 1, 126: 1, 154: 1, 86: 2, 81: 4, 79: 4, 68: 8, 216: 1, 131: 2, 229: 1, 115: 1, 265: 1, 231: 1, 134: 2, 101: 3, 168: 1, 70: 8, 119: 2, 95: 2, 91: 2, 55: 1, 239: 1, 219: 1, 112: 2, 106: 2, 159: 2, 59: 5, 245: 1, 53: 1, 97: 1, 189: 2, 125: 1, 61: 2, 221: 2, 92: 2, 109: 2, 166: 1, 201: 1, 83: 3, 181: 1, 74: 2, 85: 2, 146: 1, 89: 2, 78: 3, 54: 4, 71: 2, 104: 1, 98: 1, 120: 1, 76: 2, 62: 2, 60: 4, 96: 1, 156: 1, 173: 3, 87: 3, 161: 1, 149: 1, 94: 1, 121: 1, 132: 3, 160: 1, 172: 1, 90: 3, 184: 2, 227: 1, 72: 4, 195: 1, 185: 2, 116: 2, 88: 2, 194: 1, 75: 2, 269: 1, 150: 2, 174: 1, 251: 1, 143: 2, 136: 1, 66: 1, 105: 1, 77: 1, 110: 3, 100: 1, 180: 1, 196: 1, 175: 1, 192: 1, 256: 1, 129: 1, 108: 1, 257: 1, 117: 1, 262: 1, 65: 1, 122: 1})}"
      ]
     },
     "execution_count": 84,
     "metadata": {},
     "output_type": "execute_result"
    }
   ],
   "source": [
    "# create a DegreeDistribution object for the degee of total emails sent in each cluster\n",
    "sent_cluster_dist = dict()\n",
    "for cluster_num in range(n_clusters):\n",
    "    sent_cluster_dist[cluster_num] = dict()\n",
    "    \n",
    "for index, row in activity.iterrows():\n",
    "    cluster = row['cluster']\n",
    "    sent = row['Sent']\n",
    "    sent_cluster_dist[cluster][sent] = sent_cluster_dist[cluster].get(sent, 0) + 1\n",
    "    \n",
    "for cluster_num, sent_dist in sent_cluster_dist.items():\n",
    "    sent_cluster_dist[cluster_num] = DegreeDistribution(sent_dist)\n",
    "    \n",
    "sent_cluster_dist"
   ]
  },
  {
   "cell_type": "code",
   "execution_count": 85,
   "metadata": {},
   "outputs": [
    {
     "name": "stdout",
     "output_type": "stream",
     "text": [
      "[3.25318592e-02 7.92505442e-03 8.41425531e-03 ... 7.33801336e-05\n",
      " 1.22300223e-04 1.71220312e-04]\n"
     ]
    }
   ],
   "source": [
    "emails_sent = np.array([0] * len(sorted_random_recipients))\n",
    "for i, num_recipients in enumerate(sorted_random_recipients):\n",
    "    sample_cluster = np.random.choice(range(n_clusters), p=recipients_cluster_probs[num_recipients])\n",
    "    cluster_sent_dist = sent_cluster_dist[sample_cluster]\n",
    "    # number of sent emails must be at least the number of recipients\n",
    "    filtered_sent_dist = cluster_sent_dist.get_dist_with_min_degree(min_degree=min(num_recipients, 1))\n",
    "    num_sent = np.random.choice(filtered_sent_dist.degrees, p=filtered_sent_dist.probabilities)\n",
    "    emails_sent[i] = num_sent\n",
    "    \n",
    "# normalise the distribution\n",
    "emails_sent = emails_sent / sum(emails_sent)\n",
    "print(emails_sent)"
   ]
  },
  {
   "cell_type": "code",
   "execution_count": 86,
   "metadata": {},
   "outputs": [
    {
     "data": {
      "text/plain": [
       "0.36003600360036003"
      ]
     },
     "execution_count": 86,
     "metadata": {},
     "output_type": "execute_result"
    }
   ],
   "source": [
    "# scale the number of emails to the number of people in the network\n",
    "email_scale = SEQ_SIZE / len(all_people)\n",
    "email_scale"
   ]
  },
  {
   "cell_type": "code",
   "execution_count": 92,
   "metadata": {},
   "outputs": [
    {
     "data": {
      "text/plain": [
       "11.214726027397258"
      ]
     },
     "execution_count": 92,
     "metadata": {},
     "output_type": "execute_result"
    }
   ],
   "source": [
    "np.mean(average_emails)"
   ]
  },
  {
   "cell_type": "code",
   "execution_count": null,
   "metadata": {},
   "outputs": [],
   "source": []
  }
 ],
 "metadata": {
  "kernelspec": {
   "display_name": "Python 3",
   "language": "python",
   "name": "python3"
  },
  "language_info": {
   "codemirror_mode": {
    "name": "ipython",
    "version": 3
   },
   "file_extension": ".py",
   "mimetype": "text/x-python",
   "name": "python",
   "nbconvert_exporter": "python",
   "pygments_lexer": "ipython3",
   "version": "3.11.5"
  }
 },
 "nbformat": 4,
 "nbformat_minor": 2
}
