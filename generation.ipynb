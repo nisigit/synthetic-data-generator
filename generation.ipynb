{
 "cells": [
  {
   "cell_type": "code",
   "metadata": {
    "ExecuteTime": {
     "end_time": "2024-04-30T16:34:24.442026Z",
     "start_time": "2024-04-30T16:34:22.688741Z"
    }
   },
   "source": [
    "import pandas as pd\n",
    "import numpy as np\n",
    "import matplotlib.pyplot as plt\n",
    "from matplotlib.lines import Line2D\n",
    "from sklearn.cluster import KMeans\n",
    "from scipy.stats import cauchy\n",
    "import powerlaw\n",
    "import networkx as nx\n",
    "import random\n",
    "from Person import Person\n",
    "from EnronEmail import EnronEmail\n",
    "from DegreeDistribution import DegreeDistribution"
   ],
   "outputs": [],
   "execution_count": 1
  },
  {
   "cell_type": "code",
   "metadata": {
    "ExecuteTime": {
     "end_time": "2024-04-30T16:57:41.644642Z",
     "start_time": "2024-04-30T16:57:41.441878Z"
    }
   },
   "source": [
    "# emails = pd.read_csv('active_emails/active_emails.csv')\n",
    "emails = pd.read_csv('active_emails/active_emails.csv')"
   ],
   "outputs": [],
   "execution_count": 61
  },
  {
   "cell_type": "code",
   "metadata": {
    "ExecuteTime": {
     "end_time": "2024-04-30T16:57:41.967467Z",
     "start_time": "2024-04-30T16:57:41.933103Z"
    }
   },
   "source": [
    "emails['recipients'] = emails['recipients'].apply(lambda x: x.split(' '))\n",
    "emails"
   ],
   "outputs": [
    {
     "data": {
      "text/plain": [
       "                               sender  \\\n",
       "0              chris.foster@enron.com   \n",
       "1                  sue.nord@enron.com   \n",
       "2                  sue.nord@enron.com   \n",
       "3              sheila.tweed@enron.com   \n",
       "4               john.arnold@enron.com   \n",
       "...                               ...   \n",
       "98236  system.administrator@enron.com   \n",
       "98237  system.administrator@enron.com   \n",
       "98238  system.administrator@enron.com   \n",
       "98239  system.administrator@enron.com   \n",
       "98240            pete.davis@enron.com   \n",
       "\n",
       "                                              recipients  \\\n",
       "0                                   [kim.ward@enron.com]   \n",
       "1                                [margo.reyna@enron.com]   \n",
       "2      [barbara.hueter@enron.com, jeff.dasovich@enron...   \n",
       "3      [mark.haedicke@enron.com, elizabeth.sager@enro...   \n",
       "4                              [john.lavorato@enron.com]   \n",
       "...                                                  ...   \n",
       "98236                        [elizabeth.sager@enron.com]   \n",
       "98237                               [kay.mann@enron.com]   \n",
       "98238                             [b..sanders@enron.com]   \n",
       "98239                             [d..steffes@enron.com]   \n",
       "98240                             [pete.davis@enron.com]   \n",
       "\n",
       "                            date  \\\n",
       "0      2001-01-01 01:38:00+00:00   \n",
       "1      2001-01-01 04:29:00+00:00   \n",
       "2      2001-01-01 04:59:00+00:00   \n",
       "3      2001-01-01 05:11:00+00:00   \n",
       "4      2001-01-01 08:36:00+00:00   \n",
       "...                          ...   \n",
       "98236  2001-12-31 23:00:06+00:00   \n",
       "98237  2001-12-31 23:00:11+00:00   \n",
       "98238  2001-12-31 23:00:14+00:00   \n",
       "98239  2001-12-31 23:00:34+00:00   \n",
       "98240  2001-12-31 23:56:37+00:00   \n",
       "\n",
       "                                                 subject  \\\n",
       "0                              2001 natural gas forecast   \n",
       "1                         Re: CA Quarterly Fee Statement   \n",
       "2                Re: Ohio Telecommunications Legislation   \n",
       "3      Commission Hearings on Rate Stabilization Plan...   \n",
       "4                                                    Re:   \n",
       "...                                                  ...   \n",
       "98236                Your mailbox is over its size limit   \n",
       "98237                Your mailbox is over its size limit   \n",
       "98238                Your mailbox is over its size limit   \n",
       "98239                Your mailbox is over its size limit   \n",
       "98240                Schedule Crawler: HourAhead Failure   \n",
       "\n",
       "                                          message_id  day_of_week  \\\n",
       "0      <29779853.1075851847407.JavaMail.evans@thyme>            0   \n",
       "1      <28595177.1075843766562.JavaMail.evans@thyme>            0   \n",
       "2      <17528586.1075843766536.JavaMail.evans@thyme>            0   \n",
       "3      <20708722.1075853232986.JavaMail.evans@thyme>            0   \n",
       "4      <27978344.1075857641184.JavaMail.evans@thyme>            0   \n",
       "...                                              ...          ...   \n",
       "98236   <5967809.1075859126213.JavaMail.evans@thyme>            0   \n",
       "98237  <24436699.1075855246109.JavaMail.evans@thyme>            0   \n",
       "98238   <3308063.1075859457637.JavaMail.evans@thyme>            0   \n",
       "98239  <30237259.1075855209614.JavaMail.evans@thyme>            0   \n",
       "98240  <31116492.1075839978010.JavaMail.evans@thyme>            0   \n",
       "\n",
       "       hour_of_week  \n",
       "0                 1  \n",
       "1                 4  \n",
       "2                 4  \n",
       "3                 5  \n",
       "4                 8  \n",
       "...             ...  \n",
       "98236            23  \n",
       "98237            23  \n",
       "98238            23  \n",
       "98239            23  \n",
       "98240            23  \n",
       "\n",
       "[98241 rows x 7 columns]"
      ],
      "text/html": [
       "<div>\n",
       "<style scoped>\n",
       "    .dataframe tbody tr th:only-of-type {\n",
       "        vertical-align: middle;\n",
       "    }\n",
       "\n",
       "    .dataframe tbody tr th {\n",
       "        vertical-align: top;\n",
       "    }\n",
       "\n",
       "    .dataframe thead th {\n",
       "        text-align: right;\n",
       "    }\n",
       "</style>\n",
       "<table border=\"1\" class=\"dataframe\">\n",
       "  <thead>\n",
       "    <tr style=\"text-align: right;\">\n",
       "      <th></th>\n",
       "      <th>sender</th>\n",
       "      <th>recipients</th>\n",
       "      <th>date</th>\n",
       "      <th>subject</th>\n",
       "      <th>message_id</th>\n",
       "      <th>day_of_week</th>\n",
       "      <th>hour_of_week</th>\n",
       "    </tr>\n",
       "  </thead>\n",
       "  <tbody>\n",
       "    <tr>\n",
       "      <th>0</th>\n",
       "      <td>chris.foster@enron.com</td>\n",
       "      <td>[kim.ward@enron.com]</td>\n",
       "      <td>2001-01-01 01:38:00+00:00</td>\n",
       "      <td>2001 natural gas forecast</td>\n",
       "      <td>&lt;29779853.1075851847407.JavaMail.evans@thyme&gt;</td>\n",
       "      <td>0</td>\n",
       "      <td>1</td>\n",
       "    </tr>\n",
       "    <tr>\n",
       "      <th>1</th>\n",
       "      <td>sue.nord@enron.com</td>\n",
       "      <td>[margo.reyna@enron.com]</td>\n",
       "      <td>2001-01-01 04:29:00+00:00</td>\n",
       "      <td>Re: CA Quarterly Fee Statement</td>\n",
       "      <td>&lt;28595177.1075843766562.JavaMail.evans@thyme&gt;</td>\n",
       "      <td>0</td>\n",
       "      <td>4</td>\n",
       "    </tr>\n",
       "    <tr>\n",
       "      <th>2</th>\n",
       "      <td>sue.nord@enron.com</td>\n",
       "      <td>[barbara.hueter@enron.com, jeff.dasovich@enron...</td>\n",
       "      <td>2001-01-01 04:59:00+00:00</td>\n",
       "      <td>Re: Ohio Telecommunications Legislation</td>\n",
       "      <td>&lt;17528586.1075843766536.JavaMail.evans@thyme&gt;</td>\n",
       "      <td>0</td>\n",
       "      <td>4</td>\n",
       "    </tr>\n",
       "    <tr>\n",
       "      <th>3</th>\n",
       "      <td>sheila.tweed@enron.com</td>\n",
       "      <td>[mark.haedicke@enron.com, elizabeth.sager@enro...</td>\n",
       "      <td>2001-01-01 05:11:00+00:00</td>\n",
       "      <td>Commission Hearings on Rate Stabilization Plan...</td>\n",
       "      <td>&lt;20708722.1075853232986.JavaMail.evans@thyme&gt;</td>\n",
       "      <td>0</td>\n",
       "      <td>5</td>\n",
       "    </tr>\n",
       "    <tr>\n",
       "      <th>4</th>\n",
       "      <td>john.arnold@enron.com</td>\n",
       "      <td>[john.lavorato@enron.com]</td>\n",
       "      <td>2001-01-01 08:36:00+00:00</td>\n",
       "      <td>Re:</td>\n",
       "      <td>&lt;27978344.1075857641184.JavaMail.evans@thyme&gt;</td>\n",
       "      <td>0</td>\n",
       "      <td>8</td>\n",
       "    </tr>\n",
       "    <tr>\n",
       "      <th>...</th>\n",
       "      <td>...</td>\n",
       "      <td>...</td>\n",
       "      <td>...</td>\n",
       "      <td>...</td>\n",
       "      <td>...</td>\n",
       "      <td>...</td>\n",
       "      <td>...</td>\n",
       "    </tr>\n",
       "    <tr>\n",
       "      <th>98236</th>\n",
       "      <td>system.administrator@enron.com</td>\n",
       "      <td>[elizabeth.sager@enron.com]</td>\n",
       "      <td>2001-12-31 23:00:06+00:00</td>\n",
       "      <td>Your mailbox is over its size limit</td>\n",
       "      <td>&lt;5967809.1075859126213.JavaMail.evans@thyme&gt;</td>\n",
       "      <td>0</td>\n",
       "      <td>23</td>\n",
       "    </tr>\n",
       "    <tr>\n",
       "      <th>98237</th>\n",
       "      <td>system.administrator@enron.com</td>\n",
       "      <td>[kay.mann@enron.com]</td>\n",
       "      <td>2001-12-31 23:00:11+00:00</td>\n",
       "      <td>Your mailbox is over its size limit</td>\n",
       "      <td>&lt;24436699.1075855246109.JavaMail.evans@thyme&gt;</td>\n",
       "      <td>0</td>\n",
       "      <td>23</td>\n",
       "    </tr>\n",
       "    <tr>\n",
       "      <th>98238</th>\n",
       "      <td>system.administrator@enron.com</td>\n",
       "      <td>[b..sanders@enron.com]</td>\n",
       "      <td>2001-12-31 23:00:14+00:00</td>\n",
       "      <td>Your mailbox is over its size limit</td>\n",
       "      <td>&lt;3308063.1075859457637.JavaMail.evans@thyme&gt;</td>\n",
       "      <td>0</td>\n",
       "      <td>23</td>\n",
       "    </tr>\n",
       "    <tr>\n",
       "      <th>98239</th>\n",
       "      <td>system.administrator@enron.com</td>\n",
       "      <td>[d..steffes@enron.com]</td>\n",
       "      <td>2001-12-31 23:00:34+00:00</td>\n",
       "      <td>Your mailbox is over its size limit</td>\n",
       "      <td>&lt;30237259.1075855209614.JavaMail.evans@thyme&gt;</td>\n",
       "      <td>0</td>\n",
       "      <td>23</td>\n",
       "    </tr>\n",
       "    <tr>\n",
       "      <th>98240</th>\n",
       "      <td>pete.davis@enron.com</td>\n",
       "      <td>[pete.davis@enron.com]</td>\n",
       "      <td>2001-12-31 23:56:37+00:00</td>\n",
       "      <td>Schedule Crawler: HourAhead Failure</td>\n",
       "      <td>&lt;31116492.1075839978010.JavaMail.evans@thyme&gt;</td>\n",
       "      <td>0</td>\n",
       "      <td>23</td>\n",
       "    </tr>\n",
       "  </tbody>\n",
       "</table>\n",
       "<p>98241 rows × 7 columns</p>\n",
       "</div>"
      ]
     },
     "execution_count": 62,
     "metadata": {},
     "output_type": "execute_result"
    }
   ],
   "execution_count": 62
  },
  {
   "cell_type": "code",
   "metadata": {
    "ExecuteTime": {
     "end_time": "2024-04-30T16:57:52.921231Z",
     "start_time": "2024-04-30T16:57:52.878633Z"
    }
   },
   "source": [
    "num_replies = emails['subject'].str.startswith(\"RE:\").sum()\n",
    "num_forwards = emails['subject'].str.startswith((\"Fw:\", \"Fwd:\", \"FW:\")).sum()\n",
    "num_starters = len(emails) - num_replies - num_forwards\n",
    "\n",
    "print(num_replies, num_forwards, num_starters)"
   ],
   "outputs": [
    {
     "name": "stdout",
     "output_type": "stream",
     "text": [
      "20565 14890 62786\n"
     ]
    }
   ],
   "execution_count": 63
  },
  {
   "cell_type": "code",
   "metadata": {
    "ExecuteTime": {
     "end_time": "2024-04-30T16:57:56.828894Z",
     "start_time": "2024-04-30T16:57:56.826279Z"
    }
   },
   "source": [
    "probabilities = [num_replies, num_forwards]\n",
    "probabilities = [prob / num_starters for prob in probabilities]\n",
    "print(probabilities)"
   ],
   "outputs": [
    {
     "name": "stdout",
     "output_type": "stream",
     "text": [
      "[0.32754117159876406, 0.23715477972796484]\n"
     ]
    }
   ],
   "execution_count": 64
  },
  {
   "cell_type": "code",
   "metadata": {
    "ExecuteTime": {
     "end_time": "2024-04-30T16:57:58.600926Z",
     "start_time": "2024-04-30T16:57:58.423747Z"
    }
   },
   "source": [
    "emails['date'] = pd.to_datetime(emails['date'], utc=True, infer_datetime_format=True)\n",
    "emails.head()"
   ],
   "outputs": [
    {
     "name": "stderr",
     "output_type": "stream",
     "text": [
      "/var/folders/1w/ty9_z0y12r72xymhb930rg9h0000gn/T/ipykernel_69005/1074924353.py:1: UserWarning: The argument 'infer_datetime_format' is deprecated and will be removed in a future version. A strict version of it is now the default, see https://pandas.pydata.org/pdeps/0004-consistent-to-datetime-parsing.html. You can safely remove this argument.\n",
      "  emails['date'] = pd.to_datetime(emails['date'], utc=True, infer_datetime_format=True)\n"
     ]
    },
    {
     "data": {
      "text/plain": [
       "                   sender                                         recipients  \\\n",
       "0  chris.foster@enron.com                               [kim.ward@enron.com]   \n",
       "1      sue.nord@enron.com                            [margo.reyna@enron.com]   \n",
       "2      sue.nord@enron.com  [barbara.hueter@enron.com, jeff.dasovich@enron...   \n",
       "3  sheila.tweed@enron.com  [mark.haedicke@enron.com, elizabeth.sager@enro...   \n",
       "4   john.arnold@enron.com                          [john.lavorato@enron.com]   \n",
       "\n",
       "                       date  \\\n",
       "0 2001-01-01 01:38:00+00:00   \n",
       "1 2001-01-01 04:29:00+00:00   \n",
       "2 2001-01-01 04:59:00+00:00   \n",
       "3 2001-01-01 05:11:00+00:00   \n",
       "4 2001-01-01 08:36:00+00:00   \n",
       "\n",
       "                                             subject  \\\n",
       "0                          2001 natural gas forecast   \n",
       "1                     Re: CA Quarterly Fee Statement   \n",
       "2            Re: Ohio Telecommunications Legislation   \n",
       "3  Commission Hearings on Rate Stabilization Plan...   \n",
       "4                                                Re:   \n",
       "\n",
       "                                      message_id  day_of_week  hour_of_week  \n",
       "0  <29779853.1075851847407.JavaMail.evans@thyme>            0             1  \n",
       "1  <28595177.1075843766562.JavaMail.evans@thyme>            0             4  \n",
       "2  <17528586.1075843766536.JavaMail.evans@thyme>            0             4  \n",
       "3  <20708722.1075853232986.JavaMail.evans@thyme>            0             5  \n",
       "4  <27978344.1075857641184.JavaMail.evans@thyme>            0             8  "
      ],
      "text/html": [
       "<div>\n",
       "<style scoped>\n",
       "    .dataframe tbody tr th:only-of-type {\n",
       "        vertical-align: middle;\n",
       "    }\n",
       "\n",
       "    .dataframe tbody tr th {\n",
       "        vertical-align: top;\n",
       "    }\n",
       "\n",
       "    .dataframe thead th {\n",
       "        text-align: right;\n",
       "    }\n",
       "</style>\n",
       "<table border=\"1\" class=\"dataframe\">\n",
       "  <thead>\n",
       "    <tr style=\"text-align: right;\">\n",
       "      <th></th>\n",
       "      <th>sender</th>\n",
       "      <th>recipients</th>\n",
       "      <th>date</th>\n",
       "      <th>subject</th>\n",
       "      <th>message_id</th>\n",
       "      <th>day_of_week</th>\n",
       "      <th>hour_of_week</th>\n",
       "    </tr>\n",
       "  </thead>\n",
       "  <tbody>\n",
       "    <tr>\n",
       "      <th>0</th>\n",
       "      <td>chris.foster@enron.com</td>\n",
       "      <td>[kim.ward@enron.com]</td>\n",
       "      <td>2001-01-01 01:38:00+00:00</td>\n",
       "      <td>2001 natural gas forecast</td>\n",
       "      <td>&lt;29779853.1075851847407.JavaMail.evans@thyme&gt;</td>\n",
       "      <td>0</td>\n",
       "      <td>1</td>\n",
       "    </tr>\n",
       "    <tr>\n",
       "      <th>1</th>\n",
       "      <td>sue.nord@enron.com</td>\n",
       "      <td>[margo.reyna@enron.com]</td>\n",
       "      <td>2001-01-01 04:29:00+00:00</td>\n",
       "      <td>Re: CA Quarterly Fee Statement</td>\n",
       "      <td>&lt;28595177.1075843766562.JavaMail.evans@thyme&gt;</td>\n",
       "      <td>0</td>\n",
       "      <td>4</td>\n",
       "    </tr>\n",
       "    <tr>\n",
       "      <th>2</th>\n",
       "      <td>sue.nord@enron.com</td>\n",
       "      <td>[barbara.hueter@enron.com, jeff.dasovich@enron...</td>\n",
       "      <td>2001-01-01 04:59:00+00:00</td>\n",
       "      <td>Re: Ohio Telecommunications Legislation</td>\n",
       "      <td>&lt;17528586.1075843766536.JavaMail.evans@thyme&gt;</td>\n",
       "      <td>0</td>\n",
       "      <td>4</td>\n",
       "    </tr>\n",
       "    <tr>\n",
       "      <th>3</th>\n",
       "      <td>sheila.tweed@enron.com</td>\n",
       "      <td>[mark.haedicke@enron.com, elizabeth.sager@enro...</td>\n",
       "      <td>2001-01-01 05:11:00+00:00</td>\n",
       "      <td>Commission Hearings on Rate Stabilization Plan...</td>\n",
       "      <td>&lt;20708722.1075853232986.JavaMail.evans@thyme&gt;</td>\n",
       "      <td>0</td>\n",
       "      <td>5</td>\n",
       "    </tr>\n",
       "    <tr>\n",
       "      <th>4</th>\n",
       "      <td>john.arnold@enron.com</td>\n",
       "      <td>[john.lavorato@enron.com]</td>\n",
       "      <td>2001-01-01 08:36:00+00:00</td>\n",
       "      <td>Re:</td>\n",
       "      <td>&lt;27978344.1075857641184.JavaMail.evans@thyme&gt;</td>\n",
       "      <td>0</td>\n",
       "      <td>8</td>\n",
       "    </tr>\n",
       "  </tbody>\n",
       "</table>\n",
       "</div>"
      ]
     },
     "execution_count": 65,
     "metadata": {},
     "output_type": "execute_result"
    }
   ],
   "execution_count": 65
  },
  {
   "cell_type": "code",
   "metadata": {
    "ExecuteTime": {
     "end_time": "2024-04-30T16:58:00.497391Z",
     "start_time": "2024-04-30T16:58:00.485578Z"
    }
   },
   "source": [
    "# extract day of week as integer\n",
    "emails['day_of_week'] = emails['date'].dt.dayofweek\n",
    "emails['hour_of_week'] = emails['date'].dt.hour + emails['day_of_week'] * 24\n",
    "emails.head()"
   ],
   "outputs": [
    {
     "data": {
      "text/plain": [
       "                   sender                                         recipients  \\\n",
       "0  chris.foster@enron.com                               [kim.ward@enron.com]   \n",
       "1      sue.nord@enron.com                            [margo.reyna@enron.com]   \n",
       "2      sue.nord@enron.com  [barbara.hueter@enron.com, jeff.dasovich@enron...   \n",
       "3  sheila.tweed@enron.com  [mark.haedicke@enron.com, elizabeth.sager@enro...   \n",
       "4   john.arnold@enron.com                          [john.lavorato@enron.com]   \n",
       "\n",
       "                       date  \\\n",
       "0 2001-01-01 01:38:00+00:00   \n",
       "1 2001-01-01 04:29:00+00:00   \n",
       "2 2001-01-01 04:59:00+00:00   \n",
       "3 2001-01-01 05:11:00+00:00   \n",
       "4 2001-01-01 08:36:00+00:00   \n",
       "\n",
       "                                             subject  \\\n",
       "0                          2001 natural gas forecast   \n",
       "1                     Re: CA Quarterly Fee Statement   \n",
       "2            Re: Ohio Telecommunications Legislation   \n",
       "3  Commission Hearings on Rate Stabilization Plan...   \n",
       "4                                                Re:   \n",
       "\n",
       "                                      message_id  day_of_week  hour_of_week  \n",
       "0  <29779853.1075851847407.JavaMail.evans@thyme>            0             1  \n",
       "1  <28595177.1075843766562.JavaMail.evans@thyme>            0             4  \n",
       "2  <17528586.1075843766536.JavaMail.evans@thyme>            0             4  \n",
       "3  <20708722.1075853232986.JavaMail.evans@thyme>            0             5  \n",
       "4  <27978344.1075857641184.JavaMail.evans@thyme>            0             8  "
      ],
      "text/html": [
       "<div>\n",
       "<style scoped>\n",
       "    .dataframe tbody tr th:only-of-type {\n",
       "        vertical-align: middle;\n",
       "    }\n",
       "\n",
       "    .dataframe tbody tr th {\n",
       "        vertical-align: top;\n",
       "    }\n",
       "\n",
       "    .dataframe thead th {\n",
       "        text-align: right;\n",
       "    }\n",
       "</style>\n",
       "<table border=\"1\" class=\"dataframe\">\n",
       "  <thead>\n",
       "    <tr style=\"text-align: right;\">\n",
       "      <th></th>\n",
       "      <th>sender</th>\n",
       "      <th>recipients</th>\n",
       "      <th>date</th>\n",
       "      <th>subject</th>\n",
       "      <th>message_id</th>\n",
       "      <th>day_of_week</th>\n",
       "      <th>hour_of_week</th>\n",
       "    </tr>\n",
       "  </thead>\n",
       "  <tbody>\n",
       "    <tr>\n",
       "      <th>0</th>\n",
       "      <td>chris.foster@enron.com</td>\n",
       "      <td>[kim.ward@enron.com]</td>\n",
       "      <td>2001-01-01 01:38:00+00:00</td>\n",
       "      <td>2001 natural gas forecast</td>\n",
       "      <td>&lt;29779853.1075851847407.JavaMail.evans@thyme&gt;</td>\n",
       "      <td>0</td>\n",
       "      <td>1</td>\n",
       "    </tr>\n",
       "    <tr>\n",
       "      <th>1</th>\n",
       "      <td>sue.nord@enron.com</td>\n",
       "      <td>[margo.reyna@enron.com]</td>\n",
       "      <td>2001-01-01 04:29:00+00:00</td>\n",
       "      <td>Re: CA Quarterly Fee Statement</td>\n",
       "      <td>&lt;28595177.1075843766562.JavaMail.evans@thyme&gt;</td>\n",
       "      <td>0</td>\n",
       "      <td>4</td>\n",
       "    </tr>\n",
       "    <tr>\n",
       "      <th>2</th>\n",
       "      <td>sue.nord@enron.com</td>\n",
       "      <td>[barbara.hueter@enron.com, jeff.dasovich@enron...</td>\n",
       "      <td>2001-01-01 04:59:00+00:00</td>\n",
       "      <td>Re: Ohio Telecommunications Legislation</td>\n",
       "      <td>&lt;17528586.1075843766536.JavaMail.evans@thyme&gt;</td>\n",
       "      <td>0</td>\n",
       "      <td>4</td>\n",
       "    </tr>\n",
       "    <tr>\n",
       "      <th>3</th>\n",
       "      <td>sheila.tweed@enron.com</td>\n",
       "      <td>[mark.haedicke@enron.com, elizabeth.sager@enro...</td>\n",
       "      <td>2001-01-01 05:11:00+00:00</td>\n",
       "      <td>Commission Hearings on Rate Stabilization Plan...</td>\n",
       "      <td>&lt;20708722.1075853232986.JavaMail.evans@thyme&gt;</td>\n",
       "      <td>0</td>\n",
       "      <td>5</td>\n",
       "    </tr>\n",
       "    <tr>\n",
       "      <th>4</th>\n",
       "      <td>john.arnold@enron.com</td>\n",
       "      <td>[john.lavorato@enron.com]</td>\n",
       "      <td>2001-01-01 08:36:00+00:00</td>\n",
       "      <td>Re:</td>\n",
       "      <td>&lt;27978344.1075857641184.JavaMail.evans@thyme&gt;</td>\n",
       "      <td>0</td>\n",
       "      <td>8</td>\n",
       "    </tr>\n",
       "  </tbody>\n",
       "</table>\n",
       "</div>"
      ]
     },
     "execution_count": 66,
     "metadata": {},
     "output_type": "execute_result"
    }
   ],
   "execution_count": 66
  },
  {
   "cell_type": "code",
   "metadata": {
    "ExecuteTime": {
     "end_time": "2024-04-30T16:58:07.296627Z",
     "start_time": "2024-04-30T16:58:07.269255Z"
    }
   },
   "source": [
    "# show emails sorted by date\n",
    "emails.sort_values('date', inplace=True)\n",
    "emails.head()"
   ],
   "outputs": [
    {
     "data": {
      "text/plain": [
       "                   sender                                         recipients  \\\n",
       "0  chris.foster@enron.com                               [kim.ward@enron.com]   \n",
       "1      sue.nord@enron.com                            [margo.reyna@enron.com]   \n",
       "2      sue.nord@enron.com  [barbara.hueter@enron.com, jeff.dasovich@enron...   \n",
       "3  sheila.tweed@enron.com  [mark.haedicke@enron.com, elizabeth.sager@enro...   \n",
       "4   john.arnold@enron.com                          [john.lavorato@enron.com]   \n",
       "\n",
       "                       date  \\\n",
       "0 2001-01-01 01:38:00+00:00   \n",
       "1 2001-01-01 04:29:00+00:00   \n",
       "2 2001-01-01 04:59:00+00:00   \n",
       "3 2001-01-01 05:11:00+00:00   \n",
       "4 2001-01-01 08:36:00+00:00   \n",
       "\n",
       "                                             subject  \\\n",
       "0                          2001 natural gas forecast   \n",
       "1                     Re: CA Quarterly Fee Statement   \n",
       "2            Re: Ohio Telecommunications Legislation   \n",
       "3  Commission Hearings on Rate Stabilization Plan...   \n",
       "4                                                Re:   \n",
       "\n",
       "                                      message_id  day_of_week  hour_of_week  \n",
       "0  <29779853.1075851847407.JavaMail.evans@thyme>            0             1  \n",
       "1  <28595177.1075843766562.JavaMail.evans@thyme>            0             4  \n",
       "2  <17528586.1075843766536.JavaMail.evans@thyme>            0             4  \n",
       "3  <20708722.1075853232986.JavaMail.evans@thyme>            0             5  \n",
       "4  <27978344.1075857641184.JavaMail.evans@thyme>            0             8  "
      ],
      "text/html": [
       "<div>\n",
       "<style scoped>\n",
       "    .dataframe tbody tr th:only-of-type {\n",
       "        vertical-align: middle;\n",
       "    }\n",
       "\n",
       "    .dataframe tbody tr th {\n",
       "        vertical-align: top;\n",
       "    }\n",
       "\n",
       "    .dataframe thead th {\n",
       "        text-align: right;\n",
       "    }\n",
       "</style>\n",
       "<table border=\"1\" class=\"dataframe\">\n",
       "  <thead>\n",
       "    <tr style=\"text-align: right;\">\n",
       "      <th></th>\n",
       "      <th>sender</th>\n",
       "      <th>recipients</th>\n",
       "      <th>date</th>\n",
       "      <th>subject</th>\n",
       "      <th>message_id</th>\n",
       "      <th>day_of_week</th>\n",
       "      <th>hour_of_week</th>\n",
       "    </tr>\n",
       "  </thead>\n",
       "  <tbody>\n",
       "    <tr>\n",
       "      <th>0</th>\n",
       "      <td>chris.foster@enron.com</td>\n",
       "      <td>[kim.ward@enron.com]</td>\n",
       "      <td>2001-01-01 01:38:00+00:00</td>\n",
       "      <td>2001 natural gas forecast</td>\n",
       "      <td>&lt;29779853.1075851847407.JavaMail.evans@thyme&gt;</td>\n",
       "      <td>0</td>\n",
       "      <td>1</td>\n",
       "    </tr>\n",
       "    <tr>\n",
       "      <th>1</th>\n",
       "      <td>sue.nord@enron.com</td>\n",
       "      <td>[margo.reyna@enron.com]</td>\n",
       "      <td>2001-01-01 04:29:00+00:00</td>\n",
       "      <td>Re: CA Quarterly Fee Statement</td>\n",
       "      <td>&lt;28595177.1075843766562.JavaMail.evans@thyme&gt;</td>\n",
       "      <td>0</td>\n",
       "      <td>4</td>\n",
       "    </tr>\n",
       "    <tr>\n",
       "      <th>2</th>\n",
       "      <td>sue.nord@enron.com</td>\n",
       "      <td>[barbara.hueter@enron.com, jeff.dasovich@enron...</td>\n",
       "      <td>2001-01-01 04:59:00+00:00</td>\n",
       "      <td>Re: Ohio Telecommunications Legislation</td>\n",
       "      <td>&lt;17528586.1075843766536.JavaMail.evans@thyme&gt;</td>\n",
       "      <td>0</td>\n",
       "      <td>4</td>\n",
       "    </tr>\n",
       "    <tr>\n",
       "      <th>3</th>\n",
       "      <td>sheila.tweed@enron.com</td>\n",
       "      <td>[mark.haedicke@enron.com, elizabeth.sager@enro...</td>\n",
       "      <td>2001-01-01 05:11:00+00:00</td>\n",
       "      <td>Commission Hearings on Rate Stabilization Plan...</td>\n",
       "      <td>&lt;20708722.1075853232986.JavaMail.evans@thyme&gt;</td>\n",
       "      <td>0</td>\n",
       "      <td>5</td>\n",
       "    </tr>\n",
       "    <tr>\n",
       "      <th>4</th>\n",
       "      <td>john.arnold@enron.com</td>\n",
       "      <td>[john.lavorato@enron.com]</td>\n",
       "      <td>2001-01-01 08:36:00+00:00</td>\n",
       "      <td>Re:</td>\n",
       "      <td>&lt;27978344.1075857641184.JavaMail.evans@thyme&gt;</td>\n",
       "      <td>0</td>\n",
       "      <td>8</td>\n",
       "    </tr>\n",
       "  </tbody>\n",
       "</table>\n",
       "</div>"
      ]
     },
     "execution_count": 67,
     "metadata": {},
     "output_type": "execute_result"
    }
   ],
   "execution_count": 67
  },
  {
   "cell_type": "code",
   "metadata": {
    "ExecuteTime": {
     "end_time": "2024-04-30T16:58:08.919795Z",
     "start_time": "2024-04-30T16:58:08.741497Z"
    }
   },
   "source": [
    "# Group the emails by hour of the week and calculate the size of each group\n",
    "grouped_emails = emails.groupby('hour_of_week').size()\n",
    "\n",
    "# Calculate the average number of emails per hour\n",
    "average_emails = grouped_emails / (365 / 7)\n",
    "\n",
    "colors = ['blue' if (hour // 24) % 2 == 0 else 'navy' for hour in range(168)]\n",
    "\n",
    "# Plot the number of emails by hour of the week\n",
    "average_emails.plot(kind='bar', color=colors, figsize=(10, 6))\n",
    "\n",
    "# Set the x and y-axis labels\n",
    "plt.xlabel('Hour of the Week')\n",
    "plt.ylabel('Number of Emails')\n",
    "\n",
    "plt.xticks(range(12, 24 * 7, 24), ['Mon', 'Tue', 'Wed', 'Thu', 'Fri', 'Sat', 'Sun'], rotation=0)\n",
    "\n",
    "# Set the title of the plot\n",
    "plt.title('Number of Emails by Hour of the Week')\n",
    "\n",
    "# Show the plot\n",
    "plt.show()"
   ],
   "outputs": [
    {
     "data": {
      "text/plain": [
       "<Figure size 1000x600 with 1 Axes>"
      ],
      "image/png": "[encoded data removed]"
     },
     "metadata": {},
     "output_type": "display_data"
    }
   ],
   "execution_count": 68
  },
  {
   "cell_type": "code",
   "metadata": {
    "ExecuteTime": {
     "end_time": "2024-04-30T16:58:10.713903Z",
     "start_time": "2024-04-30T16:58:10.709592Z"
    }
   },
   "source": [
    "# calculate the average number of emails per hour\n",
    "average_emails = grouped_emails / (365 / 7)\n",
    "average_emails.head(), len(average_emails)"
   ],
   "outputs": [
    {
     "data": {
      "text/plain": [
       "(hour_of_week\n",
       " 0     6.808219\n",
       " 1     8.476712\n",
       " 2    11.564384\n",
       " 3    11.564384\n",
       " 4    13.271233\n",
       " dtype: float64,\n",
       " 168)"
      ]
     },
     "execution_count": 69,
     "metadata": {},
     "output_type": "execute_result"
    }
   ],
   "execution_count": 69
  },
  {
   "cell_type": "code",
   "metadata": {
    "ExecuteTime": {
     "end_time": "2024-04-30T16:58:14.243227Z",
     "start_time": "2024-04-30T16:58:12.316201Z"
    }
   },
   "source": [
    "all_people = dict()\n",
    "all_emails = dict()\n",
    "\n",
    "for index, row in emails.iterrows():\n",
    "    email = EnronEmail(row['message_id'], row['sender'],\n",
    "                       row['recipients'], row['date'])\n",
    "    all_emails[email.id] = email\n",
    "    if email.sender not in all_people:\n",
    "        all_people[email.sender] = Person(email.sender)\n",
    "\n",
    "    for recipient in email.recipients:\n",
    "        if recipient not in all_people:\n",
    "            all_people[recipient] = Person(recipient)\n",
    "        all_people[recipient].received[email.id] = email\n",
    "        all_people[email.sender].sent[email.id] = email\n",
    "        all_people[email.sender].recipients.add(recipient)"
   ],
   "outputs": [],
   "execution_count": 70
  },
  {
   "metadata": {
    "ExecuteTime": {
     "end_time": "2024-04-30T16:58:31.416111Z",
     "start_time": "2024-04-30T16:58:31.281840Z"
    }
   },
   "cell_type": "code",
   "source": [
    "graph = nx.Graph()\n",
    "for person in all_people.values():\n",
    "    for email in person.sent.values():\n",
    "        for recipient in email.recipients:\n",
    "            graph.add_edge(person.email, recipient)\n",
    "            \n",
    "print(len(graph.nodes), len(graph.edges))"
   ],
   "outputs": [
    {
     "name": "stdout",
     "output_type": "stream",
     "text": [
      "5555 39316\n"
     ]
    }
   ],
   "execution_count": 73
  },
  {
   "metadata": {
    "ExecuteTime": {
     "end_time": "2024-04-30T16:58:38.627893Z",
     "start_time": "2024-04-30T16:58:38.611867Z"
    }
   },
   "cell_type": "code",
   "source": [
    "# list of length of each node's edges\n",
    "graph_degrees = [len(edges) for node, edges in graph.adjacency()]\n",
    "# list of node emails in the order of the degrees\n",
    "graph_emails = [node for node, edges in sorted(graph.adjacency(), key=lambda x: len(x[1]), reverse=True)]\n",
    "graph_degrees_sent = [len(all_people[email].sent) for email in graph_emails]"
   ],
   "outputs": [],
   "execution_count": 74
  },
  {
   "metadata": {
    "ExecuteTime": {
     "end_time": "2024-04-30T17:15:57.617863Z",
     "start_time": "2024-04-30T17:15:57.583014Z"
    }
   },
   "cell_type": "code",
   "source": [
    "data = {'Email': [], 'Sent': [], 'Connections': []}\n",
    "\n",
    "# for person in all_people.values():\n",
    "#     data['Email'].append(person.email)\n",
    "#     data['Received'].append(len(person.received))\n",
    "#     data['Sent'].append(len(person.sent))\n",
    "#     data['Recipients'].append(len(person.recipients))\n",
    "for email, connections, sent_degree in zip(graph_emails, graph_degrees, graph_degrees_sent):\n",
    "    data['Email'].append(email)\n",
    "    data['Sent'].append(sent_degree)\n",
    "    data['Connections'].append(connections)\n",
    "\n",
    "activity = pd.DataFrame(data)\n",
    "activity"
   ],
   "outputs": [
    {
     "data": {
      "text/plain": [
       "                            Email  Sent  Connections\n",
       "0        louise.kitchen@enron.com   769           46\n",
       "1         john.lavorato@enron.com   324           46\n",
       "2            tana.jones@enron.com  1346           67\n",
       "3         jeff.dasovich@enron.com  2999          142\n",
       "4            sally.beck@enron.com   697           40\n",
       "...                           ...   ...          ...\n",
       "5550         t.campbell@enron.com     1            1\n",
       "5551       team.andrews@enron.com     1            1\n",
       "5552  schlecht.schlecht@enron.com     1           10\n",
       "5553          ron.spain@enron.com     1            1\n",
       "5554   michael.castillo@enron.com     2            1\n",
       "\n",
       "[5555 rows x 3 columns]"
      ],
      "text/html": [
       "<div>\n",
       "<style scoped>\n",
       "    .dataframe tbody tr th:only-of-type {\n",
       "        vertical-align: middle;\n",
       "    }\n",
       "\n",
       "    .dataframe tbody tr th {\n",
       "        vertical-align: top;\n",
       "    }\n",
       "\n",
       "    .dataframe thead th {\n",
       "        text-align: right;\n",
       "    }\n",
       "</style>\n",
       "<table border=\"1\" class=\"dataframe\">\n",
       "  <thead>\n",
       "    <tr style=\"text-align: right;\">\n",
       "      <th></th>\n",
       "      <th>Email</th>\n",
       "      <th>Sent</th>\n",
       "      <th>Connections</th>\n",
       "    </tr>\n",
       "  </thead>\n",
       "  <tbody>\n",
       "    <tr>\n",
       "      <th>0</th>\n",
       "      <td>louise.kitchen@enron.com</td>\n",
       "      <td>769</td>\n",
       "      <td>46</td>\n",
       "    </tr>\n",
       "    <tr>\n",
       "      <th>1</th>\n",
       "      <td>john.lavorato@enron.com</td>\n",
       "      <td>324</td>\n",
       "      <td>46</td>\n",
       "    </tr>\n",
       "    <tr>\n",
       "      <th>2</th>\n",
       "      <td>tana.jones@enron.com</td>\n",
       "      <td>1346</td>\n",
       "      <td>67</td>\n",
       "    </tr>\n",
       "    <tr>\n",
       "      <th>3</th>\n",
       "      <td>jeff.dasovich@enron.com</td>\n",
       "      <td>2999</td>\n",
       "      <td>142</td>\n",
       "    </tr>\n",
       "    <tr>\n",
       "      <th>4</th>\n",
       "      <td>sally.beck@enron.com</td>\n",
       "      <td>697</td>\n",
       "      <td>40</td>\n",
       "    </tr>\n",
       "    <tr>\n",
       "      <th>...</th>\n",
       "      <td>...</td>\n",
       "      <td>...</td>\n",
       "      <td>...</td>\n",
       "    </tr>\n",
       "    <tr>\n",
       "      <th>5550</th>\n",
       "      <td>t.campbell@enron.com</td>\n",
       "      <td>1</td>\n",
       "      <td>1</td>\n",
       "    </tr>\n",
       "    <tr>\n",
       "      <th>5551</th>\n",
       "      <td>team.andrews@enron.com</td>\n",
       "      <td>1</td>\n",
       "      <td>1</td>\n",
       "    </tr>\n",
       "    <tr>\n",
       "      <th>5552</th>\n",
       "      <td>schlecht.schlecht@enron.com</td>\n",
       "      <td>1</td>\n",
       "      <td>10</td>\n",
       "    </tr>\n",
       "    <tr>\n",
       "      <th>5553</th>\n",
       "      <td>ron.spain@enron.com</td>\n",
       "      <td>1</td>\n",
       "      <td>1</td>\n",
       "    </tr>\n",
       "    <tr>\n",
       "      <th>5554</th>\n",
       "      <td>michael.castillo@enron.com</td>\n",
       "      <td>2</td>\n",
       "      <td>1</td>\n",
       "    </tr>\n",
       "  </tbody>\n",
       "</table>\n",
       "<p>5555 rows × 3 columns</p>\n",
       "</div>"
      ]
     },
     "execution_count": 114,
     "metadata": {},
     "output_type": "execute_result"
    }
   ],
   "execution_count": 114
  },
  {
   "cell_type": "code",
   "metadata": {
    "ExecuteTime": {
     "end_time": "2024-04-30T17:16:18.249346Z",
     "start_time": "2024-04-30T17:16:18.242901Z"
    }
   },
   "source": [
    "# create dictionaries for the number of people who received/sent a certain number of emails\n",
    "sent = dict()\n",
    "connectivity = dict() # number different people someone is connected with\n",
    "\n",
    "for degree in graph_degrees_sent:\n",
    "    sent[degree] = sent.get(degree, 0) + 1\n",
    "\n",
    "for email, edges in graph.adjacency():\n",
    "    connectivity[len(edges)] = connectivity.get(len(edges), 0) + 1"
   ],
   "outputs": [],
   "execution_count": 115
  },
  {
   "metadata": {
    "ExecuteTime": {
     "end_time": "2024-04-30T17:16:18.719828Z",
     "start_time": "2024-04-30T17:16:18.716552Z"
    }
   },
   "cell_type": "code",
   "source": "sorted(sent.keys(), reverse=True)[:10]",
   "outputs": [
    {
     "data": {
      "text/plain": [
       "[2999, 2912, 1903, 1901, 1467, 1346, 1330, 1162, 1072, 952]"
      ]
     },
     "execution_count": 116,
     "metadata": {},
     "output_type": "execute_result"
    }
   ],
   "execution_count": 116
  },
  {
   "metadata": {
    "ExecuteTime": {
     "end_time": "2024-04-30T17:16:19.285480Z",
     "start_time": "2024-04-30T17:16:19.260518Z"
    }
   },
   "cell_type": "code",
   "source": [
    "fit_sent = powerlaw.Fit(graph_degrees_sent)\n",
    "fit_connected = powerlaw.Fit(graph_degrees)\n",
    "\n",
    "print(f'Sent fit: {fit_sent.alpha}')\n",
    "print(f'Connected fit: {fit_connected.alpha}')"
   ],
   "outputs": [
    {
     "name": "stdout",
     "output_type": "stream",
     "text": [
      "Calculating best minimal value for power law fit\n",
      "Calculating best minimal value for power law fit\n",
      "Sent fit: 2.0807028929278344\n",
      "Connected fit: 2.960425682638\n"
     ]
    },
    {
     "name": "stderr",
     "output_type": "stream",
     "text": [
      "Values less than or equal to 0 in data. Throwing out 0 or negative values\n"
     ]
    }
   ],
   "execution_count": 117
  },
  {
   "cell_type": "code",
   "metadata": {
    "ExecuteTime": {
     "end_time": "2024-04-30T17:16:20.409855Z",
     "start_time": "2024-04-30T17:16:20.148282Z"
    }
   },
   "source": [
    "# Create a list for the number of emails received by each person\n",
    "# num_activity = [len(person.sent) for person in all_people.values()]\n",
    "# num_activity_rec = [len(person.recipients) for person in all_people.values()]\n",
    "num_activity = graph_degrees_sent\n",
    "num_activity_rec = graph_degrees\n",
    "# Create a list of bin edges from the minimum to the maximum number of emails received, with a step size of 100\n",
    "bin_size = 5\n",
    "# bins_act = range(min(num_activity), max(num_activity) + bin_size, bin_size)\n",
    "bins_act = range(min(num_activity), 1200 + bin_size, bin_size)\n",
    "bins_act_rec = range(min(num_activity_rec), max(num_activity_rec) + bin_size, bin_size)\n",
    "\n",
    "# create a side by side plot of the number of emails sent and received\n",
    "fig, (ax1, ax2) = plt.subplots(1, 2, figsize=(15, 6))\n",
    "\n",
    "# Plot the histogram of the number of emails sent\n",
    "ax1.hist(num_activity, bins=bins_act, color='blue', alpha=0.7, label='Sent')\n",
    "ax1.set_xlabel('Number of Emails')\n",
    "ax1.set_ylabel('Number of People')\n",
    "ax1.set_title('Number of Emails Sent by People')\n",
    "\n",
    "# Plot the histogram of the number of emails received\n",
    "ax2.hist(num_activity_rec, bins=bins_act_rec, color='blue', alpha=0.7, label='Received')\n",
    "ax2.set_xlabel('Number of Unique Recipients')\n",
    "ax2.set_ylabel('Number of People')\n",
    "ax2.set_title('Number of Unique Recipients Emailed by People')\n",
    "\n",
    "plt.show()"
   ],
   "outputs": [
    {
     "data": {
      "text/plain": [
       "<Figure size 1500x600 with 2 Axes>"
      ],
      "image/png": "[encoded data removed]"
     },
     "metadata": {},
     "output_type": "display_data"
    }
   ],
   "execution_count": 118
  },
  {
   "cell_type": "code",
   "metadata": {
    "ExecuteTime": {
     "end_time": "2024-04-30T17:16:50.213826Z",
     "start_time": "2024-04-30T17:16:50.202507Z"
    }
   },
   "source": [
    "def get_log_log(activity_dict: dict, fit_val: float=None):\n",
    "    # P(x) = x^(-alpha)\n",
    "    x = list(activity_dict.keys())\n",
    "    y = list(activity_dict.values())\n",
    "    y = [val / sum(y) for val in y]\n",
    "    \n",
    "    # Plot the log-log graph\n",
    "    fig, ax1 = plt.subplots()\n",
    "    ax1.loglog(x, y, marker='o', linestyle='')\n",
    "    \n",
    "    # add the fit line\n",
    "    if fit_val:\n",
    "        ax2 = ax1.twinx()  # instantiate a second axes that shares the same x-axis\n",
    "        y_fit = [val ** -fit_val for val in x]\n",
    "        ax2.loglog(x, y_fit, color='red', label=f'alpha = {fit_val}', linestyle=':')\n",
    "        ax2.set_yticks([])  # hide the y-axis labels for the second axis\n",
    "    \n",
    "    ax1.set_xlabel('log(out_degree)')\n",
    "    ax1.set_ylabel('log(number of people)')\n",
    "    plt.title('Number of Emails Connections vs Number of People')\n",
    "    return plt"
   ],
   "outputs": [],
   "execution_count": 122
  },
  {
   "cell_type": "code",
   "metadata": {
    "ExecuteTime": {
     "end_time": "2024-04-30T17:16:50.961453Z",
     "start_time": "2024-04-30T17:16:50.686154Z"
    }
   },
   "source": [
    "plt_sent = get_log_log(sent, fit_sent.alpha)\n",
    "plt_sent.show()"
   ],
   "outputs": [
    {
     "name": "stderr",
     "output_type": "stream",
     "text": [
      "/var/folders/1w/ty9_z0y12r72xymhb930rg9h0000gn/T/ipykernel_69005/1938642770.py:14: RuntimeWarning: divide by zero encountered in scalar power\n",
      "  y_fit = [val ** -fit_val for val in x]\n"
     ]
    },
    {
     "data": {
      "text/plain": [
       "<Figure size 640x480 with 2 Axes>"
      ],
      "image/png": "[encoded data removed]"
     },
     "metadata": {},
     "output_type": "display_data"
    }
   ],
   "execution_count": 123
  },
  {
   "cell_type": "code",
   "metadata": {
    "ExecuteTime": {
     "end_time": "2024-04-30T17:16:52.657370Z",
     "start_time": "2024-04-30T17:16:52.364977Z"
    }
   },
   "source": [
    "plt_recipients = get_log_log(connectivity, fit_connected.alpha)\n",
    "plt_recipients.show()"
   ],
   "outputs": [
    {
     "data": {
      "text/plain": [
       "<Figure size 640x480 with 2 Axes>"
      ],
      "image/png": "[encoded data removed]"
     },
     "metadata": {},
     "output_type": "display_data"
    }
   ],
   "execution_count": 124
  },
  {
   "cell_type": "code",
   "metadata": {
    "ExecuteTime": {
     "end_time": "2024-04-30T17:16:55.106044Z",
     "start_time": "2024-04-30T17:16:55.101814Z"
    }
   },
   "source": [
    "# Define the empirical distribution of degrees (number of emails sent)\n",
    "sent_dist = DegreeDistribution(sent)\n",
    "connectivity_dist = DegreeDistribution(connectivity)"
   ],
   "outputs": [],
   "execution_count": 125
  },
  {
   "cell_type": "code",
   "metadata": {
    "ExecuteTime": {
     "end_time": "2024-04-30T17:16:55.553737Z",
     "start_time": "2024-04-30T17:16:55.551173Z"
    }
   },
   "source": [
    "# the index is the degree and the value is the probability of that degree\n",
    "sent_freq_dist = np.zeros(max(sent_dist.degrees) + 1)\n",
    "for sent_degree, probability in zip(sent_dist.degrees, sent_dist.probabilities):\n",
    "    sent_freq_dist[sent_degree] = probability\n",
    "\n",
    "print(len(sent_freq_dist), max(sent_dist.degrees))"
   ],
   "outputs": [
    {
     "name": "stdout",
     "output_type": "stream",
     "text": [
      "3000 2999\n"
     ]
    }
   ],
   "execution_count": 126
  },
  {
   "cell_type": "code",
   "metadata": {
    "ExecuteTime": {
     "end_time": "2024-04-30T17:16:56.077046Z",
     "start_time": "2024-04-30T17:16:56.074711Z"
    }
   },
   "source": [
    "connectivity_freq_dist = np.zeros(max(connectivity_dist.degrees) + 1)\n",
    "for recipients_degree, probability in zip(connectivity_dist.degrees, connectivity_dist.probabilities):\n",
    "    connectivity_freq_dist[recipients_degree] = probability\n",
    "\n",
    "print(len(connectivity_freq_dist), max(connectivity_dist.degrees))"
   ],
   "outputs": [
    {
     "name": "stdout",
     "output_type": "stream",
     "text": [
      "510 509\n"
     ]
    }
   ],
   "execution_count": 127
  },
  {
   "cell_type": "code",
   "metadata": {
    "ExecuteTime": {
     "end_time": "2024-04-30T17:16:56.811151Z",
     "start_time": "2024-04-30T17:16:56.808367Z"
    }
   },
   "source": [
    "def node_dp_degree_approximation(epsilon: float, theta: int, degree_dict: dict, deg_dist: np.ndarray):\n",
    "    beta = epsilon / (np.sqrt(2) * (theta + 1))\n",
    "    St_naive = 0  # smooth upper bound on local sensitivity of Naive Truncation\n",
    "    for k in range(1, theta + 1):\n",
    "        n = len([d for d in degree_dict.keys() if theta - k <= d <= theta + k])\n",
    "        curr_s = (np.exp(-beta * k)) * (1 + k + n)\n",
    "        St_naive = max(St_naive, curr_s)\n",
    "        \n",
    "    cauchy_scale = np.sqrt(2) * theta * St_naive / epsilon\n",
    "    print('cauchy scale', cauchy_scale)\n",
    "    cauchy_noise = cauchy.rvs(loc=0, scale=cauchy_scale, size=theta + 1)\n",
    "    noisy_degs = deg_dist[:theta + 1] + cauchy_noise\n",
    "    noisy_degs = np.maximum(noisy_degs, 0)\n",
    "    noisy_degs = noisy_degs / sum(noisy_degs)\n",
    "    \n",
    "    return noisy_degs"
   ],
   "outputs": [],
   "execution_count": 128
  },
  {
   "cell_type": "code",
   "metadata": {
    "ExecuteTime": {
     "end_time": "2024-04-30T17:16:57.578152Z",
     "start_time": "2024-04-30T17:16:57.570907Z"
    }
   },
   "source": [
    "approx_degrees = node_dp_degree_approximation(epsilon=0.1, theta=8, degree_dict=sent, deg_dist=sent_freq_dist)\n",
    "approx_degrees"
   ],
   "outputs": [
    {
     "name": "stdout",
     "output_type": "stream",
     "text": [
      "cauchy scale 2762.365969635189\n"
     ]
    },
    {
     "data": {
      "text/plain": [
       "array([0.02960119, 0.        , 0.        , 0.47324997, 0.04450297,\n",
       "       0.41424439, 0.        , 0.        , 0.03840148])"
      ]
     },
     "execution_count": 129,
     "metadata": {},
     "output_type": "execute_result"
    }
   ],
   "execution_count": 129
  },
  {
   "cell_type": "code",
   "metadata": {
    "ExecuteTime": {
     "end_time": "2024-04-30T17:16:58.079852Z",
     "start_time": "2024-04-30T17:16:58.076593Z"
    }
   },
   "source": [
    "# Generate N independent random draws from the distribution. If the sum is odd, add 1 to the smallest degree\n",
    "def get_sorted_random_degree_sequence(deg_dist: DegreeDistribution, seq_size: int) -> np.ndarray:\n",
    "    random_degrees = np.random.choice(\n",
    "        deg_dist.degrees, size=seq_size, replace=True, p=deg_dist.probabilities)\n",
    "    if sum(random_degrees) % 2 != 0:\n",
    "        random_degrees[np.argmin(random_degrees)] += 1\n",
    "\n",
    "    return np.sort(random_degrees)[::-1]\n",
    "\n",
    "\n",
    "def get_capped_degree_seq(seq_size: int, deg_dist: DegreeDistribution) -> DegreeDistribution:\n",
    "    degrees, probs = deg_dist.degrees, deg_dist.probabilities\n",
    "    for i, degree in enumerate(degrees):\n",
    "        if degree > seq_size:\n",
    "            max_allowed_deg_idx = i - 1\n",
    "            break\n",
    "    else:\n",
    "        max_allowed_deg_idx = len(degrees) - 1\n",
    "\n",
    "    ds = degrees[:max_allowed_deg_idx]\n",
    "    ps = probs[:max_allowed_deg_idx]\n",
    "    # normalise the probabilities\n",
    "    ps = [prob / sum(ps) for prob in ps]\n",
    "\n",
    "    return DegreeDistribution(dict(zip(ds, ps)))"
   ],
   "outputs": [],
   "execution_count": 130
  },
  {
   "cell_type": "code",
   "metadata": {
    "ExecuteTime": {
     "end_time": "2024-04-30T17:16:59.065531Z",
     "start_time": "2024-04-30T17:16:59.060334Z"
    }
   },
   "source": [
    "SEQ_SIZE = 2000\n",
    "capped_sent_dist = get_capped_degree_seq(seq_size=SEQ_SIZE, deg_dist=sent_dist)\n",
    "sorted_random_sents = get_sorted_random_degree_sequence(deg_dist=capped_sent_dist, seq_size=SEQ_SIZE)\n",
    "\n",
    "capped_connectivity_dist = get_capped_degree_seq(seq_size=SEQ_SIZE, deg_dist=connectivity_dist)\n",
    "sorted_random_connections = get_sorted_random_degree_sequence(deg_dist=capped_connectivity_dist, seq_size=SEQ_SIZE)"
   ],
   "outputs": [],
   "execution_count": 131
  },
  {
   "cell_type": "code",
   "metadata": {
    "ExecuteTime": {
     "end_time": "2024-04-30T17:17:01.355879Z",
     "start_time": "2024-04-30T17:17:01.351994Z"
    }
   },
   "source": "sorted_random_connections, len(sorted_random_connections)",
   "outputs": [
    {
     "data": {
      "text/plain": [
       "(array([296, 242, 238, ...,   1,   1,   1]), 2000)"
      ]
     },
     "execution_count": 132,
     "metadata": {},
     "output_type": "execute_result"
    }
   ],
   "execution_count": 132
  },
  {
   "cell_type": "code",
   "metadata": {
    "ExecuteTime": {
     "end_time": "2024-04-30T17:17:03.274233Z",
     "start_time": "2024-04-30T17:17:03.265229Z"
    }
   },
   "source": [
    "def get_candidate_nodes(sorted_degrees) -> list[int]: # residual_degs\n",
    "    candidate_nodes = []\n",
    "    for i, deg in enumerate(sorted_degrees):\n",
    "        candidate_nodes += [i] * deg\n",
    "    return candidate_nodes\n",
    "\n",
    "\n",
    "def get_random_graph_from_degree(deg_seq: np.ndarray) -> np.ndarray:\n",
    "    N = len(deg_seq)\n",
    "    if sum(deg_seq) % 2 != 0:\n",
    "        deg_seq[-1] += 1\n",
    "    \n",
    "    def fill_adj_matrix(res_degs, c, m, x):\n",
    "        matrix = np.zeros((N, N))\n",
    "        while res_degs:\n",
    "            i = res_degs[0]\n",
    "            valid_j = False\n",
    "            while not valid_j:\n",
    "                # pick a random index from the residual degrees (recipient of person i)\n",
    "                idx = random.randint(1, len(res_degs) - 1)\n",
    "                j = res_degs[idx]\n",
    "                if i == j or matrix[i, j] > 0:\n",
    "                    c += 1\n",
    "                    if c >= m:\n",
    "                        return None\n",
    "                else:\n",
    "                    valid_j = True\n",
    "            matrix[i, j], matrix[j, i] = 1, 1\n",
    "            if x > 0 and x % 100 == 0:\n",
    "                print('here', x, i)\n",
    "            res_degs.pop(idx)\n",
    "            res_degs.pop(0)\n",
    "                \n",
    "        return matrix \n",
    "    \n",
    "    residual_degs = get_candidate_nodes(deg_seq)\n",
    "    adj_matrix = None\n",
    "    x = 0\n",
    "    while adj_matrix is None:\n",
    "        adj_matrix = fill_adj_matrix(res_degs=residual_degs.copy(), c=0, m=2000, x=x)\n",
    "        x += 1\n",
    "    return adj_matrix"
   ],
   "outputs": [],
   "execution_count": 133
  },
  {
   "cell_type": "code",
   "metadata": {
    "ExecuteTime": {
     "end_time": "2024-04-30T17:17:26.733631Z",
     "start_time": "2024-04-30T17:17:26.660047Z"
    }
   },
   "source": [
    "random_graph = get_random_graph_from_degree(sorted_random_connections)\n",
    "random_graph"
   ],
   "outputs": [
    {
     "data": {
      "text/plain": [
       "array([[0., 1., 1., ..., 0., 0., 0.],\n",
       "       [1., 0., 1., ..., 0., 0., 0.],\n",
       "       [1., 1., 0., ..., 0., 0., 0.],\n",
       "       ...,\n",
       "       [0., 0., 0., ..., 0., 0., 0.],\n",
       "       [0., 0., 0., ..., 0., 0., 0.],\n",
       "       [0., 0., 0., ..., 0., 0., 0.]])"
      ]
     },
     "execution_count": 134,
     "metadata": {},
     "output_type": "execute_result"
    }
   ],
   "execution_count": 134
  },
  {
   "cell_type": "markdown",
   "metadata": {},
   "source": [
    "## K means clustering"
   ]
  },
  {
   "cell_type": "code",
   "metadata": {
    "ExecuteTime": {
     "end_time": "2024-04-30T17:17:42.046045Z",
     "start_time": "2024-04-30T17:17:41.225684Z"
    }
   },
   "source": [
    "# Features for clustering\n",
    "# X = activity[['Sent']]\n",
    "X = activity[['Sent', 'Connections']]\n",
    "\n",
    "inertia = []\n",
    "for k in range(1, 11):\n",
    "    # Create a KMeans object with k clusters\n",
    "    kmeans = KMeans(n_clusters=k, random_state=42)\n",
    "    # Fit the model to the data\n",
    "    kmeans.fit(X)\n",
    "    # Append the inertia value to the list\n",
    "    inertia.append(kmeans.inertia_)\n",
    "\n",
    "# Plot the elbow curve\n",
    "plt.plot(range(1, 11), inertia, marker='o')\n",
    "plt.xlabel('Number of Clusters')\n",
    "plt.ylabel('Inertia')\n",
    "plt.title('Elbow Method')\n",
    "plt.show()"
   ],
   "outputs": [
    {
     "data": {
      "text/plain": [
       "<Figure size 640x480 with 1 Axes>"
      ],
      "image/png": "[encoded data removed]"
     },
     "metadata": {},
     "output_type": "display_data"
    }
   ],
   "execution_count": 135
  },
  {
   "cell_type": "code",
   "metadata": {
    "ExecuteTime": {
     "end_time": "2024-04-30T17:17:46.431085Z",
     "start_time": "2024-04-30T17:17:46.337068Z"
    }
   },
   "source": [
    "n_clusters = 4\n",
    "X = activity[['Sent', 'Connections']]\n",
    "kmeans = KMeans(n_clusters=n_clusters, random_state=42)\n",
    "y_means = kmeans.fit_predict(X)\n",
    "activity['cluster'] = y_means\n",
    "activity"
   ],
   "outputs": [
    {
     "data": {
      "text/plain": [
       "                            Email  Sent  Connections  cluster\n",
       "0        louise.kitchen@enron.com   769           46        1\n",
       "1         john.lavorato@enron.com   324           46        3\n",
       "2            tana.jones@enron.com  1346           67        1\n",
       "3         jeff.dasovich@enron.com  2999          142        2\n",
       "4            sally.beck@enron.com   697           40        1\n",
       "...                           ...   ...          ...      ...\n",
       "5550         t.campbell@enron.com     1            1        0\n",
       "5551       team.andrews@enron.com     1            1        0\n",
       "5552  schlecht.schlecht@enron.com     1           10        0\n",
       "5553          ron.spain@enron.com     1            1        0\n",
       "5554   michael.castillo@enron.com     2            1        0\n",
       "\n",
       "[5555 rows x 4 columns]"
      ],
      "text/html": [
       "<div>\n",
       "<style scoped>\n",
       "    .dataframe tbody tr th:only-of-type {\n",
       "        vertical-align: middle;\n",
       "    }\n",
       "\n",
       "    .dataframe tbody tr th {\n",
       "        vertical-align: top;\n",
       "    }\n",
       "\n",
       "    .dataframe thead th {\n",
       "        text-align: right;\n",
       "    }\n",
       "</style>\n",
       "<table border=\"1\" class=\"dataframe\">\n",
       "  <thead>\n",
       "    <tr style=\"text-align: right;\">\n",
       "      <th></th>\n",
       "      <th>Email</th>\n",
       "      <th>Sent</th>\n",
       "      <th>Connections</th>\n",
       "      <th>cluster</th>\n",
       "    </tr>\n",
       "  </thead>\n",
       "  <tbody>\n",
       "    <tr>\n",
       "      <th>0</th>\n",
       "      <td>louise.kitchen@enron.com</td>\n",
       "      <td>769</td>\n",
       "      <td>46</td>\n",
       "      <td>1</td>\n",
       "    </tr>\n",
       "    <tr>\n",
       "      <th>1</th>\n",
       "      <td>john.lavorato@enron.com</td>\n",
       "      <td>324</td>\n",
       "      <td>46</td>\n",
       "      <td>3</td>\n",
       "    </tr>\n",
       "    <tr>\n",
       "      <th>2</th>\n",
       "      <td>tana.jones@enron.com</td>\n",
       "      <td>1346</td>\n",
       "      <td>67</td>\n",
       "      <td>1</td>\n",
       "    </tr>\n",
       "    <tr>\n",
       "      <th>3</th>\n",
       "      <td>jeff.dasovich@enron.com</td>\n",
       "      <td>2999</td>\n",
       "      <td>142</td>\n",
       "      <td>2</td>\n",
       "    </tr>\n",
       "    <tr>\n",
       "      <th>4</th>\n",
       "      <td>sally.beck@enron.com</td>\n",
       "      <td>697</td>\n",
       "      <td>40</td>\n",
       "      <td>1</td>\n",
       "    </tr>\n",
       "    <tr>\n",
       "      <th>...</th>\n",
       "      <td>...</td>\n",
       "      <td>...</td>\n",
       "      <td>...</td>\n",
       "      <td>...</td>\n",
       "    </tr>\n",
       "    <tr>\n",
       "      <th>5550</th>\n",
       "      <td>t.campbell@enron.com</td>\n",
       "      <td>1</td>\n",
       "      <td>1</td>\n",
       "      <td>0</td>\n",
       "    </tr>\n",
       "    <tr>\n",
       "      <th>5551</th>\n",
       "      <td>team.andrews@enron.com</td>\n",
       "      <td>1</td>\n",
       "      <td>1</td>\n",
       "      <td>0</td>\n",
       "    </tr>\n",
       "    <tr>\n",
       "      <th>5552</th>\n",
       "      <td>schlecht.schlecht@enron.com</td>\n",
       "      <td>1</td>\n",
       "      <td>10</td>\n",
       "      <td>0</td>\n",
       "    </tr>\n",
       "    <tr>\n",
       "      <th>5553</th>\n",
       "      <td>ron.spain@enron.com</td>\n",
       "      <td>1</td>\n",
       "      <td>1</td>\n",
       "      <td>0</td>\n",
       "    </tr>\n",
       "    <tr>\n",
       "      <th>5554</th>\n",
       "      <td>michael.castillo@enron.com</td>\n",
       "      <td>2</td>\n",
       "      <td>1</td>\n",
       "      <td>0</td>\n",
       "    </tr>\n",
       "  </tbody>\n",
       "</table>\n",
       "<p>5555 rows × 4 columns</p>\n",
       "</div>"
      ]
     },
     "execution_count": 136,
     "metadata": {},
     "output_type": "execute_result"
    }
   ],
   "execution_count": 136
  },
  {
   "cell_type": "code",
   "metadata": {
    "ExecuteTime": {
     "end_time": "2024-04-30T17:17:49.265706Z",
     "start_time": "2024-04-30T17:17:48.858530Z"
    }
   },
   "source": [
    "from sklearn.metrics import silhouette_score\n",
    "silhouette = silhouette_score(X, y_means)\n",
    "silhouette"
   ],
   "outputs": [
    {
     "data": {
      "text/plain": [
       "0.8947234373832685"
      ]
     },
     "execution_count": 137,
     "metadata": {},
     "output_type": "execute_result"
    }
   ],
   "execution_count": 137
  },
  {
   "cell_type": "code",
   "metadata": {
    "ExecuteTime": {
     "end_time": "2024-04-30T17:18:11.974180Z",
     "start_time": "2024-04-30T17:18:11.775489Z"
    }
   },
   "source": [
    "# Define the color map for the clusters\n",
    "colour_map = {0: '#8338ec', 1: '#f77f00', 2: 'green', 3: 'cyan', 4: 'purple', 5: 'pink'}\n",
    "plt.figure(figsize=(7, 5))\n",
    "\n",
    "# Create the scatter plot with the specified colors\n",
    "# plt.scatter(activity['Received'], activity['Sent'], c=activity['cluster'].map(color_map))\n",
    "# plt.scatter(activity['Sent'], np.zeros(len(X)), c=activity['cluster'].map(colour_map), s=3)\n",
    "plt.scatter(activity['Connections'], activity['Sent'],\n",
    "            c=activity['cluster'].map(colour_map).tolist(), s=10)\n",
    "plt.ylabel('Number of unique recipients')\n",
    "plt.xlabel('Number of Emails Sent')\n",
    "plt.title('Clustering of Emailers based on Number of Emails Sent and Number of Unique Recipients')\n",
    "\n",
    "# Create the legend\n",
    "plt.legend(handles=[Line2D([0], [0], marker='.', color='w', label=f'Cluster {cluster_num}', markerfacecolor=colour_map[cluster_num], markersize=15)\n",
    "                    for cluster_num in range(n_clusters)])\n",
    "\n",
    "plt.show()"
   ],
   "outputs": [
    {
     "data": {
      "text/plain": [
       "<Figure size 700x500 with 1 Axes>"
      ],
      "image/png": "[encoded data removed]"
     },
     "metadata": {},
     "output_type": "display_data"
    }
   ],
   "execution_count": 140
  },
  {
   "cell_type": "code",
   "metadata": {
    "ExecuteTime": {
     "end_time": "2024-04-30T17:19:14.597686Z",
     "start_time": "2024-04-30T17:19:14.462338Z"
    }
   },
   "source": [
    "# For each unique value in the 'Recipients' column, add to a dictionary a list of probabilities of the value in the 'Recipients' column being in each cluster\n",
    "recipients_cluster_probs = dict()\n",
    "for num_recipients in connectivity.keys():\n",
    "    recipients_cluster_probs[num_recipients] = np.array([0] * n_clusters)\n",
    "    \n",
    "for index, row in activity.iterrows():\n",
    "    num_recipients = row['Connections']\n",
    "    cluster = row['cluster']\n",
    "    recipients_cluster_probs[num_recipients][cluster] += 1\n",
    "    \n",
    "for num_recipients, cluster_probs in recipients_cluster_probs.items():\n",
    "    recipients_cluster_probs[num_recipients] = cluster_probs / sum(cluster_probs)\n",
    "        \n",
    "recipients_cluster_probs"
   ],
   "outputs": [
    {
     "data": {
      "text/plain": [
       "{46: array([0.76470588, 0.05882353, 0.        , 0.17647059]),\n",
       " 67: array([0.8, 0.2, 0. , 0. ]),\n",
       " 142: array([0., 0., 1., 0.]),\n",
       " 40: array([0.85714286, 0.07142857, 0.        , 0.07142857]),\n",
       " 3: array([0.99220273, 0.00194932, 0.        , 0.00584795]),\n",
       " 17: array([0.98591549, 0.        , 0.        , 0.01408451]),\n",
       " 50: array([0.6, 0.2, 0.2, 0. ]),\n",
       " 28: array([0.96666667, 0.        , 0.        , 0.03333333]),\n",
       " 5: array([0.99044586, 0.00318471, 0.        , 0.00636943]),\n",
       " 138: array([0., 1., 0., 0.]),\n",
       " 49: array([0.6, 0. , 0. , 0.4]),\n",
       " 339: array([0., 1., 0., 0.]),\n",
       " 125: array([0., 0., 0., 1.]),\n",
       " 16: array([0.94736842, 0.        , 0.01052632, 0.04210526]),\n",
       " 509: array([0., 0., 0., 1.]),\n",
       " 13: array([0.9893617, 0.0106383, 0.       , 0.       ]),\n",
       " 38: array([0.81818182, 0.09090909, 0.        , 0.09090909]),\n",
       " 34: array([0.90909091, 0.        , 0.        , 0.09090909]),\n",
       " 47: array([0.84615385, 0.07692308, 0.        , 0.07692308]),\n",
       " 39: array([0.88888889, 0.05555556, 0.        , 0.05555556]),\n",
       " 11: array([0.99193548, 0.        , 0.        , 0.00806452]),\n",
       " 25: array([0.91666667, 0.        , 0.        , 0.08333333]),\n",
       " 32: array([0.95652174, 0.        , 0.        , 0.04347826]),\n",
       " 31: array([0.92307692, 0.07692308, 0.        , 0.        ]),\n",
       " 296: array([0., 0., 0., 1.]),\n",
       " 101: array([0., 0., 0., 1.]),\n",
       " 144: array([0.5, 0. , 0. , 0.5]),\n",
       " 114: array([0.66666667, 0.        , 0.        , 0.33333333]),\n",
       " 30: array([0.95, 0.05, 0.  , 0.  ]),\n",
       " 69: array([0.85714286, 0.        , 0.        , 0.14285714]),\n",
       " 273: array([0., 1., 0., 0.]),\n",
       " 147: array([0.66666667, 0.        , 0.        , 0.33333333]),\n",
       " 57: array([1., 0., 0., 0.]),\n",
       " 4: array([0.99261084, 0.        , 0.        , 0.00738916]),\n",
       " 83: array([0.8, 0.2, 0. , 0. ]),\n",
       " 29: array([0.92307692, 0.        , 0.        , 0.07692308]),\n",
       " 61: array([0.83333333, 0.        , 0.        , 0.16666667]),\n",
       " 23: array([0.93333333, 0.        , 0.        , 0.06666667]),\n",
       " 54: array([0.875, 0.   , 0.   , 0.125]),\n",
       " 14: array([0.95238095, 0.        , 0.        , 0.04761905]),\n",
       " 150: array([1., 0., 0., 0.]),\n",
       " 7: array([0.9950495, 0.       , 0.       , 0.0049505]),\n",
       " 18: array([0.96666667, 0.01666667, 0.        , 0.01666667]),\n",
       " 168: array([0., 0., 0., 1.]),\n",
       " 52: array([0.85714286, 0.        , 0.        , 0.14285714]),\n",
       " 19: array([0.96078431, 0.        , 0.        , 0.03921569]),\n",
       " 51: array([0.81818182, 0.        , 0.        , 0.18181818]),\n",
       " 86: array([0.5, 0. , 0. , 0.5]),\n",
       " 250: array([0., 0., 0., 1.]),\n",
       " 43: array([0.9, 0. , 0. , 0.1]),\n",
       " 6: array([0.98660714, 0.        , 0.        , 0.01339286]),\n",
       " 9: array([1., 0., 0., 0.]),\n",
       " 276: array([0., 0., 0., 1.]),\n",
       " 130: array([1., 0., 0., 0.]),\n",
       " 107: array([0., 0., 0., 1.]),\n",
       " 85: array([0.66666667, 0.        , 0.        , 0.33333333]),\n",
       " 63: array([1., 0., 0., 0.]),\n",
       " 321: array([0., 0., 0., 1.]),\n",
       " 90: array([0.85714286, 0.        , 0.        , 0.14285714]),\n",
       " 236: array([0., 0., 0., 1.]),\n",
       " 24: array([1., 0., 0., 0.]),\n",
       " 189: array([1., 0., 0., 0.]),\n",
       " 56: array([0.5, 0. , 0. , 0.5]),\n",
       " 10: array([0.98013245, 0.        , 0.        , 0.01986755]),\n",
       " 291: array([0., 0., 0., 1.]),\n",
       " 120: array([0., 0., 0., 1.]),\n",
       " 72: array([0.8, 0. , 0. , 0.2]),\n",
       " 45: array([0.84615385, 0.        , 0.07692308, 0.07692308]),\n",
       " 127: array([0., 0., 0., 1.]),\n",
       " 81: array([0.8, 0. , 0. , 0.2]),\n",
       " 73: array([1., 0., 0., 0.]),\n",
       " 26: array([1., 0., 0., 0.]),\n",
       " 75: array([0.85714286, 0.        , 0.        , 0.14285714]),\n",
       " 111: array([1., 0., 0., 0.]),\n",
       " 2: array([0.99059561, 0.        , 0.        , 0.00940439]),\n",
       " 185: array([1., 0., 0., 0.]),\n",
       " 12: array([0.97222222, 0.        , 0.        , 0.02777778]),\n",
       " 21: array([1., 0., 0., 0.]),\n",
       " 160: array([0.5, 0. , 0. , 0.5]),\n",
       " 35: array([1., 0., 0., 0.]),\n",
       " 27: array([1., 0., 0., 0.]),\n",
       " 44: array([0.92307692, 0.07692308, 0.        , 0.        ]),\n",
       " 20: array([0.98412698, 0.        , 0.        , 0.01587302]),\n",
       " 15: array([0.98717949, 0.        , 0.        , 0.01282051]),\n",
       " 66: array([0.83333333, 0.        , 0.        , 0.16666667]),\n",
       " 88: array([0., 0., 0., 1.]),\n",
       " 8: array([0.99441341, 0.        , 0.        , 0.00558659]),\n",
       " 1: array([1., 0., 0., 0.]),\n",
       " 55: array([1., 0., 0., 0.]),\n",
       " 149: array([1., 0., 0., 0.]),\n",
       " 87: array([0.66666667, 0.        , 0.        , 0.33333333]),\n",
       " 37: array([0.95, 0.  , 0.  , 0.05]),\n",
       " 64: array([1., 0., 0., 0.]),\n",
       " 36: array([1., 0., 0., 0.]),\n",
       " 92: array([1., 0., 0., 0.]),\n",
       " 59: array([0.8, 0. , 0. , 0.2]),\n",
       " 145: array([1., 0., 0., 0.]),\n",
       " 42: array([1., 0., 0., 0.]),\n",
       " 283: array([1., 0., 0., 0.]),\n",
       " 238: array([1., 0., 0., 0.]),\n",
       " 98: array([1., 0., 0., 0.]),\n",
       " 357: array([1., 0., 0., 0.]),\n",
       " 80: array([1., 0., 0., 0.]),\n",
       " 132: array([0.5, 0. , 0. , 0.5]),\n",
       " 65: array([0.85714286, 0.        , 0.        , 0.14285714]),\n",
       " 78: array([1., 0., 0., 0.]),\n",
       " 41: array([1., 0., 0., 0.]),\n",
       " 183: array([1., 0., 0., 0.]),\n",
       " 94: array([1., 0., 0., 0.]),\n",
       " 96: array([1., 0., 0., 0.]),\n",
       " 91: array([1., 0., 0., 0.]),\n",
       " 22: array([1., 0., 0., 0.]),\n",
       " 108: array([1., 0., 0., 0.]),\n",
       " 71: array([1., 0., 0., 0.]),\n",
       " 173: array([1., 0., 0., 0.]),\n",
       " 292: array([1., 0., 0., 0.]),\n",
       " 33: array([1., 0., 0., 0.]),\n",
       " 102: array([1., 0., 0., 0.]),\n",
       " 162: array([1., 0., 0., 0.]),\n",
       " 167: array([1., 0., 0., 0.]),\n",
       " 176: array([1., 0., 0., 0.]),\n",
       " 143: array([1., 0., 0., 0.]),\n",
       " 223: array([1., 0., 0., 0.]),\n",
       " 99: array([1., 0., 0., 0.]),\n",
       " 53: array([1., 0., 0., 0.]),\n",
       " 77: array([1., 0., 0., 0.]),\n",
       " 58: array([1., 0., 0., 0.]),\n",
       " 217: array([1., 0., 0., 0.]),\n",
       " 191: array([1., 0., 0., 0.]),\n",
       " 229: array([1., 0., 0., 0.]),\n",
       " 97: array([1., 0., 0., 0.]),\n",
       " 235: array([1., 0., 0., 0.]),\n",
       " 68: array([0.66666667, 0.        , 0.        , 0.33333333]),\n",
       " 60: array([1., 0., 0., 0.]),\n",
       " 226: array([0., 0., 0., 1.]),\n",
       " 133: array([1., 0., 0., 0.]),\n",
       " 76: array([1., 0., 0., 0.]),\n",
       " 70: array([1., 0., 0., 0.]),\n",
       " 353: array([1., 0., 0., 0.]),\n",
       " 136: array([1., 0., 0., 0.]),\n",
       " 119: array([1., 0., 0., 0.]),\n",
       " 74: array([1., 0., 0., 0.]),\n",
       " 197: array([1., 0., 0., 0.]),\n",
       " 129: array([1., 0., 0., 0.]),\n",
       " 93: array([1., 0., 0., 0.]),\n",
       " 242: array([1., 0., 0., 0.]),\n",
       " 139: array([1., 0., 0., 0.]),\n",
       " 84: array([1., 0., 0., 0.]),\n",
       " 118: array([1., 0., 0., 0.]),\n",
       " 95: array([1., 0., 0., 0.]),\n",
       " 165: array([1., 0., 0., 0.]),\n",
       " 156: array([1., 0., 0., 0.]),\n",
       " 48: array([1., 0., 0., 0.]),\n",
       " 169: array([1., 0., 0., 0.]),\n",
       " 121: array([1., 0., 0., 0.]),\n",
       " 106: array([1., 0., 0., 0.]),\n",
       " 79: array([1., 0., 0., 0.]),\n",
       " 113: array([1., 0., 0., 0.]),\n",
       " 89: array([1., 0., 0., 0.]),\n",
       " 103: array([1., 0., 0., 0.]),\n",
       " 112: array([1., 0., 0., 0.]),\n",
       " 214: array([1., 0., 0., 0.]),\n",
       " 192: array([1., 0., 0., 0.]),\n",
       " 137: array([1., 0., 0., 0.]),\n",
       " 105: array([1., 0., 0., 0.]),\n",
       " 211: array([1., 0., 0., 0.]),\n",
       " 104: array([1., 0., 0., 0.]),\n",
       " 174: array([1., 0., 0., 0.]),\n",
       " 82: array([1., 0., 0., 0.]),\n",
       " 140: array([1., 0., 0., 0.]),\n",
       " 158: array([1., 0., 0., 0.]),\n",
       " 116: array([1., 0., 0., 0.]),\n",
       " 62: array([1., 0., 0., 0.]),\n",
       " 123: array([1., 0., 0., 0.]),\n",
       " 122: array([1., 0., 0., 0.])}"
      ]
     },
     "execution_count": 142,
     "metadata": {},
     "output_type": "execute_result"
    }
   ],
   "execution_count": 142
  },
  {
   "cell_type": "code",
   "metadata": {
    "ExecuteTime": {
     "end_time": "2024-04-30T17:19:22.507212Z",
     "start_time": "2024-04-30T17:19:22.403475Z"
    }
   },
   "source": [
    "# create a DegreeDistribution object for the degree of total emails sent in each cluster\n",
    "sent_cluster_dist = dict()\n",
    "for cluster_num in range(n_clusters):\n",
    "    sent_cluster_dist[cluster_num] = dict()\n",
    "    \n",
    "for index, row in activity.iterrows():\n",
    "    cluster = row['cluster']\n",
    "    sent = row['Sent']\n",
    "    sent_cluster_dist[cluster][sent] = sent_cluster_dist[cluster].get(sent, 0) + 1\n",
    "    \n",
    "for cluster_num, sent_dist in sent_cluster_dist.items():\n",
    "    sent_cluster_dist[cluster_num] = DegreeDistribution(sent_dist)\n",
    "    \n",
    "sent_cluster_dist"
   ],
   "outputs": [
    {
     "data": {
      "text/plain": [
       "{0: DegreeDistribution(activity_dict={13: 48, 28: 20, 108: 1, 115: 1, 106: 2, 117: 1, 122: 1, 119: 2, 89: 2, 111: 4, 68: 8, 59: 7, 101: 3, 73: 5, 58: 12, 93: 2, 45: 6, 129: 1, 95: 2, 132: 3, 69: 5, 8: 112, 78: 3, 20: 23, 79: 4, 63: 5, 21: 26, 75: 2, 15: 43, 14: 56, 36: 14, 16: 40, 81: 4, 64: 6, 126: 1, 70: 8, 90: 3, 27: 17, 99: 3, 40: 8, 131: 1, 86: 2, 57: 5, 62: 2, 61: 4, 77: 1, 49: 6, 92: 2, 55: 3, 120: 1, 39: 11, 33: 7, 104: 1, 34: 11, 52: 9, 88: 2, 51: 3, 43: 7, 53: 6, 60: 4, 98: 1, 110: 3, 41: 6, 112: 2, 84: 3, 54: 7, 37: 8, 32: 16, 74: 2, 91: 2, 47: 16, 31: 19, 136: 1, 22: 23, 83: 3, 105: 1, 67: 3, 97: 1, 48: 6, 116: 2, 25: 20, 125: 1, 96: 1, 19: 31, 114: 1, 100: 1, 87: 3, 42: 6, 72: 4, 50: 4, 56: 9, 24: 23, 85: 2, 80: 4, 23: 22, 102: 2, 109: 2, 38: 9, 9: 93, 35: 7, 26: 20, 10: 80, 29: 7, 46: 3, 82: 2, 18: 43, 5: 187, 76: 2, 6: 142, 65: 2, 2: 675, 71: 2, 17: 34, 3: 398, 0: 934, 30: 13, 7: 125, 66: 2, 44: 3, 12: 49, 11: 71, 4: 285, 94: 1, 1: 1376}),\n",
       " 1: DegreeDistribution(activity_dict={769: 1, 1346: 1, 697: 1, 1330: 1, 1467: 1, 894: 1, 724: 1, 589: 1, 583: 1, 952: 1, 586: 1, 694: 1, 781: 1, 836: 1, 1072: 1, 1162: 1, 590: 1, 649: 1}),\n",
       " 2: DegreeDistribution(activity_dict={2999: 1, 1903: 1, 1901: 1, 2912: 1}),\n",
       " 3: DegreeDistribution(activity_dict={324: 1, 491: 1, 131: 1, 398: 1, 547: 1, 393: 1, 426: 2, 251: 1, 306: 1, 362: 1, 201: 1, 243: 2, 497: 1, 269: 1, 222: 1, 465: 1, 308: 1, 383: 1, 415: 2, 416: 1, 311: 1, 262: 1, 531: 1, 267: 1, 169: 2, 322: 1, 121: 1, 231: 1, 492: 1, 154: 1, 229: 1, 257: 1, 334: 1, 193: 1, 479: 1, 221: 2, 357: 1, 339: 1, 410: 1, 219: 1, 403: 1, 180: 1, 413: 1, 282: 1, 319: 1, 185: 2, 287: 1, 248: 1, 159: 2, 134: 2, 143: 2, 365: 1, 174: 1, 189: 2, 175: 1, 195: 1, 310: 1, 161: 1, 239: 1, 344: 1, 173: 3, 181: 1, 140: 1, 265: 1, 371: 1, 191: 2, 317: 1, 146: 1, 196: 1, 194: 1, 184: 2, 397: 1, 149: 1, 323: 1, 151: 1, 227: 1, 156: 1, 256: 1, 292: 1, 164: 1, 192: 1, 168: 1, 160: 1, 150: 2, 216: 1, 245: 1, 468: 1, 172: 1, 330: 1, 166: 1})}"
      ]
     },
     "execution_count": 143,
     "metadata": {},
     "output_type": "execute_result"
    }
   ],
   "execution_count": 143
  },
  {
   "cell_type": "code",
   "metadata": {
    "ExecuteTime": {
     "end_time": "2024-04-30T17:19:32.630286Z",
     "start_time": "2024-04-30T17:19:32.518844Z"
    }
   },
   "source": [
    "emails_sent = np.array([0] * len(sorted_random_connections))\n",
    "for i, num_recipients in enumerate(sorted_random_connections):\n",
    "    sample_cluster = np.random.choice(range(n_clusters), p=recipients_cluster_probs[num_recipients])\n",
    "    cluster_sent_dist = sent_cluster_dist[sample_cluster]\n",
    "    # Number of sent emails must be at least the number of recipients\n",
    "    filtered_sent_dist = cluster_sent_dist.get_dist_with_min_degree(min_degree=min(num_recipients, 1))\n",
    "    num_sent = np.random.choice(filtered_sent_dist.degrees, p=filtered_sent_dist.probabilities)\n",
    "    emails_sent[i] = num_sent\n",
    "    \n",
    "# normalise the number of emails sent distribution\n",
    "emails_sent = emails_sent / sum(emails_sent)\n",
    "print(emails_sent)"
   ],
   "outputs": [
    {
     "name": "stdout",
     "output_type": "stream",
     "text": [
      "[5.00277932e-03 1.85288123e-04 2.64697319e-05 ... 5.29394637e-05\n",
      " 3.70576246e-04 5.29394637e-05]\n"
     ]
    }
   ],
   "execution_count": 144
  },
  {
   "cell_type": "code",
   "metadata": {
    "ExecuteTime": {
     "end_time": "2024-04-30T17:19:35.031027Z",
     "start_time": "2024-04-30T17:19:35.026721Z"
    }
   },
   "source": [
    "# Scale the number of emails to the number of people in the network\n",
    "email_scale = SEQ_SIZE / len(all_people)\n",
    "email_scale"
   ],
   "outputs": [
    {
     "data": {
      "text/plain": [
       "0.36003600360036003"
      ]
     },
     "execution_count": 145,
     "metadata": {},
     "output_type": "execute_result"
    }
   ],
   "execution_count": 145
  },
  {
   "cell_type": "code",
   "metadata": {
    "ExecuteTime": {
     "end_time": "2024-04-30T17:19:36.820038Z",
     "start_time": "2024-04-30T17:19:36.817941Z"
    }
   },
   "source": [
    "# average_emails *= email_scale\n",
    "# average_emails /= email_scale"
   ],
   "outputs": [],
   "execution_count": 146
  },
  {
   "cell_type": "code",
   "metadata": {
    "ExecuteTime": {
     "end_time": "2024-04-30T17:19:39.026873Z",
     "start_time": "2024-04-30T17:19:39.021380Z"
    }
   },
   "source": [
    "def get_email_count(activity_prop, max_rate, week_hour):\n",
    "    max_emails = np.random.poisson(max_rate * activity_prop)\n",
    "    \n",
    "    actual_emails = 0\n",
    "    for i in range(max_emails):\n",
    "        uniform_sample = np.random.uniform(0, 1)\n",
    "        if uniform_sample < average_emails[week_hour] / max_rate:\n",
    "            actual_emails += 1\n",
    "            \n",
    "    return actual_emails\n",
    "\n",
    "def get_recipients(node: int, graph: np.ndarray) -> set[int]:\n",
    "    return set(np.where(graph[node] == 1)[0])"
   ],
   "outputs": [],
   "execution_count": 147
  },
  {
   "cell_type": "code",
   "metadata": {
    "ExecuteTime": {
     "end_time": "2024-04-30T17:19:40.293911Z",
     "start_time": "2024-04-30T17:19:40.290815Z"
    }
   },
   "source": [
    "max_rate = np.max(average_emails)\n",
    "# max_rate = np.max(average_emails) * 1000 / SEQ_SIZE"
   ],
   "outputs": [],
   "execution_count": 148
  },
  {
   "cell_type": "code",
   "metadata": {
    "ExecuteTime": {
     "end_time": "2024-04-30T17:19:40.886041Z",
     "start_time": "2024-04-30T17:19:40.877490Z"
    }
   },
   "source": [
    "time_steps = 168 # 1 week"
   ],
   "outputs": [],
   "execution_count": 149
  },
  {
   "cell_type": "code",
   "metadata": {
    "ExecuteTime": {
     "end_time": "2024-04-30T17:19:42.154696Z",
     "start_time": "2024-04-30T17:19:41.919827Z"
    }
   },
   "source": [
    "email_events = dict()\n",
    "\n",
    "for node in range(SEQ_SIZE):\n",
    "    for time_step in range(time_steps):\n",
    "        week_hour = time_step % 168\n",
    "        activity_prop = emails_sent[node]\n",
    "        num_emails = get_email_count(activity_prop, max_rate, week_hour)\n",
    "        if node not in email_events:\n",
    "            email_events[node] = dict()\n",
    "            \n",
    "        email_events[node][time_step] = num_emails"
   ],
   "outputs": [],
   "execution_count": 150
  },
  {
   "cell_type": "code",
   "metadata": {
    "ExecuteTime": {
     "end_time": "2024-04-30T17:19:42.984185Z",
     "start_time": "2024-04-30T17:19:42.979172Z"
    }
   },
   "source": [
    "sum(email_events[5].values())"
   ],
   "outputs": [
    {
     "data": {
      "text/plain": [
       "0"
      ]
     },
     "execution_count": 151,
     "metadata": {},
     "output_type": "execute_result"
    }
   ],
   "execution_count": 151
  },
  {
   "cell_type": "code",
   "metadata": {
    "ExecuteTime": {
     "end_time": "2024-04-30T17:19:48.652162Z",
     "start_time": "2024-04-30T17:19:48.647645Z"
    }
   },
   "source": [
    "np.mean(average_emails) * 168"
   ],
   "outputs": [
    {
     "data": {
      "text/plain": [
       "1884.0739726027393"
      ]
     },
     "execution_count": 152,
     "metadata": {},
     "output_type": "execute_result"
    }
   ],
   "execution_count": 152
  },
  {
   "cell_type": "code",
   "metadata": {
    "ExecuteTime": {
     "end_time": "2024-04-30T17:19:50.800990Z",
     "start_time": "2024-04-30T17:19:50.793391Z"
    }
   },
   "source": [
    "total_synthetic_emails = sum([sum(email_events[node].values()) for node in range(SEQ_SIZE)])"
   ],
   "outputs": [],
   "execution_count": 153
  },
  {
   "cell_type": "code",
   "metadata": {
    "ExecuteTime": {
     "end_time": "2024-04-30T17:19:59.504248Z",
     "start_time": "2024-04-30T17:19:59.280808Z"
    }
   },
   "source": [
    "# plot the total number of emails for each hour of the week\n",
    "total_emails = [0] * time_steps\n",
    "hourly_dist = [0] * 24\n",
    "for node in range(SEQ_SIZE):\n",
    "    for time_step in range(168):\n",
    "        total_emails[time_step] += email_events[node][time_step]\n",
    "        hourly_dist[time_step % 24] += email_events[node][time_step]\n",
    "        \n",
    "# Plot the number of emails by hour of the week\n",
    "pd.Series(total_emails).plot(kind='bar', color=colors, figsize=(10, 6))\n",
    "\n",
    "# Set the x and y-axis labels\n",
    "plt.xlabel('Hour of the Week')\n",
    "plt.ylabel('Number of Emails')\n",
    "\n",
    "plt.xticks(range(12, 24 * 7, 24), ['Mon', 'Tue', 'Wed', 'Thu', 'Fri', 'Sat', 'Sun'], rotation=0)\n",
    "\n",
    "# Set the title of the plot\n",
    "plt.title(f'Number of Emails by Hour of the Week (Synthetic Data, N={SEQ_SIZE} )')\n",
    "\n",
    "# Show the plot\n",
    "plt.show()"
   ],
   "outputs": [
    {
     "data": {
      "text/plain": [
       "<Figure size 1000x600 with 1 Axes>"
      ],
      "image/png": "[encoded data removed]"
     },
     "metadata": {},
     "output_type": "display_data"
    }
   ],
   "execution_count": 155
  },
  {
   "cell_type": "code",
   "metadata": {
    "ExecuteTime": {
     "end_time": "2024-04-30T17:20:02.661844Z",
     "start_time": "2024-04-30T17:20:02.539185Z"
    }
   },
   "source": [
    "# Plot the number of emails by hour of the week\n",
    "\n",
    "pd.Series([h / 7 for h in hourly_dist]).plot(kind='bar', color=colors, figsize=(10, 6))\n",
    "\n",
    "# Set the x and y-axis labels\n",
    "plt.xlabel('Hour of the Week')\n",
    "plt.ylabel('Number of Emails')\n",
    "\n",
    "# Set the title of the plot\n",
    "plt.title(f'Average Emails by Hour of Day (Synthetic Data, N={SEQ_SIZE} )')\n",
    "\n",
    "# Show the plot\n",
    "plt.show()"
   ],
   "outputs": [
    {
     "data": {
      "text/plain": [
       "<Figure size 1000x600 with 1 Axes>"
      ],
      "image/png": "[encoded data removed]"
     },
     "metadata": {},
     "output_type": "display_data"
    }
   ],
   "execution_count": 156
  },
  {
   "cell_type": "code",
   "metadata": {
    "ExecuteTime": {
     "end_time": "2024-04-30T17:20:35.188437Z",
     "start_time": "2024-04-30T17:20:35.079532Z"
    }
   },
   "source": [
    "# create networkx graph\n",
    "synthetic_graph = nx.Graph()\n",
    "for node in range(SEQ_SIZE):\n",
    "    synthetic_graph.add_node(node)\n",
    "    \n",
    "for node in range(SEQ_SIZE):\n",
    "    recipients = list(get_recipients(node, random_graph))\n",
    "    for time_step in range(time_steps):\n",
    "        num_emails = email_events[node][time_step]\n",
    "        for _ in range(num_emails):\n",
    "            if not recipients:\n",
    "                continue\n",
    "            # select a random number of recipients\n",
    "            num_recipients = random.randint(1, len(recipients))\n",
    "            selected_recipients = random.sample(recipients, num_recipients)\n",
    "            for recipient in selected_recipients:\n",
    "                synthetic_graph.add_edge(node, recipient)"
   ],
   "outputs": [],
   "execution_count": 157
  },
  {
   "cell_type": "code",
   "metadata": {
    "ExecuteTime": {
     "end_time": "2024-04-30T17:20:36.846120Z",
     "start_time": "2024-04-30T17:20:36.836935Z"
    }
   },
   "source": [
    "# calculate preserved edge ratio\n",
    "preserved_edges = len(synthetic_graph.edges) / len(graph.edges)\n",
    "preserved_edges"
   ],
   "outputs": [],
   "execution_count": 158
  },
  {
   "cell_type": "code",
   "metadata": {
    "ExecuteTime": {
     "end_time": "2024-04-30T17:20:45.472106Z",
     "start_time": "2024-04-30T17:20:45.453105Z"
    }
   },
   "source": [
    "len(synthetic_graph.edges)"
   ],
   "outputs": [
    {
     "data": {
      "text/plain": [
       "5776"
      ]
     },
     "execution_count": 160,
     "metadata": {},
     "output_type": "execute_result"
    }
   ],
   "execution_count": 160
  },
  {
   "cell_type": "code",
   "metadata": {
    "ExecuteTime": {
     "end_time": "2024-04-30T17:21:05.572888Z",
     "start_time": "2024-04-30T17:21:05.555132Z"
    }
   },
   "source": [
    "# calculate KS distance between the degree distributions of the original and synthetic graph\n",
    "def get_degree_dist(graph: nx.Graph) -> DegreeDistribution:\n",
    "    degrees = dict(graph.degree())\n",
    "    degree_dist = DegreeDistribution(degrees)\n",
    "    return degree_dist"
   ],
   "outputs": [],
   "execution_count": 162
  },
  {
   "cell_type": "code",
   "metadata": {},
   "source": [
    "synthetic_degree_dist = get_degree_dist(synthetic_graph)"
   ],
   "outputs": [],
   "execution_count": null
  },
  {
   "cell_type": "code",
   "metadata": {},
   "source": [
    "ks_statistic = synthetic_degree_dist.ks_statistic(sent_dist)\n",
    "ks_statistic"
   ],
   "outputs": [],
   "execution_count": null
  },
  {
   "cell_type": "code",
   "metadata": {},
   "source": [
    "# calculate power law fit for the synthetic graph\n",
    "fit_synthetic = powerlaw.Fit(list(dict(synthetic_degree_dist.degrees).keys()))\n",
    "fit_synthetic.alpha"
   ],
   "outputs": [],
   "execution_count": null
  },
  {
   "cell_type": "code",
   "metadata": {},
   "source": [
    "# calculate clustering coefficient for the synthetic graph\n",
    "clustering_coefficient_synthetic = nx.average_clustering(synthetic_graph)\n",
    "clustering_coefficient_synthetic"
   ],
   "outputs": [],
   "execution_count": null
  },
  {
   "cell_type": "code",
   "metadata": {},
   "source": [
    "original_coeff = nx.average_clustering(graph)\n",
    "original_coeff"
   ],
   "outputs": [],
   "execution_count": null
  },
  {
   "cell_type": "code",
   "metadata": {},
   "source": [],
   "outputs": [],
   "execution_count": null
  }
 ],
 "metadata": {
  "kernelspec": {
   "display_name": "Python 3",
   "language": "python",
   "name": "python3"
  },
  "language_info": {
   "codemirror_mode": {
    "name": "ipython",
    "version": 3
   },
   "file_extension": ".py",
   "mimetype": "text/x-python",
   "name": "python",
   "nbconvert_exporter": "python",
   "pygments_lexer": "ipython3",
   "version": "3.11.5"
  }
 },
 "nbformat": 4,
 "nbformat_minor": 2
}
