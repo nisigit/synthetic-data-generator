{
 "cells": [
  {
   "cell_type": "code",
   "execution_count": 59,
   "id": "initial_id",
   "metadata": {
    "ExecuteTime": {
     "end_time": "2024-04-22T16:03:00.311623Z",
     "start_time": "2024-04-22T16:02:58.890644Z"
    },
    "collapsed": true
   },
   "outputs": [],
   "source": [
    "import pandas as pd\n",
    "import numpy as np\n",
    "import matplotlib.pyplot as plt\n",
    "from matplotlib.lines import Line2D\n",
    "from sklearn.cluster import KMeans\n",
    "from scipy.stats import cauchy\n",
    "import powerlaw\n",
    "import networkx as nx\n",
    "import random\n",
    "from Person import Person\n",
    "from EnronEmail import EnronEmail\n",
    "from DegreeDistribution import DegreeDistribution"
   ]
  },
  {
   "cell_type": "code",
   "execution_count": 60,
   "id": "76b0adee65478e38",
   "metadata": {
    "ExecuteTime": {
     "end_time": "2024-04-22T16:03:04.339509Z",
     "start_time": "2024-04-22T16:03:03.739077Z"
    }
   },
   "outputs": [
    {
     "data": {
      "text/plain": [
       "99673"
      ]
     },
     "execution_count": 60,
     "metadata": {},
     "output_type": "execute_result"
    }
   ],
   "source": [
    "emails = pd.read_csv('./output/my_emails_new.csv')\n",
    "emails['recipients'] = emails['recipients'].str.split(' ')\n",
    "emails = emails[emails['date'].between('2001-01-01', '2002-01-01')]\n",
    "# filter out emails with senders that contain 'announcement' or 'communication'\n",
    "emails = emails[~emails['sender'].str.contains('announcement|communication', case=False)]\n",
    "# emails.head()\n",
    "len(emails)"
   ]
  },
  {
   "cell_type": "code",
   "execution_count": 61,
   "id": "e85e0a906485e59a",
   "metadata": {
    "ExecuteTime": {
     "end_time": "2024-04-22T16:03:04.913325Z",
     "start_time": "2024-04-22T16:03:04.866491Z"
    }
   },
   "outputs": [
    {
     "name": "stdout",
     "output_type": "stream",
     "text": [
      "21058 14972 63643\n"
     ]
    }
   ],
   "source": [
    "num_replies = emails['subject'].str.startswith(\"RE:\").sum()\n",
    "num_forwards = emails['subject'].str.startswith((\"Fw:\", \"Fwd:\", \"FW:\")).sum()\n",
    "num_starters = len(emails) - num_replies - num_forwards\n",
    "\n",
    "print(num_replies, num_forwards, num_starters)"
   ]
  },
  {
   "cell_type": "code",
   "execution_count": 62,
   "id": "2bdc0e5e400498ac",
   "metadata": {
    "ExecuteTime": {
     "end_time": "2024-04-22T16:03:05.620649Z",
     "start_time": "2024-04-22T16:03:05.618057Z"
    }
   },
   "outputs": [
    {
     "name": "stdout",
     "output_type": "stream",
     "text": [
      "[0.33087692283519005, 0.23524975252580801]\n"
     ]
    }
   ],
   "source": [
    "probabilities = [num_replies, num_forwards]\n",
    "probabilities = [prob / num_starters for prob in probabilities]\n",
    "print(probabilities)"
   ]
  },
  {
   "cell_type": "code",
   "execution_count": 63,
   "id": "fc8a2bcf73956082",
   "metadata": {
    "ExecuteTime": {
     "end_time": "2024-04-22T16:03:06.905366Z",
     "start_time": "2024-04-22T16:03:06.876984Z"
    }
   },
   "outputs": [
    {
     "name": "stderr",
     "output_type": "stream",
     "text": [
      "/var/folders/1w/ty9_z0y12r72xymhb930rg9h0000gn/T/ipykernel_54427/1484915781.py:1: UserWarning: The argument 'infer_datetime_format' is deprecated and will be removed in a future version. A strict version of it is now the default, see https://pandas.pydata.org/pdeps/0004-consistent-to-datetime-parsing.html. You can safely remove this argument.\n",
      "  emails['date'] = pd.to_datetime(emails['date'], utc=True, infer_datetime_format=True)\n"
     ]
    },
    {
     "data": {
      "text/html": [
       "<div>\n",
       "<style scoped>\n",
       "    .dataframe tbody tr th:only-of-type {\n",
       "        vertical-align: middle;\n",
       "    }\n",
       "\n",
       "    .dataframe tbody tr th {\n",
       "        vertical-align: top;\n",
       "    }\n",
       "\n",
       "    .dataframe thead th {\n",
       "        text-align: right;\n",
       "    }\n",
       "</style>\n",
       "<table border=\"1\" class=\"dataframe\">\n",
       "  <thead>\n",
       "    <tr style=\"text-align: right;\">\n",
       "      <th></th>\n",
       "      <th>sender</th>\n",
       "      <th>recipients</th>\n",
       "      <th>date</th>\n",
       "      <th>subject</th>\n",
       "      <th>message_id</th>\n",
       "    </tr>\n",
       "  </thead>\n",
       "  <tbody>\n",
       "    <tr>\n",
       "      <th>55003</th>\n",
       "      <td>chris.foster@enron.com</td>\n",
       "      <td>[kim.ward@enron.com]</td>\n",
       "      <td>2001-01-01 01:38:00+00:00</td>\n",
       "      <td>2001 natural gas forecast</td>\n",
       "      <td>&lt;29779853.1075851847407.JavaMail.evans@thyme&gt;</td>\n",
       "    </tr>\n",
       "    <tr>\n",
       "      <th>55004</th>\n",
       "      <td>jeffrey.porter@enron.com</td>\n",
       "      <td>[ena.nominations@enron.com]</td>\n",
       "      <td>2001-01-01 02:59:00+00:00</td>\n",
       "      <td>12/31 Actuals</td>\n",
       "      <td>&lt;14090786.1075848296609.JavaMail.evans@thyme&gt;</td>\n",
       "    </tr>\n",
       "    <tr>\n",
       "      <th>55005</th>\n",
       "      <td>sue.nord@enron.com</td>\n",
       "      <td>[margo.reyna@enron.com]</td>\n",
       "      <td>2001-01-01 04:29:00+00:00</td>\n",
       "      <td>Re: CA Quarterly Fee Statement</td>\n",
       "      <td>&lt;28595177.1075843766562.JavaMail.evans@thyme&gt;</td>\n",
       "    </tr>\n",
       "    <tr>\n",
       "      <th>55006</th>\n",
       "      <td>sue.nord@enron.com</td>\n",
       "      <td>[barbara.hueter@enron.com, jeff.dasovich@enron...</td>\n",
       "      <td>2001-01-01 04:59:00+00:00</td>\n",
       "      <td>Re: Ohio Telecommunications Legislation</td>\n",
       "      <td>&lt;17528586.1075843766536.JavaMail.evans@thyme&gt;</td>\n",
       "    </tr>\n",
       "    <tr>\n",
       "      <th>55007</th>\n",
       "      <td>sheila.tweed@enron.com</td>\n",
       "      <td>[mark.haedicke@enron.com, elizabeth.sager@enro...</td>\n",
       "      <td>2001-01-01 05:11:00+00:00</td>\n",
       "      <td>Commission Hearings on Rate Stabilization Plan...</td>\n",
       "      <td>&lt;20708722.1075853232986.JavaMail.evans@thyme&gt;</td>\n",
       "    </tr>\n",
       "  </tbody>\n",
       "</table>\n",
       "</div>"
      ],
      "text/plain": [
       "                         sender  \\\n",
       "55003    chris.foster@enron.com   \n",
       "55004  jeffrey.porter@enron.com   \n",
       "55005        sue.nord@enron.com   \n",
       "55006        sue.nord@enron.com   \n",
       "55007    sheila.tweed@enron.com   \n",
       "\n",
       "                                              recipients  \\\n",
       "55003                               [kim.ward@enron.com]   \n",
       "55004                        [ena.nominations@enron.com]   \n",
       "55005                            [margo.reyna@enron.com]   \n",
       "55006  [barbara.hueter@enron.com, jeff.dasovich@enron...   \n",
       "55007  [mark.haedicke@enron.com, elizabeth.sager@enro...   \n",
       "\n",
       "                           date  \\\n",
       "55003 2001-01-01 01:38:00+00:00   \n",
       "55004 2001-01-01 02:59:00+00:00   \n",
       "55005 2001-01-01 04:29:00+00:00   \n",
       "55006 2001-01-01 04:59:00+00:00   \n",
       "55007 2001-01-01 05:11:00+00:00   \n",
       "\n",
       "                                                 subject  \\\n",
       "55003                          2001 natural gas forecast   \n",
       "55004                                      12/31 Actuals   \n",
       "55005                     Re: CA Quarterly Fee Statement   \n",
       "55006            Re: Ohio Telecommunications Legislation   \n",
       "55007  Commission Hearings on Rate Stabilization Plan...   \n",
       "\n",
       "                                          message_id  \n",
       "55003  <29779853.1075851847407.JavaMail.evans@thyme>  \n",
       "55004  <14090786.1075848296609.JavaMail.evans@thyme>  \n",
       "55005  <28595177.1075843766562.JavaMail.evans@thyme>  \n",
       "55006  <17528586.1075843766536.JavaMail.evans@thyme>  \n",
       "55007  <20708722.1075853232986.JavaMail.evans@thyme>  "
      ]
     },
     "execution_count": 63,
     "metadata": {},
     "output_type": "execute_result"
    }
   ],
   "source": [
    "emails['date'] = pd.to_datetime(emails['date'], utc=True, infer_datetime_format=True)\n",
    "emails.head()"
   ]
  },
  {
   "cell_type": "code",
   "execution_count": 64,
   "id": "dc71484b0a0143b5",
   "metadata": {
    "ExecuteTime": {
     "end_time": "2024-04-22T16:03:07.740081Z",
     "start_time": "2024-04-22T16:03:07.727889Z"
    }
   },
   "outputs": [
    {
     "data": {
      "text/html": [
       "<div>\n",
       "<style scoped>\n",
       "    .dataframe tbody tr th:only-of-type {\n",
       "        vertical-align: middle;\n",
       "    }\n",
       "\n",
       "    .dataframe tbody tr th {\n",
       "        vertical-align: top;\n",
       "    }\n",
       "\n",
       "    .dataframe thead th {\n",
       "        text-align: right;\n",
       "    }\n",
       "</style>\n",
       "<table border=\"1\" class=\"dataframe\">\n",
       "  <thead>\n",
       "    <tr style=\"text-align: right;\">\n",
       "      <th></th>\n",
       "      <th>sender</th>\n",
       "      <th>recipients</th>\n",
       "      <th>date</th>\n",
       "      <th>subject</th>\n",
       "      <th>message_id</th>\n",
       "      <th>day_of_week</th>\n",
       "      <th>hour_of_week</th>\n",
       "    </tr>\n",
       "  </thead>\n",
       "  <tbody>\n",
       "    <tr>\n",
       "      <th>55003</th>\n",
       "      <td>chris.foster@enron.com</td>\n",
       "      <td>[kim.ward@enron.com]</td>\n",
       "      <td>2001-01-01 01:38:00+00:00</td>\n",
       "      <td>2001 natural gas forecast</td>\n",
       "      <td>&lt;29779853.1075851847407.JavaMail.evans@thyme&gt;</td>\n",
       "      <td>0</td>\n",
       "      <td>1</td>\n",
       "    </tr>\n",
       "    <tr>\n",
       "      <th>55004</th>\n",
       "      <td>jeffrey.porter@enron.com</td>\n",
       "      <td>[ena.nominations@enron.com]</td>\n",
       "      <td>2001-01-01 02:59:00+00:00</td>\n",
       "      <td>12/31 Actuals</td>\n",
       "      <td>&lt;14090786.1075848296609.JavaMail.evans@thyme&gt;</td>\n",
       "      <td>0</td>\n",
       "      <td>2</td>\n",
       "    </tr>\n",
       "    <tr>\n",
       "      <th>55005</th>\n",
       "      <td>sue.nord@enron.com</td>\n",
       "      <td>[margo.reyna@enron.com]</td>\n",
       "      <td>2001-01-01 04:29:00+00:00</td>\n",
       "      <td>Re: CA Quarterly Fee Statement</td>\n",
       "      <td>&lt;28595177.1075843766562.JavaMail.evans@thyme&gt;</td>\n",
       "      <td>0</td>\n",
       "      <td>4</td>\n",
       "    </tr>\n",
       "    <tr>\n",
       "      <th>55006</th>\n",
       "      <td>sue.nord@enron.com</td>\n",
       "      <td>[barbara.hueter@enron.com, jeff.dasovich@enron...</td>\n",
       "      <td>2001-01-01 04:59:00+00:00</td>\n",
       "      <td>Re: Ohio Telecommunications Legislation</td>\n",
       "      <td>&lt;17528586.1075843766536.JavaMail.evans@thyme&gt;</td>\n",
       "      <td>0</td>\n",
       "      <td>4</td>\n",
       "    </tr>\n",
       "    <tr>\n",
       "      <th>55007</th>\n",
       "      <td>sheila.tweed@enron.com</td>\n",
       "      <td>[mark.haedicke@enron.com, elizabeth.sager@enro...</td>\n",
       "      <td>2001-01-01 05:11:00+00:00</td>\n",
       "      <td>Commission Hearings on Rate Stabilization Plan...</td>\n",
       "      <td>&lt;20708722.1075853232986.JavaMail.evans@thyme&gt;</td>\n",
       "      <td>0</td>\n",
       "      <td>5</td>\n",
       "    </tr>\n",
       "  </tbody>\n",
       "</table>\n",
       "</div>"
      ],
      "text/plain": [
       "                         sender  \\\n",
       "55003    chris.foster@enron.com   \n",
       "55004  jeffrey.porter@enron.com   \n",
       "55005        sue.nord@enron.com   \n",
       "55006        sue.nord@enron.com   \n",
       "55007    sheila.tweed@enron.com   \n",
       "\n",
       "                                              recipients  \\\n",
       "55003                               [kim.ward@enron.com]   \n",
       "55004                        [ena.nominations@enron.com]   \n",
       "55005                            [margo.reyna@enron.com]   \n",
       "55006  [barbara.hueter@enron.com, jeff.dasovich@enron...   \n",
       "55007  [mark.haedicke@enron.com, elizabeth.sager@enro...   \n",
       "\n",
       "                           date  \\\n",
       "55003 2001-01-01 01:38:00+00:00   \n",
       "55004 2001-01-01 02:59:00+00:00   \n",
       "55005 2001-01-01 04:29:00+00:00   \n",
       "55006 2001-01-01 04:59:00+00:00   \n",
       "55007 2001-01-01 05:11:00+00:00   \n",
       "\n",
       "                                                 subject  \\\n",
       "55003                          2001 natural gas forecast   \n",
       "55004                                      12/31 Actuals   \n",
       "55005                     Re: CA Quarterly Fee Statement   \n",
       "55006            Re: Ohio Telecommunications Legislation   \n",
       "55007  Commission Hearings on Rate Stabilization Plan...   \n",
       "\n",
       "                                          message_id  day_of_week  \\\n",
       "55003  <29779853.1075851847407.JavaMail.evans@thyme>            0   \n",
       "55004  <14090786.1075848296609.JavaMail.evans@thyme>            0   \n",
       "55005  <28595177.1075843766562.JavaMail.evans@thyme>            0   \n",
       "55006  <17528586.1075843766536.JavaMail.evans@thyme>            0   \n",
       "55007  <20708722.1075853232986.JavaMail.evans@thyme>            0   \n",
       "\n",
       "       hour_of_week  \n",
       "55003             1  \n",
       "55004             2  \n",
       "55005             4  \n",
       "55006             4  \n",
       "55007             5  "
      ]
     },
     "execution_count": 64,
     "metadata": {},
     "output_type": "execute_result"
    }
   ],
   "source": [
    "# extract day of week as integer\n",
    "emails['day_of_week'] = emails['date'].dt.dayofweek\n",
    "emails['hour_of_week'] = emails['date'].dt.hour + emails['day_of_week'] * 24\n",
    "emails.head()"
   ]
  },
  {
   "cell_type": "code",
   "execution_count": 65,
   "id": "8422f666976cd8e",
   "metadata": {
    "ExecuteTime": {
     "end_time": "2024-04-22T16:03:08.590592Z",
     "start_time": "2024-04-22T16:03:08.577307Z"
    }
   },
   "outputs": [
    {
     "data": {
      "text/html": [
       "<div>\n",
       "<style scoped>\n",
       "    .dataframe tbody tr th:only-of-type {\n",
       "        vertical-align: middle;\n",
       "    }\n",
       "\n",
       "    .dataframe tbody tr th {\n",
       "        vertical-align: top;\n",
       "    }\n",
       "\n",
       "    .dataframe thead th {\n",
       "        text-align: right;\n",
       "    }\n",
       "</style>\n",
       "<table border=\"1\" class=\"dataframe\">\n",
       "  <thead>\n",
       "    <tr style=\"text-align: right;\">\n",
       "      <th></th>\n",
       "      <th>sender</th>\n",
       "      <th>recipients</th>\n",
       "      <th>date</th>\n",
       "      <th>subject</th>\n",
       "      <th>message_id</th>\n",
       "      <th>day_of_week</th>\n",
       "      <th>hour_of_week</th>\n",
       "    </tr>\n",
       "  </thead>\n",
       "  <tbody>\n",
       "    <tr>\n",
       "      <th>55003</th>\n",
       "      <td>chris.foster@enron.com</td>\n",
       "      <td>[kim.ward@enron.com]</td>\n",
       "      <td>2001-01-01 01:38:00+00:00</td>\n",
       "      <td>2001 natural gas forecast</td>\n",
       "      <td>&lt;29779853.1075851847407.JavaMail.evans@thyme&gt;</td>\n",
       "      <td>0</td>\n",
       "      <td>1</td>\n",
       "    </tr>\n",
       "    <tr>\n",
       "      <th>55004</th>\n",
       "      <td>jeffrey.porter@enron.com</td>\n",
       "      <td>[ena.nominations@enron.com]</td>\n",
       "      <td>2001-01-01 02:59:00+00:00</td>\n",
       "      <td>12/31 Actuals</td>\n",
       "      <td>&lt;14090786.1075848296609.JavaMail.evans@thyme&gt;</td>\n",
       "      <td>0</td>\n",
       "      <td>2</td>\n",
       "    </tr>\n",
       "    <tr>\n",
       "      <th>55005</th>\n",
       "      <td>sue.nord@enron.com</td>\n",
       "      <td>[margo.reyna@enron.com]</td>\n",
       "      <td>2001-01-01 04:29:00+00:00</td>\n",
       "      <td>Re: CA Quarterly Fee Statement</td>\n",
       "      <td>&lt;28595177.1075843766562.JavaMail.evans@thyme&gt;</td>\n",
       "      <td>0</td>\n",
       "      <td>4</td>\n",
       "    </tr>\n",
       "    <tr>\n",
       "      <th>55006</th>\n",
       "      <td>sue.nord@enron.com</td>\n",
       "      <td>[barbara.hueter@enron.com, jeff.dasovich@enron...</td>\n",
       "      <td>2001-01-01 04:59:00+00:00</td>\n",
       "      <td>Re: Ohio Telecommunications Legislation</td>\n",
       "      <td>&lt;17528586.1075843766536.JavaMail.evans@thyme&gt;</td>\n",
       "      <td>0</td>\n",
       "      <td>4</td>\n",
       "    </tr>\n",
       "    <tr>\n",
       "      <th>55007</th>\n",
       "      <td>sheila.tweed@enron.com</td>\n",
       "      <td>[mark.haedicke@enron.com, elizabeth.sager@enro...</td>\n",
       "      <td>2001-01-01 05:11:00+00:00</td>\n",
       "      <td>Commission Hearings on Rate Stabilization Plan...</td>\n",
       "      <td>&lt;20708722.1075853232986.JavaMail.evans@thyme&gt;</td>\n",
       "      <td>0</td>\n",
       "      <td>5</td>\n",
       "    </tr>\n",
       "  </tbody>\n",
       "</table>\n",
       "</div>"
      ],
      "text/plain": [
       "                         sender  \\\n",
       "55003    chris.foster@enron.com   \n",
       "55004  jeffrey.porter@enron.com   \n",
       "55005        sue.nord@enron.com   \n",
       "55006        sue.nord@enron.com   \n",
       "55007    sheila.tweed@enron.com   \n",
       "\n",
       "                                              recipients  \\\n",
       "55003                               [kim.ward@enron.com]   \n",
       "55004                        [ena.nominations@enron.com]   \n",
       "55005                            [margo.reyna@enron.com]   \n",
       "55006  [barbara.hueter@enron.com, jeff.dasovich@enron...   \n",
       "55007  [mark.haedicke@enron.com, elizabeth.sager@enro...   \n",
       "\n",
       "                           date  \\\n",
       "55003 2001-01-01 01:38:00+00:00   \n",
       "55004 2001-01-01 02:59:00+00:00   \n",
       "55005 2001-01-01 04:29:00+00:00   \n",
       "55006 2001-01-01 04:59:00+00:00   \n",
       "55007 2001-01-01 05:11:00+00:00   \n",
       "\n",
       "                                                 subject  \\\n",
       "55003                          2001 natural gas forecast   \n",
       "55004                                      12/31 Actuals   \n",
       "55005                     Re: CA Quarterly Fee Statement   \n",
       "55006            Re: Ohio Telecommunications Legislation   \n",
       "55007  Commission Hearings on Rate Stabilization Plan...   \n",
       "\n",
       "                                          message_id  day_of_week  \\\n",
       "55003  <29779853.1075851847407.JavaMail.evans@thyme>            0   \n",
       "55004  <14090786.1075848296609.JavaMail.evans@thyme>            0   \n",
       "55005  <28595177.1075843766562.JavaMail.evans@thyme>            0   \n",
       "55006  <17528586.1075843766536.JavaMail.evans@thyme>            0   \n",
       "55007  <20708722.1075853232986.JavaMail.evans@thyme>            0   \n",
       "\n",
       "       hour_of_week  \n",
       "55003             1  \n",
       "55004             2  \n",
       "55005             4  \n",
       "55006             4  \n",
       "55007             5  "
      ]
     },
     "execution_count": 65,
     "metadata": {},
     "output_type": "execute_result"
    }
   ],
   "source": [
    "# show emails sorted by date\n",
    "emails.sort_values('date', inplace=True)\n",
    "emails.head()"
   ]
  },
  {
   "cell_type": "code",
   "execution_count": 66,
   "id": "22a5598593a8c41b",
   "metadata": {
    "ExecuteTime": {
     "end_time": "2024-04-22T16:03:10.119987Z",
     "start_time": "2024-04-22T16:03:09.868700Z"
    }
   },
   "outputs": [
    {
     "data": {
      "image/png": "[encoded data removed]",
      "text/plain": [
       "<Figure size 1000x600 with 1 Axes>"
      ]
     },
     "metadata": {},
     "output_type": "display_data"
    }
   ],
   "source": [
    "# Group the emails by hour of the week and calculate the size of each group\n",
    "grouped_emails = emails.groupby('hour_of_week').size()\n",
    "\n",
    "# Calculate the average number of emails per hour\n",
    "average_emails = grouped_emails / (365 / 7)\n",
    "\n",
    "colors = ['blue' if (hour // 24) % 2 == 0 else 'orange' for hour in range(168)]\n",
    "\n",
    "# Plot the number of emails by hour of the week\n",
    "average_emails.plot(kind='bar', color=colors, figsize=(10, 6))\n",
    "\n",
    "# Set the x and y-axis labels\n",
    "plt.xlabel('Hour of the Week')\n",
    "plt.ylabel('Number of Emails')\n",
    "\n",
    "plt.xticks(range(12, 24 * 7, 24), ['Mon', 'Tue', 'Wed', 'Thu', 'Fri', 'Sat', 'Sun'], rotation=0)\n",
    "\n",
    "# Set the title of the plot\n",
    "plt.title('Number of Emails by Hour of the Week')\n",
    "\n",
    "# Show the plot\n",
    "plt.show()"
   ]
  },
  {
   "cell_type": "code",
   "execution_count": 67,
   "id": "23ef7265",
   "metadata": {},
   "outputs": [
    {
     "data": {
      "text/plain": [
       "hour_of_week\n",
       "0     6.904110\n",
       "1     8.687671\n",
       "2    11.775342\n",
       "3    11.832877\n",
       "4    13.386301\n",
       "dtype: float64"
      ]
     },
     "execution_count": 67,
     "metadata": {},
     "output_type": "execute_result"
    }
   ],
   "source": [
    "# calculate average number of emails per hour\n",
    "average_emails = grouped_emails / (365 / 7)\n",
    "average_emails.head()"
   ]
  },
  {
   "cell_type": "code",
   "execution_count": 68,
   "id": "8b49e3dd",
   "metadata": {},
   "outputs": [
    {
     "data": {
      "text/plain": [
       "168"
      ]
     },
     "execution_count": 68,
     "metadata": {},
     "output_type": "execute_result"
    }
   ],
   "source": [
    "len(average_emails)"
   ]
  },
  {
   "cell_type": "code",
   "execution_count": 69,
   "id": "73accd64d3a14c52",
   "metadata": {
    "ExecuteTime": {
     "end_time": "2024-04-22T16:03:19.297499Z",
     "start_time": "2024-04-22T16:03:17.235134Z"
    }
   },
   "outputs": [],
   "source": [
    "all_people = dict()\n",
    "all_emails = dict()\n",
    "\n",
    "for index, row in emails.iterrows():\n",
    "    email = EnronEmail(row['message_id'], row['sender'],\n",
    "                       row['recipients'], row['date'])\n",
    "    all_emails[email.id] = email\n",
    "    if email.sender not in all_people:\n",
    "        all_people[email.sender] = Person(email.sender)\n",
    "\n",
    "    for recipient in email.recipients:\n",
    "        if recipient not in all_people:\n",
    "            all_people[recipient] = Person(recipient)\n",
    "        all_people[recipient].received[email.id] = email\n",
    "        all_people[email.sender].sent[email.id] = email\n",
    "        all_people[email.sender].recipients.add(recipient)"
   ]
  },
  {
   "cell_type": "code",
   "execution_count": 70,
   "id": "6e4801077682466e",
   "metadata": {
    "ExecuteTime": {
     "end_time": "2024-04-22T16:03:20.325996Z",
     "start_time": "2024-04-22T16:03:20.311151Z"
    }
   },
   "outputs": [
    {
     "data": {
      "text/html": [
       "<div>\n",
       "<style scoped>\n",
       "    .dataframe tbody tr th:only-of-type {\n",
       "        vertical-align: middle;\n",
       "    }\n",
       "\n",
       "    .dataframe tbody tr th {\n",
       "        vertical-align: top;\n",
       "    }\n",
       "\n",
       "    .dataframe thead th {\n",
       "        text-align: right;\n",
       "    }\n",
       "</style>\n",
       "<table border=\"1\" class=\"dataframe\">\n",
       "  <thead>\n",
       "    <tr style=\"text-align: right;\">\n",
       "      <th></th>\n",
       "      <th>Email</th>\n",
       "      <th>Received</th>\n",
       "      <th>Sent</th>\n",
       "      <th>Recipients</th>\n",
       "    </tr>\n",
       "  </thead>\n",
       "  <tbody>\n",
       "    <tr>\n",
       "      <th>0</th>\n",
       "      <td>chris.foster@enron.com</td>\n",
       "      <td>77</td>\n",
       "      <td>84</td>\n",
       "      <td>33</td>\n",
       "    </tr>\n",
       "    <tr>\n",
       "      <th>1</th>\n",
       "      <td>kim.ward@enron.com</td>\n",
       "      <td>230</td>\n",
       "      <td>69</td>\n",
       "      <td>37</td>\n",
       "    </tr>\n",
       "    <tr>\n",
       "      <th>2</th>\n",
       "      <td>jeffrey.porter@enron.com</td>\n",
       "      <td>21</td>\n",
       "      <td>8</td>\n",
       "      <td>5</td>\n",
       "    </tr>\n",
       "    <tr>\n",
       "      <th>3</th>\n",
       "      <td>ena.nominations@enron.com</td>\n",
       "      <td>1</td>\n",
       "      <td>0</td>\n",
       "      <td>0</td>\n",
       "    </tr>\n",
       "    <tr>\n",
       "      <th>4</th>\n",
       "      <td>sue.nord@enron.com</td>\n",
       "      <td>167</td>\n",
       "      <td>58</td>\n",
       "      <td>29</td>\n",
       "    </tr>\n",
       "    <tr>\n",
       "      <th>...</th>\n",
       "      <td>...</td>\n",
       "      <td>...</td>\n",
       "      <td>...</td>\n",
       "      <td>...</td>\n",
       "    </tr>\n",
       "    <tr>\n",
       "      <th>8242</th>\n",
       "      <td>m.'.'presto@enron.com</td>\n",
       "      <td>1</td>\n",
       "      <td>0</td>\n",
       "      <td>0</td>\n",
       "    </tr>\n",
       "    <tr>\n",
       "      <th>8243</th>\n",
       "      <td>mcdonough@enron.com</td>\n",
       "      <td>1</td>\n",
       "      <td>0</td>\n",
       "      <td>0</td>\n",
       "    </tr>\n",
       "    <tr>\n",
       "      <th>8244</th>\n",
       "      <td>j'.'kaminski@enron.com</td>\n",
       "      <td>1</td>\n",
       "      <td>0</td>\n",
       "      <td>0</td>\n",
       "    </tr>\n",
       "    <tr>\n",
       "      <th>8245</th>\n",
       "      <td>michael.castillo@enron.com</td>\n",
       "      <td>0</td>\n",
       "      <td>2</td>\n",
       "      <td>1</td>\n",
       "    </tr>\n",
       "    <tr>\n",
       "      <th>8246</th>\n",
       "      <td>dave.gunther@enron.com</td>\n",
       "      <td>1</td>\n",
       "      <td>0</td>\n",
       "      <td>0</td>\n",
       "    </tr>\n",
       "  </tbody>\n",
       "</table>\n",
       "<p>8247 rows × 4 columns</p>\n",
       "</div>"
      ],
      "text/plain": [
       "                           Email  Received  Sent  Recipients\n",
       "0         chris.foster@enron.com        77    84          33\n",
       "1             kim.ward@enron.com       230    69          37\n",
       "2       jeffrey.porter@enron.com        21     8           5\n",
       "3      ena.nominations@enron.com         1     0           0\n",
       "4             sue.nord@enron.com       167    58          29\n",
       "...                          ...       ...   ...         ...\n",
       "8242       m.'.'presto@enron.com         1     0           0\n",
       "8243         mcdonough@enron.com         1     0           0\n",
       "8244      j'.'kaminski@enron.com         1     0           0\n",
       "8245  michael.castillo@enron.com         0     2           1\n",
       "8246      dave.gunther@enron.com         1     0           0\n",
       "\n",
       "[8247 rows x 4 columns]"
      ]
     },
     "execution_count": 70,
     "metadata": {},
     "output_type": "execute_result"
    }
   ],
   "source": [
    "data = {'Email': [], 'Received': [], 'Sent': [], 'Recipients': []}\n",
    "\n",
    "for person in all_people.values():\n",
    "    data['Email'].append(person.email)\n",
    "    data['Received'].append(len(person.received))\n",
    "    data['Sent'].append(len(person.sent))\n",
    "    data['Recipients'].append(len(person.recipients))\n",
    "\n",
    "activity = pd.DataFrame(data)\n",
    "\n",
    "# write to csv\n",
    "# activity.to_csv('./activity/activity.csv', index=False)\n",
    "activity"
   ]
  },
  {
   "cell_type": "code",
   "execution_count": 71,
   "id": "2ba12452",
   "metadata": {},
   "outputs": [
    {
     "name": "stdout",
     "output_type": "stream",
     "text": [
      "5592 2655\n"
     ]
    }
   ],
   "source": [
    "active_emailers = set()\n",
    "inactive_count = 0\n",
    "\n",
    "for person in all_people.values():\n",
    "    if len(person.sent) > 0 or len(person.received) > 3:\n",
    "        active_emailers.add(person.email)\n",
    "    else:\n",
    "        inactive_count += 1\n",
    "        \n",
    "print(len(active_emailers), inactive_count)"
   ]
  },
  {
   "cell_type": "code",
   "execution_count": 72,
   "id": "2278ef5f",
   "metadata": {},
   "outputs": [
    {
     "data": {
      "text/plain": [
       "98241"
      ]
     },
     "execution_count": 72,
     "metadata": {},
     "output_type": "execute_result"
    }
   ],
   "source": [
    "# modify the emails dataframe to only include active emailers\n",
    "emails = emails[emails['sender'].isin(active_emailers)]\n",
    "emails['recipients'] = emails['recipients'].apply(lambda x: [recipient for recipient in x if recipient in active_emailers])\n",
    "emails = emails[emails['recipients'].apply(len) > 0]\n",
    "len(emails)"
   ]
  },
  {
   "cell_type": "code",
   "execution_count": 78,
   "id": "dcd3d400",
   "metadata": {},
   "outputs": [
    {
     "data": {
      "text/html": [
       "<div>\n",
       "<style scoped>\n",
       "    .dataframe tbody tr th:only-of-type {\n",
       "        vertical-align: middle;\n",
       "    }\n",
       "\n",
       "    .dataframe tbody tr th {\n",
       "        vertical-align: top;\n",
       "    }\n",
       "\n",
       "    .dataframe thead th {\n",
       "        text-align: right;\n",
       "    }\n",
       "</style>\n",
       "<table border=\"1\" class=\"dataframe\">\n",
       "  <thead>\n",
       "    <tr style=\"text-align: right;\">\n",
       "      <th></th>\n",
       "      <th>sender</th>\n",
       "      <th>recipients</th>\n",
       "      <th>date</th>\n",
       "      <th>subject</th>\n",
       "      <th>message_id</th>\n",
       "      <th>day_of_week</th>\n",
       "      <th>hour_of_week</th>\n",
       "    </tr>\n",
       "  </thead>\n",
       "  <tbody>\n",
       "    <tr>\n",
       "      <th>55003</th>\n",
       "      <td>chris.foster@enron.com</td>\n",
       "      <td>kim.ward@enron.com</td>\n",
       "      <td>2001-01-01 01:38:00+00:00</td>\n",
       "      <td>2001 natural gas forecast</td>\n",
       "      <td>&lt;29779853.1075851847407.JavaMail.evans@thyme&gt;</td>\n",
       "      <td>0</td>\n",
       "      <td>1</td>\n",
       "    </tr>\n",
       "    <tr>\n",
       "      <th>55005</th>\n",
       "      <td>sue.nord@enron.com</td>\n",
       "      <td>margo.reyna@enron.com</td>\n",
       "      <td>2001-01-01 04:29:00+00:00</td>\n",
       "      <td>Re: CA Quarterly Fee Statement</td>\n",
       "      <td>&lt;28595177.1075843766562.JavaMail.evans@thyme&gt;</td>\n",
       "      <td>0</td>\n",
       "      <td>4</td>\n",
       "    </tr>\n",
       "    <tr>\n",
       "      <th>55006</th>\n",
       "      <td>sue.nord@enron.com</td>\n",
       "      <td>barbara.hueter@enron.com jeff.dasovich@enron.c...</td>\n",
       "      <td>2001-01-01 04:59:00+00:00</td>\n",
       "      <td>Re: Ohio Telecommunications Legislation</td>\n",
       "      <td>&lt;17528586.1075843766536.JavaMail.evans@thyme&gt;</td>\n",
       "      <td>0</td>\n",
       "      <td>4</td>\n",
       "    </tr>\n",
       "    <tr>\n",
       "      <th>55007</th>\n",
       "      <td>sheila.tweed@enron.com</td>\n",
       "      <td>mark.haedicke@enron.com elizabeth.sager@enron....</td>\n",
       "      <td>2001-01-01 05:11:00+00:00</td>\n",
       "      <td>Commission Hearings on Rate Stabilization Plan...</td>\n",
       "      <td>&lt;20708722.1075853232986.JavaMail.evans@thyme&gt;</td>\n",
       "      <td>0</td>\n",
       "      <td>5</td>\n",
       "    </tr>\n",
       "    <tr>\n",
       "      <th>55010</th>\n",
       "      <td>john.arnold@enron.com</td>\n",
       "      <td>john.lavorato@enron.com</td>\n",
       "      <td>2001-01-01 08:36:00+00:00</td>\n",
       "      <td>Re:</td>\n",
       "      <td>&lt;27978344.1075857641184.JavaMail.evans@thyme&gt;</td>\n",
       "      <td>0</td>\n",
       "      <td>8</td>\n",
       "    </tr>\n",
       "    <tr>\n",
       "      <th>...</th>\n",
       "      <td>...</td>\n",
       "      <td>...</td>\n",
       "      <td>...</td>\n",
       "      <td>...</td>\n",
       "      <td>...</td>\n",
       "      <td>...</td>\n",
       "      <td>...</td>\n",
       "    </tr>\n",
       "    <tr>\n",
       "      <th>156504</th>\n",
       "      <td>system.administrator@enron.com</td>\n",
       "      <td>elizabeth.sager@enron.com</td>\n",
       "      <td>2001-12-31 23:00:06+00:00</td>\n",
       "      <td>Your mailbox is over its size limit</td>\n",
       "      <td>&lt;5967809.1075859126213.JavaMail.evans@thyme&gt;</td>\n",
       "      <td>0</td>\n",
       "      <td>23</td>\n",
       "    </tr>\n",
       "    <tr>\n",
       "      <th>156505</th>\n",
       "      <td>system.administrator@enron.com</td>\n",
       "      <td>kay.mann@enron.com</td>\n",
       "      <td>2001-12-31 23:00:11+00:00</td>\n",
       "      <td>Your mailbox is over its size limit</td>\n",
       "      <td>&lt;24436699.1075855246109.JavaMail.evans@thyme&gt;</td>\n",
       "      <td>0</td>\n",
       "      <td>23</td>\n",
       "    </tr>\n",
       "    <tr>\n",
       "      <th>156506</th>\n",
       "      <td>system.administrator@enron.com</td>\n",
       "      <td>b..sanders@enron.com</td>\n",
       "      <td>2001-12-31 23:00:14+00:00</td>\n",
       "      <td>Your mailbox is over its size limit</td>\n",
       "      <td>&lt;3308063.1075859457637.JavaMail.evans@thyme&gt;</td>\n",
       "      <td>0</td>\n",
       "      <td>23</td>\n",
       "    </tr>\n",
       "    <tr>\n",
       "      <th>156507</th>\n",
       "      <td>system.administrator@enron.com</td>\n",
       "      <td>d..steffes@enron.com</td>\n",
       "      <td>2001-12-31 23:00:34+00:00</td>\n",
       "      <td>Your mailbox is over its size limit</td>\n",
       "      <td>&lt;30237259.1075855209614.JavaMail.evans@thyme&gt;</td>\n",
       "      <td>0</td>\n",
       "      <td>23</td>\n",
       "    </tr>\n",
       "    <tr>\n",
       "      <th>156508</th>\n",
       "      <td>pete.davis@enron.com</td>\n",
       "      <td>pete.davis@enron.com</td>\n",
       "      <td>2001-12-31 23:56:37+00:00</td>\n",
       "      <td>Schedule Crawler: HourAhead Failure</td>\n",
       "      <td>&lt;31116492.1075839978010.JavaMail.evans@thyme&gt;</td>\n",
       "      <td>0</td>\n",
       "      <td>23</td>\n",
       "    </tr>\n",
       "  </tbody>\n",
       "</table>\n",
       "<p>98241 rows × 7 columns</p>\n",
       "</div>"
      ],
      "text/plain": [
       "                                sender  \\\n",
       "55003           chris.foster@enron.com   \n",
       "55005               sue.nord@enron.com   \n",
       "55006               sue.nord@enron.com   \n",
       "55007           sheila.tweed@enron.com   \n",
       "55010            john.arnold@enron.com   \n",
       "...                                ...   \n",
       "156504  system.administrator@enron.com   \n",
       "156505  system.administrator@enron.com   \n",
       "156506  system.administrator@enron.com   \n",
       "156507  system.administrator@enron.com   \n",
       "156508            pete.davis@enron.com   \n",
       "\n",
       "                                               recipients  \\\n",
       "55003                                  kim.ward@enron.com   \n",
       "55005                               margo.reyna@enron.com   \n",
       "55006   barbara.hueter@enron.com jeff.dasovich@enron.c...   \n",
       "55007   mark.haedicke@enron.com elizabeth.sager@enron....   \n",
       "55010                             john.lavorato@enron.com   \n",
       "...                                                   ...   \n",
       "156504                          elizabeth.sager@enron.com   \n",
       "156505                                 kay.mann@enron.com   \n",
       "156506                               b..sanders@enron.com   \n",
       "156507                               d..steffes@enron.com   \n",
       "156508                               pete.davis@enron.com   \n",
       "\n",
       "                            date  \\\n",
       "55003  2001-01-01 01:38:00+00:00   \n",
       "55005  2001-01-01 04:29:00+00:00   \n",
       "55006  2001-01-01 04:59:00+00:00   \n",
       "55007  2001-01-01 05:11:00+00:00   \n",
       "55010  2001-01-01 08:36:00+00:00   \n",
       "...                          ...   \n",
       "156504 2001-12-31 23:00:06+00:00   \n",
       "156505 2001-12-31 23:00:11+00:00   \n",
       "156506 2001-12-31 23:00:14+00:00   \n",
       "156507 2001-12-31 23:00:34+00:00   \n",
       "156508 2001-12-31 23:56:37+00:00   \n",
       "\n",
       "                                                  subject  \\\n",
       "55003                           2001 natural gas forecast   \n",
       "55005                      Re: CA Quarterly Fee Statement   \n",
       "55006             Re: Ohio Telecommunications Legislation   \n",
       "55007   Commission Hearings on Rate Stabilization Plan...   \n",
       "55010                                                 Re:   \n",
       "...                                                   ...   \n",
       "156504                Your mailbox is over its size limit   \n",
       "156505                Your mailbox is over its size limit   \n",
       "156506                Your mailbox is over its size limit   \n",
       "156507                Your mailbox is over its size limit   \n",
       "156508                Schedule Crawler: HourAhead Failure   \n",
       "\n",
       "                                           message_id  day_of_week  \\\n",
       "55003   <29779853.1075851847407.JavaMail.evans@thyme>            0   \n",
       "55005   <28595177.1075843766562.JavaMail.evans@thyme>            0   \n",
       "55006   <17528586.1075843766536.JavaMail.evans@thyme>            0   \n",
       "55007   <20708722.1075853232986.JavaMail.evans@thyme>            0   \n",
       "55010   <27978344.1075857641184.JavaMail.evans@thyme>            0   \n",
       "...                                               ...          ...   \n",
       "156504   <5967809.1075859126213.JavaMail.evans@thyme>            0   \n",
       "156505  <24436699.1075855246109.JavaMail.evans@thyme>            0   \n",
       "156506   <3308063.1075859457637.JavaMail.evans@thyme>            0   \n",
       "156507  <30237259.1075855209614.JavaMail.evans@thyme>            0   \n",
       "156508  <31116492.1075839978010.JavaMail.evans@thyme>            0   \n",
       "\n",
       "        hour_of_week  \n",
       "55003              1  \n",
       "55005              4  \n",
       "55006              4  \n",
       "55007              5  \n",
       "55010              8  \n",
       "...              ...  \n",
       "156504            23  \n",
       "156505            23  \n",
       "156506            23  \n",
       "156507            23  \n",
       "156508            23  \n",
       "\n",
       "[98241 rows x 7 columns]"
      ]
     },
     "execution_count": 78,
     "metadata": {},
     "output_type": "execute_result"
    }
   ],
   "source": [
    "emails['recipients'] = emails['recipients'].apply(lambda x: ' '.join(x))\n",
    "emails"
   ]
  },
  {
   "cell_type": "code",
   "execution_count": 79,
   "id": "a72fa0e7",
   "metadata": {},
   "outputs": [],
   "source": [
    "# write to csv\n",
    "emails.to_csv('./active_emails/active_emails.csv', index=False)"
   ]
  },
  {
   "cell_type": "code",
   "execution_count": 13,
   "id": "29126fef0e8a1e57",
   "metadata": {
    "ExecuteTime": {
     "end_time": "2024-04-22T16:03:22.234355Z",
     "start_time": "2024-04-22T16:03:22.230782Z"
    }
   },
   "outputs": [
    {
     "data": {
      "text/plain": [
       "8247"
      ]
     },
     "execution_count": 13,
     "metadata": {},
     "output_type": "execute_result"
    }
   ],
   "source": [
    "len(all_people)"
   ]
  },
  {
   "cell_type": "code",
   "execution_count": 14,
   "id": "795559aa86a7eceb",
   "metadata": {
    "ExecuteTime": {
     "end_time": "2024-04-22T16:03:23.044496Z",
     "start_time": "2024-04-22T16:03:22.847502Z"
    }
   },
   "outputs": [
    {
     "name": "stdout",
     "output_type": "stream",
     "text": [
      "8247 50967\n"
     ]
    }
   ],
   "source": [
    "graph = nx.DiGraph()\n",
    "\n",
    "for person in all_people.values():\n",
    "    for email in person.sent.values():\n",
    "        for recipient in email.recipients:\n",
    "            if recipient in all_people:\n",
    "                graph.add_edge(person.email, recipient)\n",
    "\n",
    "#print the number of nodes and edges in the graph\n",
    "print(len(graph.nodes()), len(graph.edges()))"
   ]
  },
  {
   "cell_type": "code",
   "execution_count": 15,
   "id": "d90d9c166e3f2479",
   "metadata": {
    "ExecuteTime": {
     "end_time": "2024-04-22T16:03:23.549123Z",
     "start_time": "2024-04-22T16:03:23.543411Z"
    }
   },
   "outputs": [],
   "source": [
    "# create dictionaries for the number of people who received/sent a certain number of emails\n",
    "sent = dict()\n",
    "received = dict()\n",
    "recipients = dict() # number different people someone emailed\n",
    "\n",
    "for person in all_people.values():\n",
    "    num_sent = len(person.sent)\n",
    "    sent[len(person.sent)] = sent.get(num_sent, 0) + 1\n",
    "    \n",
    "    num_received = len(person.received)\n",
    "    received[num_received] = received.get(num_received, 0) + 1\n",
    "    \n",
    "    num_recipients = len(person.recipients)\n",
    "    recipients[num_recipients] = recipients.get(num_recipients, 0) + 1"
   ]
  },
  {
   "cell_type": "code",
   "execution_count": 16,
   "id": "66a714cb0eceac77",
   "metadata": {
    "ExecuteTime": {
     "end_time": "2024-04-22T16:03:24.479154Z",
     "start_time": "2024-04-22T16:03:24.430973Z"
    }
   },
   "outputs": [
    {
     "name": "stdout",
     "output_type": "stream",
     "text": [
      "Calculating best minimal value for power law fit\n",
      "Calculating best minimal value for power law fit\n",
      "Calculating best minimal value for power law fit\n",
      "Received fit: 2.5385204169300635\n",
      "Sent fit: 2.07715772053822\n",
      "Recipients fit: 2.703045383321218\n"
     ]
    },
    {
     "name": "stderr",
     "output_type": "stream",
     "text": [
      "Values less than or equal to 0 in data. Throwing out 0 or negative values\n",
      "Values less than or equal to 0 in data. Throwing out 0 or negative values\n",
      "Values less than or equal to 0 in data. Throwing out 0 or negative values\n"
     ]
    }
   ],
   "source": [
    "#create an array of the number of emails received by each person\n",
    "num_received = []\n",
    "num_sent = []\n",
    "num_recipients = []\n",
    "for person in all_people.values():\n",
    "    num_received.append(len(person.received))\n",
    "    num_sent.append(len(person.sent))\n",
    "    num_recipients.append(len(person.recipients))\n",
    "\n",
    "# fit the powerlaw model\n",
    "fit_received = powerlaw.Fit(num_received)\n",
    "fit_sent = powerlaw.Fit(num_sent)\n",
    "fit_recipients = powerlaw.Fit(num_recipients)\n",
    "\n",
    "print(f'Received fit: {fit_received.alpha}')\n",
    "print(f'Sent fit: {fit_sent.alpha}')\n",
    "print(f'Recipients fit: {fit_recipients.alpha}')"
   ]
  },
  {
   "cell_type": "code",
   "execution_count": 17,
   "id": "598859ac737f7824",
   "metadata": {
    "ExecuteTime": {
     "end_time": "2024-04-22T16:03:25.203741Z",
     "start_time": "2024-04-22T16:03:25.200713Z"
    }
   },
   "outputs": [
    {
     "name": "stdout",
     "output_type": "stream",
     "text": [
      "[333, 302, 250, 231, 228, 217, 214, 213, 202, 195]\n"
     ]
    }
   ],
   "source": [
    "print(sorted(recipients, reverse=True)[:10])"
   ]
  },
  {
   "cell_type": "code",
   "execution_count": 18,
   "id": "a99f1a01bd2488ec",
   "metadata": {
    "ExecuteTime": {
     "end_time": "2024-04-22T16:03:26.954214Z",
     "start_time": "2024-04-22T16:03:26.265170Z"
    }
   },
   "outputs": [
    {
     "data": {
      "image/png": "[encoded data removed]",
      "text/plain": [
       "<Figure size 640x480 with 1 Axes>"
      ]
     },
     "metadata": {},
     "output_type": "display_data"
    }
   ],
   "source": [
    "# Create a list for the number of emails received by each person\n",
    "num_activity = [len(person.sent) + len(person.received) for person in all_people.values()]\n",
    "# num_activity = [len(person.recipients) for person in all_people.values()]\n",
    "# Create a list of bin edges from the minimum to the maximum number of emails received, with a step size of 100\n",
    "bin_size = 5\n",
    "bins = range(min(num_activity), max(num_activity) + bin_size, bin_size)\n",
    "\n",
    "# Plot the histogram\n",
    "plt.xlim(-50, 1000)\n",
    "plt.ylim(0, 5000)\n",
    "plt.hist(num_activity, bins=bins, width=bin_size, alpha=0.7)\n",
    "plt.xlabel('Number of Emails Received')\n",
    "plt.ylabel('Number of People')\n",
    "plt.title('Number of People vs Number of Emails Received')\n",
    "plt.show()"
   ]
  },
  {
   "cell_type": "code",
   "execution_count": 19,
   "id": "c75d6e491cc1ffa",
   "metadata": {
    "ExecuteTime": {
     "end_time": "2024-04-22T16:03:27.811343Z",
     "start_time": "2024-04-22T16:03:27.808499Z"
    }
   },
   "outputs": [],
   "source": [
    "def get_log_log(activity_dict: dict):\n",
    "    x = list(activity_dict.keys())\n",
    "    y = list(activity_dict.values())\n",
    "    y = [val / sum(y) for val in y]\n",
    "    # Plot the log-log graph\n",
    "    plt.loglog(x, y, marker='o', linestyle='')\n",
    "    plt.xlabel('log(out_degree)')\n",
    "    plt.ylabel('log(number of people)')\n",
    "    plt.title('Number of Emails Sent vs Number of People')\n",
    "    return plt"
   ]
  },
  {
   "cell_type": "code",
   "execution_count": 20,
   "id": "76d09f1a14dd5c70",
   "metadata": {
    "ExecuteTime": {
     "end_time": "2024-04-22T16:03:29.228134Z",
     "start_time": "2024-04-22T16:03:28.980082Z"
    }
   },
   "outputs": [
    {
     "data": {
      "image/png": "[encoded data removed]",
      "text/plain": [
       "<Figure size 640x480 with 1 Axes>"
      ]
     },
     "metadata": {},
     "output_type": "display_data"
    }
   ],
   "source": [
    "plt_sent = get_log_log(sent)\n",
    "plt_sent.show()"
   ]
  },
  {
   "cell_type": "code",
   "execution_count": 21,
   "id": "3aad4196840afbc8",
   "metadata": {
    "ExecuteTime": {
     "end_time": "2024-04-22T16:03:30.557777Z",
     "start_time": "2024-04-22T16:03:30.362394Z"
    }
   },
   "outputs": [
    {
     "data": {
      "image/png": "[encoded data removed]",
      "text/plain": [
       "<Figure size 640x480 with 1 Axes>"
      ]
     },
     "metadata": {},
     "output_type": "display_data"
    }
   ],
   "source": [
    "plt_recipients = get_log_log(recipients)\n",
    "plt_recipients.show()"
   ]
  },
  {
   "cell_type": "code",
   "execution_count": 22,
   "id": "ad68e12e76c24ac8",
   "metadata": {
    "ExecuteTime": {
     "end_time": "2024-04-22T16:04:57.154529Z",
     "start_time": "2024-04-22T16:04:57.151304Z"
    }
   },
   "outputs": [],
   "source": [
    "# Define the empirical distribution of degrees (number of emails sent)\n",
    "sent_dist = DegreeDistribution(sent)\n",
    "recipients_dist = DegreeDistribution(recipients)"
   ]
  },
  {
   "cell_type": "code",
   "execution_count": 23,
   "id": "d36bdc22342d8487",
   "metadata": {
    "ExecuteTime": {
     "end_time": "2024-04-22T16:06:27.009230Z",
     "start_time": "2024-04-22T16:06:27.004041Z"
    }
   },
   "outputs": [
    {
     "name": "stdout",
     "output_type": "stream",
     "text": [
      "3031 3030\n"
     ]
    }
   ],
   "source": [
    "# the index is the degree and the value is the probability of that degree\n",
    "sent_freq_dist = [0] * (max(sent_dist.degrees) + 1)\n",
    "for sent_degree, probability in zip(sent_dist.degrees, sent_dist.probabilities):\n",
    "    sent_freq_dist[sent_degree] = probability\n",
    "\n",
    "print(len(sent_freq_dist), max(sent_dist.degrees))"
   ]
  },
  {
   "cell_type": "code",
   "execution_count": 24,
   "id": "89e93260ddf3ac53",
   "metadata": {},
   "outputs": [
    {
     "name": "stdout",
     "output_type": "stream",
     "text": [
      "334 333\n"
     ]
    }
   ],
   "source": [
    "recipients_freq_dist = [0] * (max(recipients_dist.degrees) + 1)\n",
    "for recipients_degree, probability in zip(recipients_dist.degrees, recipients_dist.probabilities):\n",
    "    recipients_freq_dist[recipients_degree] = probability\n",
    "\n",
    "print(len(recipients_freq_dist), max(recipients.keys()))"
   ]
  },
  {
   "cell_type": "code",
   "execution_count": 25,
   "id": "2fbc8c69a74b1069",
   "metadata": {},
   "outputs": [],
   "source": [
    "def node_dp_degree_approximation(epsilon: float, theta: int, degree_dict: dict, deg_dist: np.ndarray):\n",
    "    beta = epsilon / (np.sqrt(2) * (theta + 1))\n",
    "    St_naive = 0  # smooth upper bound on local sensitivity of Naive Truncation\n",
    "    for k in range(1, theta + 1):\n",
    "        n = len([d for d in degree_dict.keys() if theta - k <= d <= theta + k])\n",
    "        curr_s = (np.exp(-beta * k)) * (1 + k + n)\n",
    "        St_naive = max(St_naive, curr_s)\n",
    "        \n",
    "    cauchy_scale = np.sqrt(2) * theta * St_naive / epsilon\n",
    "    print('cauchy scale', cauchy_scale)\n",
    "    cauchy_noise = cauchy.rvs(loc=0, scale=cauchy_scale, size=theta + 1)\n",
    "    noisy_degs = deg_dist[:theta + 1] + cauchy_noise\n",
    "    noisy_degs = np.maximum(noisy_degs, 0)\n",
    "    noisy_degs = noisy_degs / sum(noisy_degs)\n",
    "    \n",
    "    return noisy_degs"
   ]
  },
  {
   "cell_type": "code",
   "execution_count": 26,
   "id": "6661f72d1c512d25",
   "metadata": {},
   "outputs": [
    {
     "name": "stdout",
     "output_type": "stream",
     "text": [
      "cauchy scale 2762.365969635189\n"
     ]
    },
    {
     "data": {
      "text/plain": [
       "array([0.34882817, 0.30573977, 0.        , 0.34543206, 0.        ,\n",
       "       0.        , 0.        , 0.        , 0.        ])"
      ]
     },
     "execution_count": 26,
     "metadata": {},
     "output_type": "execute_result"
    }
   ],
   "source": [
    "approx_degrees = node_dp_degree_approximation(epsilon=0.1, theta=8, degree_dict=sent, deg_dist=sent_freq_dist)\n",
    "approx_degrees"
   ]
  },
  {
   "cell_type": "code",
   "execution_count": 27,
   "id": "1ba62ab3c7a9240e",
   "metadata": {},
   "outputs": [],
   "source": [
    "# generate N independent random draws from the distribution. If sum is odd, add 1 to the smallest degree\n",
    "def get_sorted_random_degree_sequence(deg_dist: DegreeDistribution, seq_size: int) -> np.ndarray:\n",
    "    random_degrees = np.random.choice(\n",
    "        deg_dist.degrees, size=seq_size, replace=True, p=deg_dist.probabilities)\n",
    "    if sum(random_degrees) % 2 != 0:\n",
    "        random_degrees[np.argmin(random_degrees)] += 1\n",
    "\n",
    "    return np.sort(random_degrees)[::-1]\n",
    "\n",
    "\n",
    "def get_capped_degree_seq(seq_size: int, deg_dist: DegreeDistribution) -> DegreeDistribution:\n",
    "    degrees, probs = deg_dist.degrees, deg_dist.probabilities\n",
    "    for i, degree in enumerate(degrees):\n",
    "        if degree > seq_size:\n",
    "            max_allowed_deg_idx = i - 1\n",
    "            break\n",
    "    else:\n",
    "        max_allowed_deg_idx = len(degrees) - 1\n",
    "\n",
    "    ds = degrees[:max_allowed_deg_idx]\n",
    "    ps = probs[:max_allowed_deg_idx]\n",
    "    # normalise the probabilities\n",
    "    ps = [prob / sum(ps) for prob in ps]\n",
    "\n",
    "    return DegreeDistribution(dict(zip(ds, ps)))"
   ]
  },
  {
   "cell_type": "code",
   "execution_count": 28,
   "id": "3f2e781165a72c97",
   "metadata": {},
   "outputs": [],
   "source": [
    "SEQ_SIZE = 2000\n",
    "capped_sent_dist = get_capped_degree_seq(seq_size=SEQ_SIZE, deg_dist=sent_dist)\n",
    "sorted_random_sents = get_sorted_random_degree_sequence(deg_dist=capped_sent_dist, seq_size=SEQ_SIZE)\n",
    "# candidate_nodes = get_candidate_nodes(sorted_random_degrees)\n",
    "\n",
    "capped_recipients_dist = get_capped_degree_seq(seq_size=SEQ_SIZE, deg_dist=recipients_dist)\n",
    "sorted_random_recipients = get_sorted_random_degree_sequence(deg_dist=capped_recipients_dist, seq_size=SEQ_SIZE)"
   ]
  },
  {
   "cell_type": "code",
   "execution_count": 29,
   "id": "32a67a8590b2e17b",
   "metadata": {},
   "outputs": [
    {
     "name": "stdout",
     "output_type": "stream",
     "text": [
      "[228 217 195 ...   0   0   0] 2000\n"
     ]
    }
   ],
   "source": [
    "print(sorted_random_recipients, len(sorted_random_recipients))"
   ]
  },
  {
   "cell_type": "code",
   "execution_count": 30,
   "id": "c7871e5cc37e75a",
   "metadata": {},
   "outputs": [],
   "source": [
    "def get_candidate_nodes(sorted_degrees) -> list[int]: # residual_degs\n",
    "    candidate_nodes = []\n",
    "    for i, deg in enumerate(sorted_degrees):\n",
    "        candidate_nodes += [i] * deg\n",
    "    return candidate_nodes\n",
    "\n",
    "\n",
    "def get_random_graph_from_degree(deg_seq: np.ndarray) -> np.ndarray:\n",
    "    N = len(deg_seq)\n",
    "    if sum(deg_seq) % 2 != 0:\n",
    "        deg_seq[-1] += 1\n",
    "    \n",
    "    def fill_adj_matrix(res_degs, c, m, x):\n",
    "        matrix = np.zeros((N, N))\n",
    "        while res_degs:\n",
    "            i = res_degs[0]\n",
    "            valid_j = False\n",
    "            while not valid_j:\n",
    "                # pick a random index from the residual degrees (recipient of person i)\n",
    "                idx = random.randint(1, len(res_degs) - 1)\n",
    "                j = res_degs[idx]\n",
    "                if i == j or matrix[i, j] > 0:\n",
    "                    c += 1\n",
    "                    if c >= m:\n",
    "                        return None\n",
    "                else:\n",
    "                    valid_j = True\n",
    "            matrix[i, j], matrix[j, i] = 1, 1\n",
    "            if x > 0 and x % 100 == 0:\n",
    "                print('here', x, i)\n",
    "            res_degs.pop(idx)\n",
    "            res_degs.pop(0)\n",
    "                \n",
    "        return matrix \n",
    "    \n",
    "    residual_degs = get_candidate_nodes(deg_seq)\n",
    "    adj_matrix = None\n",
    "    x = 0\n",
    "    while adj_matrix is None:\n",
    "        adj_matrix = fill_adj_matrix(res_degs=residual_degs.copy(), c=0, m=2000, x=x)\n",
    "        x += 1\n",
    "    return adj_matrix"
   ]
  },
  {
   "cell_type": "code",
   "execution_count": 31,
   "id": "10652a3891ac0fa1",
   "metadata": {},
   "outputs": [
    {
     "data": {
      "text/plain": [
       "array([[0., 1., 1., ..., 0., 0., 0.],\n",
       "       [1., 0., 1., ..., 0., 0., 0.],\n",
       "       [1., 1., 0., ..., 0., 0., 0.],\n",
       "       ...,\n",
       "       [0., 0., 0., ..., 0., 0., 0.],\n",
       "       [0., 0., 0., ..., 0., 0., 0.],\n",
       "       [0., 0., 0., ..., 0., 0., 0.]])"
      ]
     },
     "execution_count": 31,
     "metadata": {},
     "output_type": "execute_result"
    }
   ],
   "source": [
    "random_graph = get_random_graph_from_degree(sorted_random_recipients)\n",
    "random_graph"
   ]
  },
  {
   "cell_type": "markdown",
   "id": "afc856ea32e0f344",
   "metadata": {},
   "source": [
    "## K means clustering"
   ]
  },
  {
   "cell_type": "code",
   "execution_count": 46,
   "id": "32d10830c14ee6ce",
   "metadata": {},
   "outputs": [
    {
     "data": {
      "image/png": "[encoded data removed]",
      "text/plain": [
       "<Figure size 640x480 with 1 Axes>"
      ]
     },
     "metadata": {},
     "output_type": "display_data"
    }
   ],
   "source": [
    "# Features for clustering\n",
    "# X = activity[['Sent']]\n",
    "X = activity[['Sent', 'Recipients']]\n",
    "\n",
    "inertia = []\n",
    "\n",
    "# Iterate over a range of cluster numbers\n",
    "for k in range(1, 11):\n",
    "    # Create a KMeans object with k clusters\n",
    "    kmeans = KMeans(n_clusters=k, random_state=42)\n",
    "    # Fit the model to the data\n",
    "    kmeans.fit(X)\n",
    "    # Append the inertia value to the list\n",
    "    inertia.append(kmeans.inertia_)\n",
    "\n",
    "# Plot the elbow curve\n",
    "plt.plot(range(1, 11), inertia, marker='o')\n",
    "plt.xlabel('Number of Clusters')\n",
    "plt.ylabel('Inertia')\n",
    "plt.title('Elbow Method')\n",
    "plt.show()\n"
   ]
  },
  {
   "cell_type": "code",
   "execution_count": 47,
   "id": "e5e423f474c5bb",
   "metadata": {},
   "outputs": [
    {
     "data": {
      "text/html": [
       "<div>\n",
       "<style scoped>\n",
       "    .dataframe tbody tr th:only-of-type {\n",
       "        vertical-align: middle;\n",
       "    }\n",
       "\n",
       "    .dataframe tbody tr th {\n",
       "        vertical-align: top;\n",
       "    }\n",
       "\n",
       "    .dataframe thead th {\n",
       "        text-align: right;\n",
       "    }\n",
       "</style>\n",
       "<table border=\"1\" class=\"dataframe\">\n",
       "  <thead>\n",
       "    <tr style=\"text-align: right;\">\n",
       "      <th></th>\n",
       "      <th>Email</th>\n",
       "      <th>Received</th>\n",
       "      <th>Sent</th>\n",
       "      <th>Recipients</th>\n",
       "      <th>cluster</th>\n",
       "    </tr>\n",
       "  </thead>\n",
       "  <tbody>\n",
       "    <tr>\n",
       "      <th>0</th>\n",
       "      <td>chris.foster@enron.com</td>\n",
       "      <td>77</td>\n",
       "      <td>84</td>\n",
       "      <td>33</td>\n",
       "      <td>3</td>\n",
       "    </tr>\n",
       "    <tr>\n",
       "      <th>1</th>\n",
       "      <td>kim.ward@enron.com</td>\n",
       "      <td>230</td>\n",
       "      <td>69</td>\n",
       "      <td>37</td>\n",
       "      <td>3</td>\n",
       "    </tr>\n",
       "    <tr>\n",
       "      <th>2</th>\n",
       "      <td>jeffrey.porter@enron.com</td>\n",
       "      <td>21</td>\n",
       "      <td>8</td>\n",
       "      <td>5</td>\n",
       "      <td>0</td>\n",
       "    </tr>\n",
       "    <tr>\n",
       "      <th>3</th>\n",
       "      <td>ena.nominations@enron.com</td>\n",
       "      <td>1</td>\n",
       "      <td>0</td>\n",
       "      <td>0</td>\n",
       "      <td>0</td>\n",
       "    </tr>\n",
       "    <tr>\n",
       "      <th>4</th>\n",
       "      <td>sue.nord@enron.com</td>\n",
       "      <td>167</td>\n",
       "      <td>58</td>\n",
       "      <td>29</td>\n",
       "      <td>0</td>\n",
       "    </tr>\n",
       "    <tr>\n",
       "      <th>...</th>\n",
       "      <td>...</td>\n",
       "      <td>...</td>\n",
       "      <td>...</td>\n",
       "      <td>...</td>\n",
       "      <td>...</td>\n",
       "    </tr>\n",
       "    <tr>\n",
       "      <th>8242</th>\n",
       "      <td>m.'.'presto@enron.com</td>\n",
       "      <td>1</td>\n",
       "      <td>0</td>\n",
       "      <td>0</td>\n",
       "      <td>0</td>\n",
       "    </tr>\n",
       "    <tr>\n",
       "      <th>8243</th>\n",
       "      <td>mcdonough@enron.com</td>\n",
       "      <td>1</td>\n",
       "      <td>0</td>\n",
       "      <td>0</td>\n",
       "      <td>0</td>\n",
       "    </tr>\n",
       "    <tr>\n",
       "      <th>8244</th>\n",
       "      <td>j'.'kaminski@enron.com</td>\n",
       "      <td>1</td>\n",
       "      <td>0</td>\n",
       "      <td>0</td>\n",
       "      <td>0</td>\n",
       "    </tr>\n",
       "    <tr>\n",
       "      <th>8245</th>\n",
       "      <td>michael.castillo@enron.com</td>\n",
       "      <td>0</td>\n",
       "      <td>2</td>\n",
       "      <td>1</td>\n",
       "      <td>0</td>\n",
       "    </tr>\n",
       "    <tr>\n",
       "      <th>8246</th>\n",
       "      <td>dave.gunther@enron.com</td>\n",
       "      <td>1</td>\n",
       "      <td>0</td>\n",
       "      <td>0</td>\n",
       "      <td>0</td>\n",
       "    </tr>\n",
       "  </tbody>\n",
       "</table>\n",
       "<p>8247 rows × 5 columns</p>\n",
       "</div>"
      ],
      "text/plain": [
       "                           Email  Received  Sent  Recipients  cluster\n",
       "0         chris.foster@enron.com        77    84          33        3\n",
       "1             kim.ward@enron.com       230    69          37        3\n",
       "2       jeffrey.porter@enron.com        21     8           5        0\n",
       "3      ena.nominations@enron.com         1     0           0        0\n",
       "4             sue.nord@enron.com       167    58          29        0\n",
       "...                          ...       ...   ...         ...      ...\n",
       "8242       m.'.'presto@enron.com         1     0           0        0\n",
       "8243         mcdonough@enron.com         1     0           0        0\n",
       "8244      j'.'kaminski@enron.com         1     0           0        0\n",
       "8245  michael.castillo@enron.com         0     2           1        0\n",
       "8246      dave.gunther@enron.com         1     0           0        0\n",
       "\n",
       "[8247 rows x 5 columns]"
      ]
     },
     "execution_count": 47,
     "metadata": {},
     "output_type": "execute_result"
    }
   ],
   "source": [
    "n_clusters = 5\n",
    "X = activity[['Sent', 'Recipients']]\n",
    "kmeans = KMeans(n_clusters=n_clusters, random_state=42)\n",
    "y_means = kmeans.fit_predict(X)\n",
    "activity['cluster'] = y_means\n",
    "activity"
   ]
  },
  {
   "cell_type": "code",
   "execution_count": 48,
   "id": "e3a68feda0293115",
   "metadata": {},
   "outputs": [
    {
     "name": "stdout",
     "output_type": "stream",
     "text": [
      "Silhouette score: 0.8976068497893867\n"
     ]
    }
   ],
   "source": [
    "from sklearn.metrics import silhouette_score\n",
    "\n",
    "# Calculate the silhouette score\n",
    "silhouette = silhouette_score(X, y_means)\n",
    "\n",
    "print(f'Silhouette score: {silhouette}')"
   ]
  },
  {
   "cell_type": "code",
   "execution_count": 49,
   "id": "893ceaf79e3af28",
   "metadata": {},
   "outputs": [
    {
     "data": {
      "image/png": "[encoded data removed]",
      "text/plain": [
       "<Figure size 700x500 with 1 Axes>"
      ]
     },
     "metadata": {},
     "output_type": "display_data"
    }
   ],
   "source": [
    "# Define the color map for the clusters\n",
    "colour_map = {0: '#8338ec', 1: '#f77f00', 2: '#4f772d', 3: 'grey', 4: 'purple', 5: 'pink'}\n",
    "plt.figure(figsize=(7, 5))\n",
    "\n",
    "# Create the scatter plot with the specified colors\n",
    "# plt.scatter(activity['Received'], activity['Sent'], c=activity['cluster'].map(color_map))\n",
    "# plt.scatter(activity['Sent'], np.zeros(len(X)), c=activity['cluster'].map(colour_map), s=3)\n",
    "plt.scatter(activity['Sent'], activity['Recipients'],\n",
    "            c=activity['cluster'].map(colour_map).tolist(), s=10)\n",
    "plt.ylabel('Number of unique recipients')\n",
    "plt.xlabel('Number of Emails Sent')\n",
    "plt.title('Clustering of Emailers based on Number of Emails Sent and Number of Unique Recipients')\n",
    "\n",
    "# Create the legend\n",
    "plt.legend(handles=[Line2D([0], [0], marker='.', color='w', label=f'Cluster {cluster_num}', markerfacecolor=colour_map[cluster_num], markersize=15)\n",
    "                    for cluster_num in range(n_clusters)])\n",
    "\n",
    "plt.show()"
   ]
  },
  {
   "cell_type": "code",
   "execution_count": 50,
   "id": "e8af0e93",
   "metadata": {},
   "outputs": [
    {
     "data": {
      "text/plain": [
       "{33: array([0.57142857, 0.        , 0.        , 0.42857143, 0.        ]),\n",
       " 37: array([0.6, 0. , 0. , 0.4, 0. ]),\n",
       " 5: array([1., 0., 0., 0., 0.]),\n",
       " 0: array([1., 0., 0., 0., 0.]),\n",
       " 29: array([0.92857143, 0.        , 0.        , 0.07142857, 0.        ]),\n",
       " 3: array([0.99697885, 0.        , 0.        , 0.00302115, 0.        ]),\n",
       " 15: array([1., 0., 0., 0., 0.]),\n",
       " 333: array([0., 0., 1., 0., 0.]),\n",
       " 50: array([0.75, 0.  , 0.  , 0.25, 0.  ]),\n",
       " 42: array([0.16666667, 0.        , 0.        , 0.83333333, 0.        ]),\n",
       " 8: array([0.98684211, 0.        , 0.        , 0.00657895, 0.00657895]),\n",
       " 6: array([0.99393939, 0.        , 0.        , 0.        , 0.00606061]),\n",
       " 104: array([0., 0., 0., 0., 1.]),\n",
       " 31: array([0.79166667, 0.        , 0.        , 0.20833333, 0.        ]),\n",
       " 1: array([0.99790503, 0.        , 0.        , 0.00209497, 0.        ]),\n",
       " 28: array([0.85714286, 0.        , 0.        , 0.14285714, 0.        ]),\n",
       " 95: array([0., 0., 0., 1., 0.]),\n",
       " 142: array([0., 0., 0., 0., 1.]),\n",
       " 60: array([0., 0., 0., 1., 0.]),\n",
       " 129: array([0., 0., 0., 0., 1.]),\n",
       " 131: array([0., 0., 0., 0., 1.]),\n",
       " 102: array([0. , 0. , 0. , 0.5, 0.5]),\n",
       " 12: array([1., 0., 0., 0., 0.]),\n",
       " 13: array([0.97619048, 0.        , 0.        , 0.01190476, 0.01190476]),\n",
       " 57: array([0., 0., 0., 1., 0.]),\n",
       " 7: array([0.99333333, 0.        , 0.00666667, 0.        , 0.        ]),\n",
       " 53: array([0., 0., 0., 1., 0.]),\n",
       " 99: array([0., 0., 0., 1., 0.]),\n",
       " 9: array([1., 0., 0., 0., 0.]),\n",
       " 27: array([0.88888889, 0.        , 0.        , 0.11111111, 0.        ]),\n",
       " 51: array([0.28571429, 0.        , 0.        , 0.71428571, 0.        ]),\n",
       " 20: array([0.97435897, 0.        , 0.        , 0.02564103, 0.        ]),\n",
       " 120: array([0., 0., 0., 0., 1.]),\n",
       " 25: array([0.96428571, 0.        , 0.        , 0.03571429, 0.        ]),\n",
       " 127: array([0., 0., 0., 0., 1.]),\n",
       " 26: array([0.95, 0.  , 0.  , 0.05, 0.  ]),\n",
       " 213: array([0., 1., 0., 0., 0.]),\n",
       " 59: array([0., 0., 0., 1., 0.]),\n",
       " 45: array([0.33333333, 0.        , 0.        , 0.66666667, 0.        ]),\n",
       " 4: array([0.99541284, 0.        , 0.        , 0.00458716, 0.        ]),\n",
       " 2: array([0.99804305, 0.        , 0.        , 0.00195695, 0.        ]),\n",
       " 18: array([0.97826087, 0.        , 0.        , 0.02173913, 0.        ]),\n",
       " 14: array([0.97674419, 0.        , 0.        , 0.02325581, 0.        ]),\n",
       " 65: array([0., 0., 0., 0., 1.]),\n",
       " 183: array([0., 1., 0., 0., 0.]),\n",
       " 55: array([0.08333333, 0.        , 0.        , 0.91666667, 0.        ]),\n",
       " 118: array([0., 0., 0., 0., 1.]),\n",
       " 16: array([0.96774194, 0.        , 0.        , 0.03225806, 0.        ]),\n",
       " 156: array([0., 0., 0., 0., 1.]),\n",
       " 21: array([0.88461538, 0.        , 0.        , 0.11538462, 0.        ]),\n",
       " 62: array([0.33333333, 0.        , 0.        , 0.66666667, 0.        ]),\n",
       " 124: array([0., 0., 0., 0., 1.]),\n",
       " 214: array([0., 1., 0., 0., 0.]),\n",
       " 30: array([0.94736842, 0.        , 0.        , 0.05263158, 0.        ]),\n",
       " 36: array([0.68421053, 0.        , 0.        , 0.31578947, 0.        ]),\n",
       " 17: array([0.98461538, 0.        , 0.        , 0.01538462, 0.        ]),\n",
       " 217: array([0., 0., 0., 0., 1.]),\n",
       " 75: array([0.5, 0. , 0. , 0. , 0.5]),\n",
       " 180: array([0., 0., 0., 0., 1.]),\n",
       " 10: array([1., 0., 0., 0., 0.]),\n",
       " 130: array([0.        , 0.33333333, 0.        , 0.        , 0.66666667]),\n",
       " 302: array([0., 1., 0., 0., 0.]),\n",
       " 54: array([0.14285714, 0.        , 0.        , 0.85714286, 0.        ]),\n",
       " 44: array([0.2, 0. , 0. , 0.8, 0. ]),\n",
       " 195: array([0., 0., 0., 0., 1.]),\n",
       " 63: array([0., 0., 0., 1., 0.]),\n",
       " 72: array([0., 0., 0., 1., 0.]),\n",
       " 231: array([0., 1., 0., 0., 0.]),\n",
       " 86: array([0.        , 0.        , 0.        , 0.66666667, 0.33333333]),\n",
       " 40: array([0.2, 0. , 0. , 0.8, 0. ]),\n",
       " 228: array([0., 0., 0., 0., 1.]),\n",
       " 52: array([0.33333333, 0.        , 0.        , 0.66666667, 0.        ]),\n",
       " 98: array([0., 0., 0., 1., 0.]),\n",
       " 202: array([0., 0., 0., 0., 1.]),\n",
       " 68: array([0., 0., 0., 1., 0.]),\n",
       " 83: array([0., 0., 0., 1., 0.]),\n",
       " 32: array([0.875, 0.   , 0.   , 0.125, 0.   ]),\n",
       " 61: array([0.2, 0. , 0. , 0.8, 0. ]),\n",
       " 34: array([0.63157895, 0.        , 0.        , 0.36842105, 0.        ]),\n",
       " 11: array([1., 0., 0., 0., 0.]),\n",
       " 67: array([0., 0., 0., 1., 0.]),\n",
       " 106: array([0., 0., 0., 1., 0.]),\n",
       " 76: array([0., 0., 0., 1., 0.]),\n",
       " 90: array([0., 0., 0., 1., 0.]),\n",
       " 47: array([0.25, 0.  , 0.  , 0.75, 0.  ]),\n",
       " 87: array([0. , 0. , 0. , 0.5, 0.5]),\n",
       " 23: array([0.84848485, 0.        , 0.        , 0.15151515, 0.        ]),\n",
       " 125: array([0., 0., 0., 1., 0.]),\n",
       " 136: array([0., 0., 0., 0., 1.]),\n",
       " 85: array([0. , 0. , 0. , 0.5, 0.5]),\n",
       " 24: array([0.88888889, 0.        , 0.        , 0.11111111, 0.        ]),\n",
       " 77: array([0., 0., 0., 1., 0.]),\n",
       " 66: array([0., 0., 0., 1., 0.]),\n",
       " 89: array([0., 0., 0., 0., 1.]),\n",
       " 38: array([0.55555556, 0.        , 0.        , 0.44444444, 0.        ]),\n",
       " 145: array([0., 1., 0., 0., 0.]),\n",
       " 100: array([0., 0., 0., 0., 1.]),\n",
       " 19: array([0.94117647, 0.        , 0.        , 0.05882353, 0.        ]),\n",
       " 103: array([0., 0., 0., 0., 1.]),\n",
       " 49: array([0.42857143, 0.        , 0.        , 0.57142857, 0.        ]),\n",
       " 22: array([0.96875, 0.     , 0.     , 0.03125, 0.     ]),\n",
       " 148: array([0., 0., 0., 0., 1.]),\n",
       " 46: array([0.42857143, 0.        , 0.        , 0.57142857, 0.        ]),\n",
       " 133: array([0., 0., 0., 0., 1.]),\n",
       " 56: array([0., 0., 0., 1., 0.]),\n",
       " 70: array([0. , 0. , 0. , 0.5, 0.5]),\n",
       " 123: array([0., 0., 0., 1., 0.]),\n",
       " 58: array([0.33333333, 0.        , 0.        , 0.66666667, 0.        ]),\n",
       " 78: array([0., 0., 0., 1., 0.]),\n",
       " 92: array([0., 0., 0., 1., 0.]),\n",
       " 41: array([0.75, 0.  , 0.  , 0.25, 0.  ]),\n",
       " 91: array([0., 0., 0., 1., 0.]),\n",
       " 43: array([0.28571429, 0.        , 0.        , 0.71428571, 0.        ]),\n",
       " 39: array([0.55555556, 0.        , 0.        , 0.44444444, 0.        ]),\n",
       " 71: array([0., 0., 0., 0., 1.]),\n",
       " 48: array([0.25, 0.  , 0.  , 0.75, 0.  ]),\n",
       " 35: array([0.57142857, 0.        , 0.        , 0.42857143, 0.        ]),\n",
       " 88: array([0., 0., 0., 0., 1.]),\n",
       " 114: array([0., 0., 0., 1., 0.]),\n",
       " 111: array([0.  , 0.  , 0.  , 0.25, 0.75]),\n",
       " 112: array([0., 0., 0., 0., 1.]),\n",
       " 74: array([0.  , 0.  , 0.  , 0.75, 0.25]),\n",
       " 73: array([0., 0., 0., 1., 0.]),\n",
       " 105: array([0., 0., 0., 1., 0.]),\n",
       " 79: array([0., 0., 0., 1., 0.]),\n",
       " 84: array([0., 0., 0., 1., 0.]),\n",
       " 82: array([0., 0., 0., 1., 0.]),\n",
       " 128: array([0. , 0. , 0. , 0.5, 0.5]),\n",
       " 93: array([0., 0., 0., 1., 0.]),\n",
       " 169: array([0., 0., 0., 0., 1.]),\n",
       " 150: array([0., 0., 0., 0., 1.]),\n",
       " 122: array([0., 0., 0., 1., 0.]),\n",
       " 80: array([0., 0., 0., 1., 0.]),\n",
       " 134: array([0., 0., 0., 1., 0.]),\n",
       " 146: array([0., 0., 0., 0., 1.]),\n",
       " 139: array([0., 0., 0., 0., 1.]),\n",
       " 184: array([0., 0., 0., 0., 1.]),\n",
       " 97: array([0., 0., 0., 0., 1.]),\n",
       " 94: array([0., 0., 0., 1., 0.]),\n",
       " 168: array([0., 0., 0., 0., 1.]),\n",
       " 250: array([0., 1., 0., 0., 0.])}"
      ]
     },
     "execution_count": 50,
     "metadata": {},
     "output_type": "execute_result"
    }
   ],
   "source": [
    "# for each unique value in the recipients column, add to a dictionary a list of probabilities of the value in the recipients column being in each cluster\n",
    "recipients_cluster_probs = dict()\n",
    "for num_recipients in recipients.keys():\n",
    "    recipients_cluster_probs[num_recipients] = np.array([0] * n_clusters)\n",
    "    \n",
    "for index, row in activity.iterrows():\n",
    "    num_recipients = row['Recipients']\n",
    "    cluster = row['cluster']\n",
    "    recipients_cluster_probs[num_recipients][cluster] += 1\n",
    "    \n",
    "for num_recipients, cluster_probs in recipients_cluster_probs.items():\n",
    "    recipients_cluster_probs[num_recipients] = cluster_probs / sum(cluster_probs)\n",
    "        \n",
    "recipients_cluster_probs"
   ]
  },
  {
   "cell_type": "code",
   "execution_count": 51,
   "id": "32702516",
   "metadata": {},
   "outputs": [
    {
     "data": {
      "text/plain": [
       "{0: DegreeDistribution(activity_dict={8: 118, 0: 3571, 58: 6, 6: 135, 47: 13, 16: 40, 32: 15, 13: 52, 7: 122, 57: 6, 1: 1401, 33: 12, 12: 52, 5: 191, 10: 76, 38: 8, 45: 5, 31: 17, 43: 7, 17: 31, 4: 286, 2: 685, 20: 24, 9: 98, 11: 71, 40: 8, 48: 9, 23: 19, 21: 24, 28: 20, 24: 23, 37: 10, 15: 46, 27: 16, 3: 406, 63: 1, 18: 42, 22: 27, 19: 33, 53: 5, 36: 14, 34: 13, 14: 53, 55: 3, 26: 19, 51: 5, 39: 10, 25: 20, 29: 12, 59: 1, 42: 6, 44: 6, 50: 4, 35: 6, 30: 9, 49: 3, 52: 6, 56: 6, 41: 5, 64: 1, 46: 3, 61: 2, 54: 3, 60: 1, 67: 2}),\n",
       " 1: DegreeDistribution(activity_dict={962: 1, 1909: 1, 1916: 1, 1357: 1, 1336: 1, 1165: 1, 1079: 1, 1470: 1}),\n",
       " 2: DegreeDistribution(activity_dict={3030: 1, 2912: 1}),\n",
       " 3: DegreeDistribution(activity_dict={84: 6, 69: 8, 191: 2, 244: 1, 59: 4, 112: 2, 115: 2, 174: 2, 159: 1, 228: 1, 61: 4, 168: 2, 65: 4, 111: 2, 103: 1, 73: 4, 80: 4, 94: 2, 63: 4, 194: 1, 99: 3, 86: 5, 140: 1, 276: 1, 251: 1, 126: 1, 81: 6, 79: 3, 68: 4, 216: 1, 74: 3, 287: 1, 134: 2, 229: 1, 116: 2, 273: 1, 231: 1, 169: 1, 101: 3, 170: 1, 119: 2, 98: 2, 70: 5, 97: 1, 56: 2, 248: 1, 221: 2, 106: 2, 160: 2, 64: 3, 245: 1, 53: 1, 190: 1, 132: 2, 82: 1, 240: 1, 60: 3, 93: 2, 195: 1, 109: 2, 166: 1, 202: 1, 181: 1, 57: 1, 85: 2, 147: 1, 135: 1, 102: 2, 90: 5, 54: 4, 71: 6, 104: 1, 100: 1, 123: 1, 114: 1, 76: 5, 66: 2, 118: 1, 255: 1, 95: 2, 96: 1, 156: 2, 75: 2, 173: 2, 87: 2, 131: 2, 78: 1, 162: 2, 286: 1, 149: 1, 58: 3, 91: 2, 122: 3, 138: 1, 172: 1, 184: 1, 237: 1, 72: 4, 198: 2, 133: 1, 187: 1, 185: 1, 50: 1, 83: 1, 92: 1, 199: 1, 88: 1, 271: 1, 150: 1, 183: 1, 274: 1, 145: 1, 139: 1, 49: 1, 67: 2, 105: 1, 110: 2, 144: 1, 189: 1, 204: 1, 278: 1, 177: 1, 193: 1, 62: 3, 117: 2, 259: 1, 265: 1}),\n",
       " 4: DegreeDistribution(activity_dict={494: 1, 600: 1, 430: 1, 794: 1, 329: 1, 472: 1, 537: 1, 322: 1, 302: 1, 332: 2, 858: 1, 312: 1, 715: 1, 379: 1, 904: 1, 601: 2, 780: 1, 576: 1, 426: 2, 339: 1, 479: 1, 362: 1, 652: 1, 323: 1, 418: 1, 411: 1, 364: 1, 704: 1, 326: 1, 313: 1, 324: 1, 349: 1, 328: 1, 415: 1, 471: 1, 407: 2, 501: 1, 422: 1, 342: 1, 511: 1, 729: 1, 453: 1, 439: 1, 387: 1, 598: 1, 371: 1})}"
      ]
     },
     "execution_count": 51,
     "metadata": {},
     "output_type": "execute_result"
    }
   ],
   "source": [
    "# create a DegreeDistribution object for the degee of total emails sent in each cluster\n",
    "sent_cluster_dist = dict()\n",
    "for cluster_num in range(n_clusters):\n",
    "    sent_cluster_dist[cluster_num] = dict()\n",
    "    \n",
    "for index, row in activity.iterrows():\n",
    "    cluster = row['cluster']\n",
    "    sent = row['Sent']\n",
    "    sent_cluster_dist[cluster][sent] = sent_cluster_dist[cluster].get(sent, 0) + 1\n",
    "    \n",
    "for cluster_num, sent_dist in sent_cluster_dist.items():\n",
    "    sent_cluster_dist[cluster_num] = DegreeDistribution(sent_dist)\n",
    "    \n",
    "sent_cluster_dist"
   ]
  },
  {
   "cell_type": "code",
   "execution_count": 54,
   "id": "cb0a0b48",
   "metadata": {},
   "outputs": [
    {
     "name": "stdout",
     "output_type": "stream",
     "text": [
      "[0.01327902 0.01674134 0.01674134 ... 0.         0.00057026 0.        ]\n"
     ]
    }
   ],
   "source": [
    "emails_sent = np.array([0] * len(sorted_random_recipients))\n",
    "for i, num_recipients in enumerate(sorted_random_recipients):\n",
    "    sample_cluster = np.random.choice(range(n_clusters), p=recipients_cluster_probs[num_recipients])\n",
    "    cluster_sent_dist = sent_cluster_dist[sample_cluster]\n",
    "    # the number of sent emails must be at least the number of recipients\n",
    "    filtered_sent_dist = cluster_sent_dist.get_dist_with_min_degree(min_degree=min(num_recipients, 1))\n",
    "    num_sent = np.random.choice(filtered_sent_dist.degrees, p=filtered_sent_dist.probabilities)\n",
    "    emails_sent[i] = num_sent\n",
    "    \n",
    "# normalise the distribution\n",
    "emails_sent = emails_sent / sum(emails_sent)\n",
    "print(emails_sent)"
   ]
  },
  {
   "cell_type": "code",
   "execution_count": null,
   "id": "c6ab65b6",
   "metadata": {},
   "outputs": [],
   "source": []
  }
 ],
 "metadata": {
  "kernelspec": {
   "display_name": "Python 3",
   "language": "python",
   "name": "python3"
  },
  "language_info": {
   "codemirror_mode": {
    "name": "ipython",
    "version": 3
   },
   "file_extension": ".py",
   "mimetype": "text/x-python",
   "name": "python",
   "nbconvert_exporter": "python",
   "pygments_lexer": "ipython3",
   "version": "3.11.5"
  }
 },
 "nbformat": 4,
 "nbformat_minor": 5
}
