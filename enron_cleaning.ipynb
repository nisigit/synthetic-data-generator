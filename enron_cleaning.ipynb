{
 "cells": [
  {
   "cell_type": "code",
   "metadata": {
    "ExecuteTime": {
     "end_time": "2024-04-21T12:29:18.812004Z",
     "start_time": "2024-04-21T12:29:18.324743Z"
    }
   },
   "source": [
    "import pandas as pd\n",
    "import enron_filters\n",
    "from enron_extractors import extract_sender, extract_recipients, extract_date, extract_subject, extract_message_id"
   ],
   "outputs": [],
   "execution_count": 1
  },
  {
   "cell_type": "code",
   "metadata": {
    "ExecuteTime": {
     "end_time": "2024-04-21T12:29:30.911165Z",
     "start_time": "2024-04-21T12:29:19.989692Z"
    }
   },
   "source": [
    "all_emails = pd.read_csv('./enron_emails.csv')\n",
    "all_emails = all_emails[all_emails['file'].apply(enron_filters.is_valid_folder) &\n",
    "                        all_emails['message'].apply(enron_filters.is_enron_msg)]\n",
    "all_emails.drop(['file'], axis=1, inplace=True)\n",
    "len(all_emails)"
   ],
   "outputs": [
    {
     "data": {
      "text/plain": [
       "194721"
      ]
     },
     "execution_count": 2,
     "metadata": {},
     "output_type": "execute_result"
    }
   ],
   "execution_count": 2
  },
  {
   "cell_type": "code",
   "metadata": {
    "ExecuteTime": {
     "end_time": "2024-04-21T12:30:12.749259Z",
     "start_time": "2024-04-21T12:29:37.052628Z"
    }
   },
   "source": [
    "# extracting other fields\n",
    "all_emails['sender'] = all_emails['message'].apply(extract_sender)\n",
    "all_emails['recipients'] = all_emails['message'].apply(extract_recipients)\n",
    "all_emails['date'] = all_emails['message'].apply(extract_date)\n",
    "all_emails['date'] = pd.to_datetime(all_emails['date'])\n",
    "all_emails['subject'] = all_emails['message'].apply(extract_subject)\n",
    "all_emails['message_id'] = all_emails['message'].apply(extract_message_id)\n",
    "all_emails.drop(['message'], axis=1, inplace=True)\n",
    "all_emails.head()"
   ],
   "outputs": [
    {
     "data": {
      "text/plain": [
       "                      sender  \\\n",
       "0  jeff.youngflesh@enron.com   \n",
       "1  caroline.abramo@enron.com   \n",
       "2     outlook.team@enron.com   \n",
       "3  jennifer.fraser@enron.com   \n",
       "4  caroline.abramo@enron.com   \n",
       "\n",
       "                                          recipients                date  \\\n",
       "0  [anthony.gilmore@enron.com, colleen.koenig@enr... 2000-11-27 01:49:00   \n",
       "1                           [mike.grigsby@enron.com] 2000-12-12 09:33:00   \n",
       "2  [joshua.wooten@enron.com, lee.wright@enron.com... 2001-05-11 08:56:00   \n",
       "3  [john.arnold@enron.com, david.botchlett@enron.... 2000-11-19 09:34:00   \n",
       "4      [john.arnold@enron.com, mike.maggi@enron.com] 2001-05-15 03:28:00   \n",
       "\n",
       "                                             subject  \\\n",
       "0  Invitation: EBS/GSS Meeting w/Bristol Babcock ...   \n",
       "1                                       Harvard Mgmt   \n",
       "2              4-URGENT - OWA Please print this now.   \n",
       "3                                     Fuel Switching   \n",
       "4                                   Guggenheim Event   \n",
       "\n",
       "                                      message_id  \n",
       "0  <29084893.1075849630138.JavaMail.evans@thyme>  \n",
       "1  <30248874.1075857584813.JavaMail.evans@thyme>  \n",
       "2  <13106809.1075857631374.JavaMail.evans@thyme>  \n",
       "3  <30840283.1075857585424.JavaMail.evans@thyme>  \n",
       "4   <4755072.1075857630791.JavaMail.evans@thyme>  "
      ],
      "text/html": [
       "<div>\n",
       "<style scoped>\n",
       "    .dataframe tbody tr th:only-of-type {\n",
       "        vertical-align: middle;\n",
       "    }\n",
       "\n",
       "    .dataframe tbody tr th {\n",
       "        vertical-align: top;\n",
       "    }\n",
       "\n",
       "    .dataframe thead th {\n",
       "        text-align: right;\n",
       "    }\n",
       "</style>\n",
       "<table border=\"1\" class=\"dataframe\">\n",
       "  <thead>\n",
       "    <tr style=\"text-align: right;\">\n",
       "      <th></th>\n",
       "      <th>sender</th>\n",
       "      <th>recipients</th>\n",
       "      <th>date</th>\n",
       "      <th>subject</th>\n",
       "      <th>message_id</th>\n",
       "    </tr>\n",
       "  </thead>\n",
       "  <tbody>\n",
       "    <tr>\n",
       "      <th>0</th>\n",
       "      <td>jeff.youngflesh@enron.com</td>\n",
       "      <td>[anthony.gilmore@enron.com, colleen.koenig@enr...</td>\n",
       "      <td>2000-11-27 01:49:00</td>\n",
       "      <td>Invitation: EBS/GSS Meeting w/Bristol Babcock ...</td>\n",
       "      <td>&lt;29084893.1075849630138.JavaMail.evans@thyme&gt;</td>\n",
       "    </tr>\n",
       "    <tr>\n",
       "      <th>1</th>\n",
       "      <td>caroline.abramo@enron.com</td>\n",
       "      <td>[mike.grigsby@enron.com]</td>\n",
       "      <td>2000-12-12 09:33:00</td>\n",
       "      <td>Harvard Mgmt</td>\n",
       "      <td>&lt;30248874.1075857584813.JavaMail.evans@thyme&gt;</td>\n",
       "    </tr>\n",
       "    <tr>\n",
       "      <th>2</th>\n",
       "      <td>outlook.team@enron.com</td>\n",
       "      <td>[joshua.wooten@enron.com, lee.wright@enron.com...</td>\n",
       "      <td>2001-05-11 08:56:00</td>\n",
       "      <td>4-URGENT - OWA Please print this now.</td>\n",
       "      <td>&lt;13106809.1075857631374.JavaMail.evans@thyme&gt;</td>\n",
       "    </tr>\n",
       "    <tr>\n",
       "      <th>3</th>\n",
       "      <td>jennifer.fraser@enron.com</td>\n",
       "      <td>[john.arnold@enron.com, david.botchlett@enron....</td>\n",
       "      <td>2000-11-19 09:34:00</td>\n",
       "      <td>Fuel Switching</td>\n",
       "      <td>&lt;30840283.1075857585424.JavaMail.evans@thyme&gt;</td>\n",
       "    </tr>\n",
       "    <tr>\n",
       "      <th>4</th>\n",
       "      <td>caroline.abramo@enron.com</td>\n",
       "      <td>[john.arnold@enron.com, mike.maggi@enron.com]</td>\n",
       "      <td>2001-05-15 03:28:00</td>\n",
       "      <td>Guggenheim Event</td>\n",
       "      <td>&lt;4755072.1075857630791.JavaMail.evans@thyme&gt;</td>\n",
       "    </tr>\n",
       "  </tbody>\n",
       "</table>\n",
       "</div>"
      ]
     },
     "execution_count": 3,
     "metadata": {},
     "output_type": "execute_result"
    }
   ],
   "execution_count": 3
  },
  {
   "cell_type": "code",
   "execution_count": 6,
   "metadata": {
    "ExecuteTime": {
     "end_time": "2024-04-03T23:40:59.958658Z",
     "start_time": "2024-04-03T23:40:59.904094Z"
    }
   },
   "outputs": [
    {
     "data": {
      "text/plain": [
       "114840"
      ]
     },
     "execution_count": 6,
     "metadata": {},
     "output_type": "execute_result"
    }
   ],
   "source": [
    "# all_emails = all_emails[all_emails['date'] > '1980-01-01']\n",
    "# all_emails = all_emails[all_emails['date'] < '2005-01-01']\n",
    "all_emails = all_emails[all_emails['date'] > '2001-01-01']\n",
    "all_emails = all_emails[all_emails['date'] < '2002-01-01']\n",
    "# all_emails = all_emails[all_emails['recipients'].apply(len) < 10]\n",
    "# all_emails = all_emails[all_emails['subject'].apply(lambda x: x != '')]\n",
    "all_emails.sort_values(by=['date'], inplace=True)\n",
    "len(all_emails)"
   ]
  },
  {
   "cell_type": "code",
   "execution_count": 7,
   "metadata": {
    "ExecuteTime": {
     "end_time": "2024-04-03T23:37:15.174099Z",
     "start_time": "2024-04-03T23:37:15.083526Z"
    }
   },
   "outputs": [
    {
     "data": {
      "text/html": [
       "<div>\n",
       "<style scoped>\n",
       "    .dataframe tbody tr th:only-of-type {\n",
       "        vertical-align: middle;\n",
       "    }\n",
       "\n",
       "    .dataframe tbody tr th {\n",
       "        vertical-align: top;\n",
       "    }\n",
       "\n",
       "    .dataframe thead th {\n",
       "        text-align: right;\n",
       "    }\n",
       "</style>\n",
       "<table border=\"1\" class=\"dataframe\">\n",
       "  <thead>\n",
       "    <tr style=\"text-align: right;\">\n",
       "      <th></th>\n",
       "      <th>sender</th>\n",
       "      <th>recipients</th>\n",
       "      <th>date</th>\n",
       "      <th>subject</th>\n",
       "      <th>message_id</th>\n",
       "    </tr>\n",
       "  </thead>\n",
       "  <tbody>\n",
       "    <tr>\n",
       "      <th>137399</th>\n",
       "      <td>chris.foster@enron.com</td>\n",
       "      <td>kim.ward@enron.com</td>\n",
       "      <td>2001-01-01 01:38:00</td>\n",
       "      <td>2001 natural gas forecast</td>\n",
       "      <td>&lt;29779853.1075851847407.JavaMail.evans@thyme&gt;</td>\n",
       "    </tr>\n",
       "    <tr>\n",
       "      <th>28206</th>\n",
       "      <td>jeffrey.porter@enron.com</td>\n",
       "      <td>ena.nominations@enron.com</td>\n",
       "      <td>2001-01-01 02:59:00</td>\n",
       "      <td>12/31 Actuals</td>\n",
       "      <td>&lt;14090786.1075848296609.JavaMail.evans@thyme&gt;</td>\n",
       "    </tr>\n",
       "    <tr>\n",
       "      <th>53054</th>\n",
       "      <td>sue.nord@enron.com</td>\n",
       "      <td>margo.reyna@enron.com</td>\n",
       "      <td>2001-01-01 04:29:00</td>\n",
       "      <td>Re: CA Quarterly Fee Statement</td>\n",
       "      <td>&lt;28595177.1075843766562.JavaMail.evans@thyme&gt;</td>\n",
       "    </tr>\n",
       "    <tr>\n",
       "      <th>52118</th>\n",
       "      <td>sue.nord@enron.com</td>\n",
       "      <td>tracy.cooper@enron.com barbara.hueter@enron.co...</td>\n",
       "      <td>2001-01-01 04:59:00</td>\n",
       "      <td>Re: Ohio Telecommunications Legislation</td>\n",
       "      <td>&lt;17528586.1075843766536.JavaMail.evans@thyme&gt;</td>\n",
       "    </tr>\n",
       "    <tr>\n",
       "      <th>34571</th>\n",
       "      <td>sheila.tweed@enron.com</td>\n",
       "      <td>travis.mccullough@enron.com mark.haedicke@enro...</td>\n",
       "      <td>2001-01-01 05:11:00</td>\n",
       "      <td>Commission Hearings on Rate Stabilization Plan...</td>\n",
       "      <td>&lt;20708722.1075853232986.JavaMail.evans@thyme&gt;</td>\n",
       "    </tr>\n",
       "  </tbody>\n",
       "</table>\n",
       "</div>"
      ],
      "text/plain": [
       "                          sender  \\\n",
       "137399    chris.foster@enron.com   \n",
       "28206   jeffrey.porter@enron.com   \n",
       "53054         sue.nord@enron.com   \n",
       "52118         sue.nord@enron.com   \n",
       "34571     sheila.tweed@enron.com   \n",
       "\n",
       "                                               recipients                date  \\\n",
       "137399                                 kim.ward@enron.com 2001-01-01 01:38:00   \n",
       "28206                           ena.nominations@enron.com 2001-01-01 02:59:00   \n",
       "53054                               margo.reyna@enron.com 2001-01-01 04:29:00   \n",
       "52118   tracy.cooper@enron.com barbara.hueter@enron.co... 2001-01-01 04:59:00   \n",
       "34571   travis.mccullough@enron.com mark.haedicke@enro... 2001-01-01 05:11:00   \n",
       "\n",
       "                                                  subject  \\\n",
       "137399                          2001 natural gas forecast   \n",
       "28206                                       12/31 Actuals   \n",
       "53054                      Re: CA Quarterly Fee Statement   \n",
       "52118             Re: Ohio Telecommunications Legislation   \n",
       "34571   Commission Hearings on Rate Stabilization Plan...   \n",
       "\n",
       "                                           message_id  \n",
       "137399  <29779853.1075851847407.JavaMail.evans@thyme>  \n",
       "28206   <14090786.1075848296609.JavaMail.evans@thyme>  \n",
       "53054   <28595177.1075843766562.JavaMail.evans@thyme>  \n",
       "52118   <17528586.1075843766536.JavaMail.evans@thyme>  \n",
       "34571   <20708722.1075853232986.JavaMail.evans@thyme>  "
      ]
     },
     "execution_count": 7,
     "metadata": {},
     "output_type": "execute_result"
    }
   ],
   "source": [
    "all_emails['recipients'] = all_emails['recipients'].apply(lambda x: ' '.join(x))\n",
    "all_emails.head()"
   ]
  },
  {
   "cell_type": "code",
   "execution_count": 35,
   "metadata": {
    "ExecuteTime": {
     "end_time": "2024-03-21T21:15:08.197729Z",
     "start_time": "2024-03-21T21:15:08.194405Z"
    }
   },
   "outputs": [],
   "source": [
    "# sender_dates = all_emails.groupby('sender')['date'].agg(['min', 'max'])\n",
    "# sender_dates['range'] = sender_dates['max'] - sender_dates['min']\n",
    "# sender_dates.sort_values(by=['range'], inplace=True)\n",
    "# active_senders = sender_dates[sender_dates['range'] >= pd.Timedelta(weeks=52)]\n",
    "# len(active_senders)"
   ]
  },
  {
   "cell_type": "code",
   "execution_count": 8,
   "metadata": {
    "ExecuteTime": {
     "end_time": "2024-04-03T23:38:43.320878Z",
     "start_time": "2024-04-03T23:38:43.298086Z"
    }
   },
   "outputs": [
    {
     "data": {
      "text/html": [
       "<div>\n",
       "<style scoped>\n",
       "    .dataframe tbody tr th:only-of-type {\n",
       "        vertical-align: middle;\n",
       "    }\n",
       "\n",
       "    .dataframe tbody tr th {\n",
       "        vertical-align: top;\n",
       "    }\n",
       "\n",
       "    .dataframe thead th {\n",
       "        text-align: right;\n",
       "    }\n",
       "</style>\n",
       "<table border=\"1\" class=\"dataframe\">\n",
       "  <thead>\n",
       "    <tr style=\"text-align: right;\">\n",
       "      <th></th>\n",
       "      <th>sender</th>\n",
       "      <th>recipients</th>\n",
       "      <th>date</th>\n",
       "      <th>subject</th>\n",
       "      <th>message_id</th>\n",
       "    </tr>\n",
       "  </thead>\n",
       "  <tbody>\n",
       "    <tr>\n",
       "      <th>137399</th>\n",
       "      <td>chris.foster@enron.com</td>\n",
       "      <td>kim.ward@enron.com</td>\n",
       "      <td>2001-01-01 01:38:00</td>\n",
       "      <td>2001 natural gas forecast</td>\n",
       "      <td>&lt;29779853.1075851847407.JavaMail.evans@thyme&gt;</td>\n",
       "    </tr>\n",
       "    <tr>\n",
       "      <th>28206</th>\n",
       "      <td>jeffrey.porter@enron.com</td>\n",
       "      <td>ena.nominations@enron.com</td>\n",
       "      <td>2001-01-01 02:59:00</td>\n",
       "      <td>12/31 Actuals</td>\n",
       "      <td>&lt;14090786.1075848296609.JavaMail.evans@thyme&gt;</td>\n",
       "    </tr>\n",
       "    <tr>\n",
       "      <th>53054</th>\n",
       "      <td>sue.nord@enron.com</td>\n",
       "      <td>margo.reyna@enron.com</td>\n",
       "      <td>2001-01-01 04:29:00</td>\n",
       "      <td>Re: CA Quarterly Fee Statement</td>\n",
       "      <td>&lt;28595177.1075843766562.JavaMail.evans@thyme&gt;</td>\n",
       "    </tr>\n",
       "    <tr>\n",
       "      <th>52118</th>\n",
       "      <td>sue.nord@enron.com</td>\n",
       "      <td>tracy.cooper@enron.com barbara.hueter@enron.co...</td>\n",
       "      <td>2001-01-01 04:59:00</td>\n",
       "      <td>Re: Ohio Telecommunications Legislation</td>\n",
       "      <td>&lt;17528586.1075843766536.JavaMail.evans@thyme&gt;</td>\n",
       "    </tr>\n",
       "    <tr>\n",
       "      <th>34571</th>\n",
       "      <td>sheila.tweed@enron.com</td>\n",
       "      <td>travis.mccullough@enron.com mark.haedicke@enro...</td>\n",
       "      <td>2001-01-01 05:11:00</td>\n",
       "      <td>Commission Hearings on Rate Stabilization Plan...</td>\n",
       "      <td>&lt;20708722.1075853232986.JavaMail.evans@thyme&gt;</td>\n",
       "    </tr>\n",
       "  </tbody>\n",
       "</table>\n",
       "</div>"
      ],
      "text/plain": [
       "                          sender  \\\n",
       "137399    chris.foster@enron.com   \n",
       "28206   jeffrey.porter@enron.com   \n",
       "53054         sue.nord@enron.com   \n",
       "52118         sue.nord@enron.com   \n",
       "34571     sheila.tweed@enron.com   \n",
       "\n",
       "                                               recipients                date  \\\n",
       "137399                                 kim.ward@enron.com 2001-01-01 01:38:00   \n",
       "28206                           ena.nominations@enron.com 2001-01-01 02:59:00   \n",
       "53054                               margo.reyna@enron.com 2001-01-01 04:29:00   \n",
       "52118   tracy.cooper@enron.com barbara.hueter@enron.co... 2001-01-01 04:59:00   \n",
       "34571   travis.mccullough@enron.com mark.haedicke@enro... 2001-01-01 05:11:00   \n",
       "\n",
       "                                                  subject  \\\n",
       "137399                          2001 natural gas forecast   \n",
       "28206                                       12/31 Actuals   \n",
       "53054                      Re: CA Quarterly Fee Statement   \n",
       "52118             Re: Ohio Telecommunications Legislation   \n",
       "34571   Commission Hearings on Rate Stabilization Plan...   \n",
       "\n",
       "                                           message_id  \n",
       "137399  <29779853.1075851847407.JavaMail.evans@thyme>  \n",
       "28206   <14090786.1075848296609.JavaMail.evans@thyme>  \n",
       "53054   <28595177.1075843766562.JavaMail.evans@thyme>  \n",
       "52118   <17528586.1075843766536.JavaMail.evans@thyme>  \n",
       "34571   <20708722.1075853232986.JavaMail.evans@thyme>  "
      ]
     },
     "execution_count": 8,
     "metadata": {},
     "output_type": "execute_result"
    }
   ],
   "source": [
    "# filter to get emails between 2000-10-16 and 2001-10-16\n",
    "# all_emails = all_emails[all_emails['date'].between('1998-01-01', '2002-12-31')]\n",
    "all_emails = all_emails[all_emails['date'].between('2001-01-01', '2002-01-01')]\n",
    "all_emails.head()"
   ]
  },
  {
   "cell_type": "code",
   "execution_count": 9,
   "metadata": {
    "ExecuteTime": {
     "end_time": "2024-04-03T23:38:44.048355Z",
     "start_time": "2024-04-03T23:38:44.043104Z"
    },
    "collapsed": false
   },
   "outputs": [
    {
     "data": {
      "text/plain": [
       "114840"
      ]
     },
     "execution_count": 9,
     "metadata": {},
     "output_type": "execute_result"
    }
   ],
   "source": [
    "len(all_emails)"
   ]
  },
  {
   "cell_type": "code",
   "execution_count": 11,
   "metadata": {
    "ExecuteTime": {
     "end_time": "2024-03-29T21:13:28.156577Z",
     "start_time": "2024-03-29T21:13:26.771849Z"
    }
   },
   "outputs": [],
   "source": [
    "#write to csv\n",
    "all_emails.to_csv('./shivie.csv', index=False)"
   ]
  },
  {
   "cell_type": "code",
   "execution_count": 9,
   "metadata": {
    "ExecuteTime": {
     "end_time": "2024-03-29T21:13:39.213545Z",
     "start_time": "2024-03-29T21:13:38.022018Z"
    }
   },
   "outputs": [],
   "source": [
    "# write to csv without message column\n",
    "all_emails.to_csv('./output/shivie_msg.csv', index=False, columns=['sender', 'recipients', 'date'])"
   ]
  },
  {
   "cell_type": "code",
   "execution_count": 12,
   "metadata": {
    "ExecuteTime": {
     "end_time": "2024-03-29T21:13:39.894074Z",
     "start_time": "2024-03-29T21:13:39.867782Z"
    },
    "collapsed": false
   },
   "outputs": [],
   "source": [
    "# show the head of the emails in sorted order\n",
    "all_emails.sort_values(by=['date'], inplace=True)"
   ]
  },
  {
   "cell_type": "code",
   "execution_count": 13,
   "metadata": {
    "ExecuteTime": {
     "end_time": "2024-03-29T21:13:40.802301Z",
     "start_time": "2024-03-29T21:13:40.794721Z"
    },
    "collapsed": false
   },
   "outputs": [
    {
     "data": {
      "text/html": [
       "<div>\n",
       "<style scoped>\n",
       "    .dataframe tbody tr th:only-of-type {\n",
       "        vertical-align: middle;\n",
       "    }\n",
       "\n",
       "    .dataframe tbody tr th {\n",
       "        vertical-align: top;\n",
       "    }\n",
       "\n",
       "    .dataframe thead th {\n",
       "        text-align: right;\n",
       "    }\n",
       "</style>\n",
       "<table border=\"1\" class=\"dataframe\">\n",
       "  <thead>\n",
       "    <tr style=\"text-align: right;\">\n",
       "      <th></th>\n",
       "      <th>sender</th>\n",
       "      <th>recipients</th>\n",
       "      <th>date</th>\n",
       "      <th>subject</th>\n",
       "      <th>message_id</th>\n",
       "    </tr>\n",
       "  </thead>\n",
       "  <tbody>\n",
       "    <tr>\n",
       "      <th>137399</th>\n",
       "      <td>chris.foster@enron.com</td>\n",
       "      <td>kim.ward@enron.com</td>\n",
       "      <td>2001-01-01 01:38:00</td>\n",
       "      <td>2001 natural gas forecast</td>\n",
       "      <td>&lt;29779853.1075851847407.JavaMail.evans@thyme&gt;</td>\n",
       "    </tr>\n",
       "    <tr>\n",
       "      <th>28206</th>\n",
       "      <td>jeffrey.porter@enron.com</td>\n",
       "      <td>ena.nominations@enron.com</td>\n",
       "      <td>2001-01-01 02:59:00</td>\n",
       "      <td>12/31 Actuals</td>\n",
       "      <td>&lt;14090786.1075848296609.JavaMail.evans@thyme&gt;</td>\n",
       "    </tr>\n",
       "    <tr>\n",
       "      <th>53054</th>\n",
       "      <td>sue.nord@enron.com</td>\n",
       "      <td>margo.reyna@enron.com</td>\n",
       "      <td>2001-01-01 04:29:00</td>\n",
       "      <td>Re: CA Quarterly Fee Statement</td>\n",
       "      <td>&lt;28595177.1075843766562.JavaMail.evans@thyme&gt;</td>\n",
       "    </tr>\n",
       "    <tr>\n",
       "      <th>52118</th>\n",
       "      <td>sue.nord@enron.com</td>\n",
       "      <td>tracy.cooper@enron.com barbara.hueter@enron.co...</td>\n",
       "      <td>2001-01-01 04:59:00</td>\n",
       "      <td>Re: Ohio Telecommunications Legislation</td>\n",
       "      <td>&lt;17528586.1075843766536.JavaMail.evans@thyme&gt;</td>\n",
       "    </tr>\n",
       "    <tr>\n",
       "      <th>34571</th>\n",
       "      <td>sheila.tweed@enron.com</td>\n",
       "      <td>travis.mccullough@enron.com mark.haedicke@enro...</td>\n",
       "      <td>2001-01-01 05:11:00</td>\n",
       "      <td>Commission Hearings on Rate Stabilization Plan...</td>\n",
       "      <td>&lt;20708722.1075853232986.JavaMail.evans@thyme&gt;</td>\n",
       "    </tr>\n",
       "  </tbody>\n",
       "</table>\n",
       "</div>"
      ],
      "text/plain": [
       "                          sender  \\\n",
       "137399    chris.foster@enron.com   \n",
       "28206   jeffrey.porter@enron.com   \n",
       "53054         sue.nord@enron.com   \n",
       "52118         sue.nord@enron.com   \n",
       "34571     sheila.tweed@enron.com   \n",
       "\n",
       "                                               recipients                date  \\\n",
       "137399                                 kim.ward@enron.com 2001-01-01 01:38:00   \n",
       "28206                           ena.nominations@enron.com 2001-01-01 02:59:00   \n",
       "53054                               margo.reyna@enron.com 2001-01-01 04:29:00   \n",
       "52118   tracy.cooper@enron.com barbara.hueter@enron.co... 2001-01-01 04:59:00   \n",
       "34571   travis.mccullough@enron.com mark.haedicke@enro... 2001-01-01 05:11:00   \n",
       "\n",
       "                                                  subject  \\\n",
       "137399                          2001 natural gas forecast   \n",
       "28206                                       12/31 Actuals   \n",
       "53054                      Re: CA Quarterly Fee Statement   \n",
       "52118             Re: Ohio Telecommunications Legislation   \n",
       "34571   Commission Hearings on Rate Stabilization Plan...   \n",
       "\n",
       "                                           message_id  \n",
       "137399  <29779853.1075851847407.JavaMail.evans@thyme>  \n",
       "28206   <14090786.1075848296609.JavaMail.evans@thyme>  \n",
       "53054   <28595177.1075843766562.JavaMail.evans@thyme>  \n",
       "52118   <17528586.1075843766536.JavaMail.evans@thyme>  \n",
       "34571   <20708722.1075853232986.JavaMail.evans@thyme>  "
      ]
     },
     "execution_count": 13,
     "metadata": {},
     "output_type": "execute_result"
    }
   ],
   "source": [
    "all_emails.head()"
   ]
  },
  {
   "cell_type": "code",
   "execution_count": null,
   "metadata": {
    "collapsed": false
   },
   "outputs": [],
   "source": []
  }
 ],
 "metadata": {
  "kernelspec": {
   "display_name": "enron",
   "language": "python",
   "name": "python3"
  },
  "language_info": {
   "codemirror_mode": {
    "name": "ipython",
    "version": 3
   },
   "file_extension": ".py",
   "mimetype": "text/x-python",
   "name": "python",
   "nbconvert_exporter": "python",
   "pygments_lexer": "ipython3",
   "version": "3.11.5"
  }
 },
 "nbformat": 4,
 "nbformat_minor": 2
}
