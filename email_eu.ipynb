{
 "cells": [
  {
   "cell_type": "code",
   "id": "initial_id",
   "metadata": {
    "collapsed": true
   },
   "source": [
    "import pandas as pd\n",
    "import numpy as np\n",
    "import matplotlib.pyplot as plt\n",
    "from matplotlib.lines import Line2D\n",
    "from sklearn.cluster import KMeans\n",
    "from scipy.stats import cauchy\n",
    "import powerlaw\n",
    "import networkx as nx\n",
    "import random\n",
    "from Person import Person\n",
    "from EnronEmail import EnronEmail\n",
    "from DegreeDistribution import DegreeDistribution"
   ],
   "outputs": [],
   "execution_count": null
  },
  {
   "metadata": {},
   "cell_type": "code",
   "source": [
    "# read email-EU/email-Eu-nverts.txt\n",
    "nverts = pd.read_csv('email-Eu/email-Eu-nverts.txt', sep=' ', header=None)\n",
    "simplices = pd.read_csv('email-Eu/email-Eu-simplices.txt', sep=' ', header=None)\n",
    "times = pd.read_csv('email-Eu/email-Eu-times.txt', sep=' ', header=None)"
   ],
   "id": "65c7d67715d70115",
   "outputs": [],
   "execution_count": null
  },
  {
   "metadata": {},
   "cell_type": "code",
   "source": "times",
   "id": "87125230f99d839",
   "outputs": [],
   "execution_count": null
  },
  {
   "metadata": {},
   "cell_type": "code",
   "source": "len(nverts), len(simplices), len(times)",
   "id": "220b4747dace002b",
   "outputs": [],
   "execution_count": null
  },
  {
   "metadata": {},
   "cell_type": "code",
   "source": [
    "# find the minimum time and maximum time\n",
    "min_time = times.min().min()\n",
    "max_time = times.max().max()\n",
    "min_time, max_time"
   ],
   "id": "9f5c05996f2196bb",
   "outputs": [],
   "execution_count": null
  },
  {
   "metadata": {},
   "cell_type": "code",
   "source": "diff = max_time - min_time",
   "id": "bb902a5a2151acd4",
   "outputs": [],
   "execution_count": null
  },
  {
   "metadata": {},
   "cell_type": "code",
   "source": [
    "eu_emails = {'sender': [], 'receiver': [], 'time': []}\n",
    "\n"
   ],
   "id": "ef68383d980f88a2",
   "outputs": [],
   "execution_count": null
  },
  {
   "metadata": {},
   "cell_type": "code",
   "source": "",
   "id": "7c092915d3bf8f1b",
   "outputs": [],
   "execution_count": null
  }
 ],
 "metadata": {
  "kernelspec": {
   "display_name": "Python 3",
   "language": "python",
   "name": "python3"
  },
  "language_info": {
   "codemirror_mode": {
    "name": "ipython",
    "version": 2
   },
   "file_extension": ".py",
   "mimetype": "text/x-python",
   "name": "python",
   "nbconvert_exporter": "python",
   "pygments_lexer": "ipython2",
   "version": "2.7.6"
  }
 },
 "nbformat": 4,
 "nbformat_minor": 5
}
